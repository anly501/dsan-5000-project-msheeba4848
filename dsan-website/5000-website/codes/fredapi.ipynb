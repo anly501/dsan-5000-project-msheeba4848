{
 "cells": [
  {
   "cell_type": "code",
   "execution_count": 9,
   "metadata": {},
   "outputs": [],
   "source": [
    "from fredapi import Fred\n",
    "import pandas as pd\n",
    "\n",
    "fred = Fred(api_key='10fbe66f8f62ad7f44097cca867bf01f')"
   ]
  },
  {
   "cell_type": "code",
   "execution_count": 10,
   "metadata": {},
   "outputs": [],
   "source": [
    "series_id_1 = 'GDP' # for GDP US\n",
    "series_id_2='GDPC1' # for Real Gross GDP\n",
    "series_id_3='W207RC1Q156SBEA' # Adjusted Saving (% of GNI)\n",
    "series_id_4='USAB6BLTT02STSAQ' # Current account balance (% of GDP)\n",
    "series_id_5='A019RE1Q156NBEA' # Export of Goods and Services as percentage of GDP\n",
    "series_id_6='MKTGNIUSA646NWDB' # GNI\n"
   ]
  },
  {
   "cell_type": "code",
   "execution_count": 11,
   "metadata": {},
   "outputs": [],
   "source": [
    "# Set the start and end dates where I need data from 1990 to 2023\n",
    "start_date = '1973'\n",
    "end_date = '2023'"
   ]
  },
  {
   "cell_type": "code",
   "execution_count": 13,
   "metadata": {},
   "outputs": [],
   "source": [
    "# Fetch the data\n",
    "gdp_u = fred.get_series(series_id_1, start_date, end_date)\n",
    "realgdp_u = fred.get_series(series_id_2, start_date, end_date)\n",
    "adjsavings_u = fred.get_series(series_id_3, start_date, end_date)\n",
    "currentaccbalance_u = fred.get_series(series_id_4, start_date, end_date)\n",
    "exportsofgoods_u = fred.get_series(series_id_5, start_date, end_date)\n",
    "gni_u= fred.get_series(series_id_6, start_date, end_date)"
   ]
  },
  {
   "cell_type": "code",
   "execution_count": 14,
   "metadata": {},
   "outputs": [
    {
     "name": "stdout",
     "output_type": "stream",
     "text": [
      "   Year        GDP\n",
      "0  1973  1425.3760\n",
      "1  1974  1545.2425\n",
      "2  1975  1684.9050\n",
      "3  1976  1873.4125\n",
      "4  1977  2081.8250\n"
     ]
    }
   ],
   "source": [
    "# for GDP\n",
    "df1= gdp_u.to_frame(name=('GDP'))\n",
    "annual_gdp_u = df1.resample('A').mean()\n",
    "annual_gdp_u['Year'] = annual_gdp_u.index.year\n",
    "annual_gdp_u=annual_gdp_u[['Year', 'GDP']]\n",
    "annual_gdp_u.reset_index(drop=True, inplace=True)\n",
    "print(annual_gdp_u.head(5))"
   ]
  },
  {
   "cell_type": "code",
   "execution_count": 15,
   "metadata": {},
   "outputs": [
    {
     "data": {
      "text/plain": [
       "1973-01-01    10.5\n",
       "1973-04-01    10.6\n",
       "1973-07-01    10.9\n",
       "1973-10-01    11.7\n",
       "1974-01-01    10.7\n",
       "              ... \n",
       "2022-01-01     1.9\n",
       "2022-04-01     1.8\n",
       "2022-07-01     1.7\n",
       "2022-10-01     0.7\n",
       "2023-01-01    -0.2\n",
       "Length: 201, dtype: float64"
      ]
     },
     "execution_count": 15,
     "metadata": {},
     "output_type": "execute_result"
    }
   ],
   "source": [
    "adjsavings_u"
   ]
  },
  {
   "cell_type": "code",
   "execution_count": 16,
   "metadata": {},
   "outputs": [
    {
     "data": {
      "text/html": [
       "<div>\n",
       "<style scoped>\n",
       "    .dataframe tbody tr th:only-of-type {\n",
       "        vertical-align: middle;\n",
       "    }\n",
       "\n",
       "    .dataframe tbody tr th {\n",
       "        vertical-align: top;\n",
       "    }\n",
       "\n",
       "    .dataframe thead th {\n",
       "        text-align: right;\n",
       "    }\n",
       "</style>\n",
       "<table border=\"1\" class=\"dataframe\">\n",
       "  <thead>\n",
       "    <tr style=\"text-align: right;\">\n",
       "      <th></th>\n",
       "      <th>Real GDP</th>\n",
       "      <th>Year</th>\n",
       "    </tr>\n",
       "  </thead>\n",
       "  <tbody>\n",
       "    <tr>\n",
       "      <th>0</th>\n",
       "      <td>6106.37050</td>\n",
       "      <td>1973</td>\n",
       "    </tr>\n",
       "    <tr>\n",
       "      <th>1</th>\n",
       "      <td>6073.36275</td>\n",
       "      <td>1974</td>\n",
       "    </tr>\n",
       "    <tr>\n",
       "      <th>2</th>\n",
       "      <td>6060.87525</td>\n",
       "      <td>1975</td>\n",
       "    </tr>\n",
       "    <tr>\n",
       "      <th>3</th>\n",
       "      <td>6387.43650</td>\n",
       "      <td>1976</td>\n",
       "    </tr>\n",
       "    <tr>\n",
       "      <th>4</th>\n",
       "      <td>6682.80450</td>\n",
       "      <td>1977</td>\n",
       "    </tr>\n",
       "    <tr>\n",
       "      <th>5</th>\n",
       "      <td>7052.71125</td>\n",
       "      <td>1978</td>\n",
       "    </tr>\n",
       "    <tr>\n",
       "      <th>6</th>\n",
       "      <td>7275.99925</td>\n",
       "      <td>1979</td>\n",
       "    </tr>\n",
       "    <tr>\n",
       "      <th>7</th>\n",
       "      <td>7257.31650</td>\n",
       "      <td>1980</td>\n",
       "    </tr>\n",
       "    <tr>\n",
       "      <th>8</th>\n",
       "      <td>7441.48500</td>\n",
       "      <td>1981</td>\n",
       "    </tr>\n",
       "    <tr>\n",
       "      <th>9</th>\n",
       "      <td>7307.31400</td>\n",
       "      <td>1982</td>\n",
       "    </tr>\n",
       "    <tr>\n",
       "      <th>10</th>\n",
       "      <td>7642.26550</td>\n",
       "      <td>1983</td>\n",
       "    </tr>\n",
       "    <tr>\n",
       "      <th>11</th>\n",
       "      <td>8195.29525</td>\n",
       "      <td>1984</td>\n",
       "    </tr>\n",
       "    <tr>\n",
       "      <th>12</th>\n",
       "      <td>8537.00375</td>\n",
       "      <td>1985</td>\n",
       "    </tr>\n",
       "    <tr>\n",
       "      <th>13</th>\n",
       "      <td>8832.61125</td>\n",
       "      <td>1986</td>\n",
       "    </tr>\n",
       "    <tr>\n",
       "      <th>14</th>\n",
       "      <td>9137.74475</td>\n",
       "      <td>1987</td>\n",
       "    </tr>\n",
       "    <tr>\n",
       "      <th>15</th>\n",
       "      <td>9519.42675</td>\n",
       "      <td>1988</td>\n",
       "    </tr>\n",
       "  </tbody>\n",
       "</table>\n",
       "</div>"
      ],
      "text/plain": [
       "      Real GDP  Year\n",
       "0   6106.37050  1973\n",
       "1   6073.36275  1974\n",
       "2   6060.87525  1975\n",
       "3   6387.43650  1976\n",
       "4   6682.80450  1977\n",
       "5   7052.71125  1978\n",
       "6   7275.99925  1979\n",
       "7   7257.31650  1980\n",
       "8   7441.48500  1981\n",
       "9   7307.31400  1982\n",
       "10  7642.26550  1983\n",
       "11  8195.29525  1984\n",
       "12  8537.00375  1985\n",
       "13  8832.61125  1986\n",
       "14  9137.74475  1987\n",
       "15  9519.42675  1988"
      ]
     },
     "execution_count": 16,
     "metadata": {},
     "output_type": "execute_result"
    }
   ],
   "source": [
    "# Real GDP\n",
    "df2= realgdp_u.to_frame(name=('Real GDP'))\n",
    "annual_realgdp_u = df2.resample('A').mean()\n",
    "annual_realgdp_u['Year'] = annual_realgdp_u.index.year\n",
    "annual_realgdp_u.reset_index(drop=True, inplace=True)\n",
    "annual_realgdp_u.head(16)\n"
   ]
  },
  {
   "cell_type": "code",
   "execution_count": 17,
   "metadata": {},
   "outputs": [
    {
     "data": {
      "text/html": [
       "<div>\n",
       "<style scoped>\n",
       "    .dataframe tbody tr th:only-of-type {\n",
       "        vertical-align: middle;\n",
       "    }\n",
       "\n",
       "    .dataframe tbody tr th {\n",
       "        vertical-align: top;\n",
       "    }\n",
       "\n",
       "    .dataframe thead th {\n",
       "        text-align: right;\n",
       "    }\n",
       "</style>\n",
       "<table border=\"1\" class=\"dataframe\">\n",
       "  <thead>\n",
       "    <tr style=\"text-align: right;\">\n",
       "      <th></th>\n",
       "      <th>Adjusted Savings</th>\n",
       "      <th>Year</th>\n",
       "    </tr>\n",
       "  </thead>\n",
       "  <tbody>\n",
       "    <tr>\n",
       "      <th>0</th>\n",
       "      <td>10.925</td>\n",
       "      <td>1973</td>\n",
       "    </tr>\n",
       "    <tr>\n",
       "      <th>1</th>\n",
       "      <td>9.200</td>\n",
       "      <td>1974</td>\n",
       "    </tr>\n",
       "  </tbody>\n",
       "</table>\n",
       "</div>"
      ],
      "text/plain": [
       "   Adjusted Savings  Year\n",
       "0            10.925  1973\n",
       "1             9.200  1974"
      ]
     },
     "execution_count": 17,
     "metadata": {},
     "output_type": "execute_result"
    }
   ],
   "source": [
    "# Adjusted Savings\n",
    "df3= adjsavings_u.to_frame(name=('Adjusted Savings'))\n",
    "annual_adjsavings_u = df3.resample('A').mean()\n",
    "annual_adjsavings_u['Year'] = annual_adjsavings_u.index.year\n",
    "annual_adjsavings_u.reset_index(drop=True, inplace=True)\n",
    "annual_adjsavings_u.head(2)"
   ]
  },
  {
   "cell_type": "code",
   "execution_count": 18,
   "metadata": {},
   "outputs": [
    {
     "data": {
      "text/html": [
       "<div>\n",
       "<style scoped>\n",
       "    .dataframe tbody tr th:only-of-type {\n",
       "        vertical-align: middle;\n",
       "    }\n",
       "\n",
       "    .dataframe tbody tr th {\n",
       "        vertical-align: top;\n",
       "    }\n",
       "\n",
       "    .dataframe thead th {\n",
       "        text-align: right;\n",
       "    }\n",
       "</style>\n",
       "<table border=\"1\" class=\"dataframe\">\n",
       "  <thead>\n",
       "    <tr style=\"text-align: right;\">\n",
       "      <th></th>\n",
       "      <th>Current Account Balance</th>\n",
       "      <th>Year</th>\n",
       "    </tr>\n",
       "  </thead>\n",
       "  <tbody>\n",
       "    <tr>\n",
       "      <th>0</th>\n",
       "      <td>0.492313</td>\n",
       "      <td>1973</td>\n",
       "    </tr>\n",
       "    <tr>\n",
       "      <th>1</th>\n",
       "      <td>0.129574</td>\n",
       "      <td>1974</td>\n",
       "    </tr>\n",
       "  </tbody>\n",
       "</table>\n",
       "</div>"
      ],
      "text/plain": [
       "   Current Account Balance  Year\n",
       "0                 0.492313  1973\n",
       "1                 0.129574  1974"
      ]
     },
     "execution_count": 18,
     "metadata": {},
     "output_type": "execute_result"
    }
   ],
   "source": [
    "# Current Account Balance % of GDP\n",
    "df4= currentaccbalance_u.to_frame(name=('Current Account Balance'))\n",
    "annual_currentaccbalance_u = df4.resample('A').mean()\n",
    "annual_currentaccbalance_u['Year'] = annual_currentaccbalance_u.index.year\n",
    "annual_currentaccbalance_u.reset_index(drop=True, inplace=True)\n",
    "annual_currentaccbalance_u.head(2)"
   ]
  },
  {
   "cell_type": "code",
   "execution_count": 19,
   "metadata": {},
   "outputs": [
    {
     "data": {
      "text/html": [
       "<div>\n",
       "<style scoped>\n",
       "    .dataframe tbody tr th:only-of-type {\n",
       "        vertical-align: middle;\n",
       "    }\n",
       "\n",
       "    .dataframe tbody tr th {\n",
       "        vertical-align: top;\n",
       "    }\n",
       "\n",
       "    .dataframe thead th {\n",
       "        text-align: right;\n",
       "    }\n",
       "</style>\n",
       "<table border=\"1\" class=\"dataframe\">\n",
       "  <thead>\n",
       "    <tr style=\"text-align: right;\">\n",
       "      <th></th>\n",
       "      <th>Exports of Goods and Services</th>\n",
       "      <th>Year</th>\n",
       "    </tr>\n",
       "  </thead>\n",
       "  <tbody>\n",
       "    <tr>\n",
       "      <th>0</th>\n",
       "      <td>0.275</td>\n",
       "      <td>1973</td>\n",
       "    </tr>\n",
       "    <tr>\n",
       "      <th>1</th>\n",
       "      <td>-0.050</td>\n",
       "      <td>1974</td>\n",
       "    </tr>\n",
       "  </tbody>\n",
       "</table>\n",
       "</div>"
      ],
      "text/plain": [
       "   Exports of Goods and Services  Year\n",
       "0                          0.275  1973\n",
       "1                         -0.050  1974"
      ]
     },
     "execution_count": 19,
     "metadata": {},
     "output_type": "execute_result"
    }
   ],
   "source": [
    "# Current Account Balance % of GDP\n",
    "df5= exportsofgoods_u.to_frame(name=('Exports of Goods and Services'))\n",
    "annual_exportsofgoods_u = df5.resample('A').mean()\n",
    "annual_exportsofgoods_u['Year'] = annual_exportsofgoods_u.index.year\n",
    "annual_exportsofgoods_u.reset_index(drop=True, inplace=True)\n",
    "annual_exportsofgoods_u.head(2)"
   ]
  },
  {
   "cell_type": "code",
   "execution_count": 20,
   "metadata": {},
   "outputs": [
    {
     "data": {
      "text/html": [
       "<div>\n",
       "<style scoped>\n",
       "    .dataframe tbody tr th:only-of-type {\n",
       "        vertical-align: middle;\n",
       "    }\n",
       "\n",
       "    .dataframe tbody tr th {\n",
       "        vertical-align: top;\n",
       "    }\n",
       "\n",
       "    .dataframe thead th {\n",
       "        text-align: right;\n",
       "    }\n",
       "</style>\n",
       "<table border=\"1\" class=\"dataframe\">\n",
       "  <thead>\n",
       "    <tr style=\"text-align: right;\">\n",
       "      <th></th>\n",
       "      <th>GNI</th>\n",
       "      <th>Year</th>\n",
       "    </tr>\n",
       "  </thead>\n",
       "  <tbody>\n",
       "    <tr>\n",
       "      <th>0</th>\n",
       "      <td>1.431848e+12</td>\n",
       "      <td>1973</td>\n",
       "    </tr>\n",
       "    <tr>\n",
       "      <th>1</th>\n",
       "      <td>1.553300e+12</td>\n",
       "      <td>1974</td>\n",
       "    </tr>\n",
       "    <tr>\n",
       "      <th>2</th>\n",
       "      <td>1.684554e+12</td>\n",
       "      <td>1975</td>\n",
       "    </tr>\n",
       "    <tr>\n",
       "      <th>3</th>\n",
       "      <td>1.869603e+12</td>\n",
       "      <td>1976</td>\n",
       "    </tr>\n",
       "    <tr>\n",
       "      <th>4</th>\n",
       "      <td>2.082670e+12</td>\n",
       "      <td>1977</td>\n",
       "    </tr>\n",
       "    <tr>\n",
       "      <th>5</th>\n",
       "      <td>2.349856e+12</td>\n",
       "      <td>1978</td>\n",
       "    </tr>\n",
       "    <tr>\n",
       "      <th>6</th>\n",
       "      <td>2.614202e+12</td>\n",
       "      <td>1979</td>\n",
       "    </tr>\n",
       "    <tr>\n",
       "      <th>7</th>\n",
       "      <td>2.847055e+12</td>\n",
       "      <td>1980</td>\n",
       "    </tr>\n",
       "    <tr>\n",
       "      <th>8</th>\n",
       "      <td>3.201886e+12</td>\n",
       "      <td>1981</td>\n",
       "    </tr>\n",
       "    <tr>\n",
       "      <th>9</th>\n",
       "      <td>3.371448e+12</td>\n",
       "      <td>1982</td>\n",
       "    </tr>\n",
       "  </tbody>\n",
       "</table>\n",
       "</div>"
      ],
      "text/plain": [
       "            GNI  Year\n",
       "0  1.431848e+12  1973\n",
       "1  1.553300e+12  1974\n",
       "2  1.684554e+12  1975\n",
       "3  1.869603e+12  1976\n",
       "4  2.082670e+12  1977\n",
       "5  2.349856e+12  1978\n",
       "6  2.614202e+12  1979\n",
       "7  2.847055e+12  1980\n",
       "8  3.201886e+12  1981\n",
       "9  3.371448e+12  1982"
      ]
     },
     "execution_count": 20,
     "metadata": {},
     "output_type": "execute_result"
    }
   ],
   "source": [
    "# GNI\n",
    "df6= gni_u.to_frame(name=('GNI'))\n",
    "annual_gni_u = df6.resample('A').mean()\n",
    "annual_gni_u['Year'] = annual_gni_u.index.year\n",
    "annual_gni_u.reset_index(drop=True, inplace=True)\n",
    "annual_gni_u.head(10)"
   ]
  },
  {
   "cell_type": "code",
   "execution_count": 21,
   "metadata": {},
   "outputs": [
    {
     "data": {
      "text/plain": [
       "Year                             0\n",
       "GDP                              0\n",
       "Real GDP                         0\n",
       "Adjusted Savings                 0\n",
       "Current Account Balance          0\n",
       "Exports of Goods and Services    0\n",
       "GNI                              1\n",
       "dtype: int64"
      ]
     },
     "execution_count": 21,
     "metadata": {},
     "output_type": "execute_result"
    }
   ],
   "source": [
    "merged_df= pd.merge(annual_gdp_u, annual_realgdp_u, how= 'outer', on= 'Year' )\n",
    "merged_df= pd.merge(merged_df, annual_adjsavings_u, how= 'outer', on= 'Year')\n",
    "merged_df= pd.merge(merged_df, annual_currentaccbalance_u, how= 'outer', on= 'Year' )\n",
    "merged_df= pd.merge(merged_df, annual_exportsofgoods_u, how= 'outer', on= 'Year' )\n",
    "merged_df= pd.merge(merged_df, annual_gni_u, how= 'outer', on= 'Year' )\n",
    "\n",
    "merged_df.isna().sum()"
   ]
  },
  {
   "cell_type": "code",
   "execution_count": 22,
   "metadata": {},
   "outputs": [
    {
     "data": {
      "text/plain": [
       "Year                             0\n",
       "GDP                              0\n",
       "Real GDP                         0\n",
       "Adjusted Savings                 0\n",
       "Current Account Balance          0\n",
       "Exports of Goods and Services    0\n",
       "GNI                              0\n",
       "dtype: int64"
      ]
     },
     "execution_count": 22,
     "metadata": {},
     "output_type": "execute_result"
    }
   ],
   "source": [
    "merged_df['GNI'] = merged_df['GNI'].fillna(merged_df['GNI'].mean())\n",
    "merged_df.isna().sum()"
   ]
  },
  {
   "cell_type": "code",
   "execution_count": 24,
   "metadata": {},
   "outputs": [],
   "source": [
    "merged_df.head(10)\n",
    "\n",
    "csv_file='../data/raw_fred_data_us.csv'\n",
    "merged_df.to_csv(csv_file, index=True)"
   ]
  },
  {
   "cell_type": "code",
   "execution_count": null,
   "metadata": {},
   "outputs": [
    {
     "data": {
      "text/html": [
       "<div>\n",
       "<style scoped>\n",
       "    .dataframe tbody tr th:only-of-type {\n",
       "        vertical-align: middle;\n",
       "    }\n",
       "\n",
       "    .dataframe tbody tr th {\n",
       "        vertical-align: top;\n",
       "    }\n",
       "\n",
       "    .dataframe thead th {\n",
       "        text-align: right;\n",
       "    }\n",
       "</style>\n",
       "<table border=\"1\" class=\"dataframe\">\n",
       "  <thead>\n",
       "    <tr style=\"text-align: right;\">\n",
       "      <th></th>\n",
       "      <th>Year</th>\n",
       "      <th>GDP</th>\n",
       "      <th>Real GDP</th>\n",
       "      <th>Adjusted Savings</th>\n",
       "      <th>Current Account Balance</th>\n",
       "      <th>Exports of Goods and Services</th>\n",
       "      <th>GNI</th>\n",
       "    </tr>\n",
       "  </thead>\n",
       "  <tbody>\n",
       "    <tr>\n",
       "      <th>count</th>\n",
       "      <td>51.000000</td>\n",
       "      <td>51.000000</td>\n",
       "      <td>51.000000</td>\n",
       "      <td>51.000000</td>\n",
       "      <td>51.000000</td>\n",
       "      <td>51.000000</td>\n",
       "      <td>5.100000e+01</td>\n",
       "    </tr>\n",
       "    <tr>\n",
       "      <th>mean</th>\n",
       "      <td>1998.000000</td>\n",
       "      <td>10487.486853</td>\n",
       "      <td>13148.741608</td>\n",
       "      <td>4.161765</td>\n",
       "      <td>-2.213121</td>\n",
       "      <td>-2.372549</td>\n",
       "      <td>1.023250e+13</td>\n",
       "    </tr>\n",
       "    <tr>\n",
       "      <th>std</th>\n",
       "      <td>14.866069</td>\n",
       "      <td>7054.335235</td>\n",
       "      <td>4980.312765</td>\n",
       "      <td>2.823656</td>\n",
       "      <td>1.676165</td>\n",
       "      <td>1.603280</td>\n",
       "      <td>6.750381e+12</td>\n",
       "    </tr>\n",
       "    <tr>\n",
       "      <th>min</th>\n",
       "      <td>1973.000000</td>\n",
       "      <td>1425.376000</td>\n",
       "      <td>6060.875250</td>\n",
       "      <td>-2.575000</td>\n",
       "      <td>-5.912146</td>\n",
       "      <td>-5.700000</td>\n",
       "      <td>1.431848e+12</td>\n",
       "    </tr>\n",
       "    <tr>\n",
       "      <th>25%</th>\n",
       "      <td>1985.500000</td>\n",
       "      <td>4459.306500</td>\n",
       "      <td>8684.807500</td>\n",
       "      <td>2.487500</td>\n",
       "      <td>-3.205764</td>\n",
       "      <td>-3.450000</td>\n",
       "      <td>4.413304e+12</td>\n",
       "    </tr>\n",
       "    <tr>\n",
       "      <th>50%</th>\n",
       "      <td>1998.000000</td>\n",
       "      <td>9062.816750</td>\n",
       "      <td>12924.875750</td>\n",
       "      <td>3.675000</td>\n",
       "      <td>-2.126816</td>\n",
       "      <td>-2.700000</td>\n",
       "      <td>9.135464e+12</td>\n",
       "    </tr>\n",
       "    <tr>\n",
       "      <th>75%</th>\n",
       "      <td>2010.500000</td>\n",
       "      <td>15324.351250</td>\n",
       "      <td>16921.080500</td>\n",
       "      <td>6.112500</td>\n",
       "      <td>-1.140441</td>\n",
       "      <td>-1.150000</td>\n",
       "      <td>1.494509e+13</td>\n",
       "    </tr>\n",
       "    <tr>\n",
       "      <th>max</th>\n",
       "      <td>2023.000000</td>\n",
       "      <td>26813.601000</td>\n",
       "      <td>22112.329000</td>\n",
       "      <td>10.925000</td>\n",
       "      <td>1.075657</td>\n",
       "      <td>0.950000</td>\n",
       "      <td>2.583890e+13</td>\n",
       "    </tr>\n",
       "  </tbody>\n",
       "</table>\n",
       "</div>"
      ],
      "text/plain": [
       "              Year           GDP      Real GDP  Adjusted Savings  \\\n",
       "count    51.000000     51.000000     51.000000         51.000000   \n",
       "mean   1998.000000  10487.486853  13148.741608          4.161765   \n",
       "std      14.866069   7054.335235   4980.312765          2.823656   \n",
       "min    1973.000000   1425.376000   6060.875250         -2.575000   \n",
       "25%    1985.500000   4459.306500   8684.807500          2.487500   \n",
       "50%    1998.000000   9062.816750  12924.875750          3.675000   \n",
       "75%    2010.500000  15324.351250  16921.080500          6.112500   \n",
       "max    2023.000000  26813.601000  22112.329000         10.925000   \n",
       "\n",
       "       Current Account Balance  Exports of Goods and Services           GNI  \n",
       "count                51.000000                      51.000000  5.100000e+01  \n",
       "mean                 -2.213121                      -2.372549  1.023250e+13  \n",
       "std                   1.676165                       1.603280  6.750381e+12  \n",
       "min                  -5.912146                      -5.700000  1.431848e+12  \n",
       "25%                  -3.205764                      -3.450000  4.413304e+12  \n",
       "50%                  -2.126816                      -2.700000  9.135464e+12  \n",
       "75%                  -1.140441                      -1.150000  1.494509e+13  \n",
       "max                   1.075657                       0.950000  2.583890e+13  "
      ]
     },
     "execution_count": 15,
     "metadata": {},
     "output_type": "execute_result"
    }
   ],
   "source": [
    "merged_df.describe()"
   ]
  },
  {
   "cell_type": "code",
   "execution_count": null,
   "metadata": {},
   "outputs": [
    {
     "name": "stdout",
     "output_type": "stream",
     "text": [
      "<class 'pandas.core.frame.DataFrame'>\n",
      "Int64Index: 51 entries, 0 to 50\n",
      "Data columns (total 7 columns):\n",
      " #   Column                         Non-Null Count  Dtype  \n",
      "---  ------                         --------------  -----  \n",
      " 0   Year                           51 non-null     int64  \n",
      " 1   GDP                            51 non-null     float64\n",
      " 2   Real GDP                       51 non-null     float64\n",
      " 3   Adjusted Savings               51 non-null     float64\n",
      " 4   Current Account Balance        51 non-null     float64\n",
      " 5   Exports of Goods and Services  51 non-null     float64\n",
      " 6   GNI                            51 non-null     float64\n",
      "dtypes: float64(6), int64(1)\n",
      "memory usage: 3.2 KB\n"
     ]
    }
   ],
   "source": [
    "merged_df.info()\n",
    "merged_df['Year']=pd.to_datetime(merged_df['Year'])"
   ]
  }
 ],
 "metadata": {
  "kernelspec": {
   "display_name": "base",
   "language": "python",
   "name": "python3"
  },
  "language_info": {
   "codemirror_mode": {
    "name": "ipython",
    "version": 3
   },
   "file_extension": ".py",
   "mimetype": "text/x-python",
   "name": "python",
   "nbconvert_exporter": "python",
   "pygments_lexer": "ipython3",
   "version": "3.10.9"
  },
  "orig_nbformat": 4
 },
 "nbformat": 4,
 "nbformat_minor": 2
}
