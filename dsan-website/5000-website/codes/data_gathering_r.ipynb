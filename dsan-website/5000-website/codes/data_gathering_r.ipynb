{
 "cells": [
  {
   "cell_type": "raw",
   "metadata": {},
   "source": [
    "---\n",
    "title:  \"Data Gathering - R\"\n",
    "author: \"Sheeba Moghal\"\n",
    "format:\n",
    "    html:\n",
    "        embed-resources: true\n",
    "        code-fold: true\n",
    "execute:\n",
    "    echo: true\n",
    "jupyter: python3\n",
    "---"
   ]
  },
  {
   "cell_type": "markdown",
   "metadata": {},
   "source": [
    "Since the entire nature of the data is focused on purely data that is quantitative in nature as we are attempting to understand the macro-economic nature of the BRICS, we need data that is retreived from a data bank consisting of a lot of columns. For this topic, the most reliable websites for data collection were either to physically search for the data or through the usage of APIs (Application Programming Interface)."
   ]
  },
  {
   "cell_type": "markdown",
   "metadata": {},
   "source": [
    "# Data Source "
   ]
  },
  {
   "cell_type": "markdown",
   "metadata": {},
   "source": [
    "For this project, the data is that is majorly required is numerical data. I am retrieving data through API’s and by downloading data from World Bank."
   ]
  },
  {
   "cell_type": "markdown",
   "metadata": {},
   "source": [
    "## Quantitative Data "
   ]
  },
  {
   "cell_type": "markdown",
   "metadata": {},
   "source": [
    "The data required for this project is a culmunation of macroeconomic and fiscal indicators of all the five emerging economics for which individual data has to be retrived using various sources."
   ]
  },
  {
   "cell_type": "markdown",
   "metadata": {},
   "source": [
    "### R API"
   ]
  },
  {
   "cell_type": "markdown",
   "metadata": {},
   "source": [
    "For R API, to retrieve more data about the US, R API, wbstats() API has been used.\n",
    "\n",
    "After the ‘wbstats’ library has been called, the series IDs are inserted and then the final data is merged. The data is being collected from 1974 to 2023. The wbstats API is a good source for socio-economic data which is useful for integration into webservices. "
   ]
  },
  {
   "cell_type": "code",
   "execution_count": 12,
   "metadata": {
    "vscode": {
     "languageId": "r"
    }
   },
   "outputs": [],
   "source": [
    "#install.packages(\"wbstats\")\n",
    "library(wbstats)\n",
    "library(dplyr)\n",
    "library(tibble)"
   ]
  },
  {
   "cell_type": "markdown",
   "metadata": {},
   "source": [
    "Since the majority of the data for analysis is being pulled from Python API, the World Bank API is used here to pull data of the United States for that we can utilise it for analysis and for cross-comparison during the exploratory data analysis."
   ]
  },
  {
   "cell_type": "code",
   "execution_count": null,
   "metadata": {
    "vscode": {
     "languageId": "r"
    }
   },
   "outputs": [],
   "source": [
    "# indicators to fetch\n",
    "indicator_a= (\"BN.KLT.DINV.CD\") #FDI Current Expenditure for the United States\n",
    "indicator_b= (\"NY.GDP.PCAP.KD.ZG\") # GDP per capita growth for the United States\n",
    "indicator_c= (\"NE.CON.GOVT.ZS\") # Government Final Consumption Expenditure for the United States\n",
    "indicator_d= (\"NE.EXP.GNFS.ZS\") # Imports of Goods and Services as a Percentage of GDP for the United States\n",
    "indicator_e= (\"FP.CPI.TOTL.ZG\") # Inflation (consumer prices) for the United States\n",
    "indicator_f= (\"FR.INR.RINR\") # Real Interest Rate for the United States\n",
    "indicator_g= (\"GC.DOD.TOTL.GD.ZS\") # Central Government Debt Total (% of GDP) for the United States\n",
    "indicator_h= (\"SL.UEM.TOTL.ZS\")  # Unemployment Rate for the United States\n",
    "indicator_i= (\"MS.MIL.XPND.GD.ZS\") # Military Expenditure for the United States"
   ]
  },
  {
   "cell_type": "code",
   "execution_count": null,
   "metadata": {
    "vscode": {
     "languageId": "r"
    }
   },
   "outputs": [],
   "source": [
    "# extracting data from 2000- 2023\n",
    "data1 <- wb(indicator = indicator_a, country = \"US\", startdate = 1973, enddate = 2023)\n",
    "data2 <- wb(indicator = indicator_b, country = \"US\", startdate = 1973, enddate = 2023)\n",
    "data3 <- wb(indicator = indicator_c, country = \"US\", startdate = 1973, enddate = 2023)\n",
    "data4 <- wb(indicator = indicator_d, country = \"US\", startdate = 1973, enddate = 2023)\n",
    "data5<- wb(indicator = indicator_e, country = \"US\", startdate = 1973, enddate = 2023)\n",
    "data6 <- wb(indicator = indicator_f, country = \"US\", startdate = 1973, enddate = 2023)\n",
    "data7 <- wb(indicator = indicator_g, country = \"US\", startdate = 1973, enddate = 2023)\n",
    "data8 <- wb(indicator = indicator_h, country = \"US\", startdate = 1973, enddate = 2023)\n",
    "data9 <- wb(indicator = indicator_i, country = \"US\", startdate = 1973, enddate = 2023)"
   ]
  },
  {
   "cell_type": "code",
   "execution_count": null,
   "metadata": {
    "vscode": {
     "languageId": "r"
    }
   },
   "outputs": [],
   "source": [
    "# dataframe\n",
    "data1= subset(data1, select= c(\"date\", \"value\"))\n",
    "colnames(data1)[colnames(data1) == \"value\"] <- \"FDI Current Exp\"\n",
    "data2=subset(data2, select= c(\"date\", \"value\"))\n",
    "colnames(data2)[colnames(data2) == \"value\"] <- \"GDP Per Capita Growth\"\n",
    "data3= subset(data3, select= c(\"date\", \"value\"))\n",
    "colnames(data3)[colnames(data3) == \"value\"] <- \"Government Final Consumption Expenditure\"\n",
    "data4= subset(data4, select=c(\"date\", \"value\"))\n",
    "colnames(data4)[colnames(data4) == \"value\"] <- \"Imports of Goods and Services\"\n",
    "data5= subset(data5, select= c(\"date\", \"value\"))\n",
    "colnames(data5)[colnames(data5) == \"value\"] <- \"Inflation (Consumer Prices)\"\n",
    "data6= subset(data6, select= c(\"date\", \"value\"))\n",
    "colnames(data6)[colnames(data6) == \"value\"] <- \"Real Interest Rate\"\n",
    "data7= subset(data7, select= c(\"date\", \"value\"))\n",
    "colnames(data7)[colnames(data7) == \"value\"] <- \"Central Government Debt\"\n",
    "data8= subset(data8, select= c(\"date\", \"value\"))\n",
    "colnames(data8)[colnames(data8) == \"value\"] <- \"Unemployement\"\n",
    "data9= subset(data9, select= c(\"date\", \"value\"))\n",
    "colnames(data9)[colnames(data9) == \"value\"] <- \"Military Expenditure\"\n",
    "\n",
    "# merging of the dataframe\n",
    "merged_df <- full_join(data1, data2, by = \"date\")\n",
    "merged_df <- full_join(merged_df, data3, by = \"date\")\n",
    "merged_df <- full_join(merged_df, data4, by = \"date\")\n",
    "merged_df <- full_join(merged_df, data5, by = \"date\")\n",
    "merged_df <- full_join(merged_df, data6, by = \"date\")\n",
    "merged_df <- full_join(merged_df, data7, by = \"date\")\n",
    "merged_df <- full_join(merged_df, data8, by = \"date\")\n",
    "merged_df <- full_join(merged_df, data9, by = \"date\")"
   ]
  },
  {
   "cell_type": "code",
   "execution_count": 15,
   "metadata": {
    "vscode": {
     "languageId": "r"
    }
   },
   "outputs": [
    {
     "data": {
      "text/html": [
       "<table class=\"dataframe\">\n",
       "<caption>A tibble: 6 × 10</caption>\n",
       "<thead>\n",
       "\t<tr><th scope=col>date</th><th scope=col>FDI Current Exp</th><th scope=col>GDP Per Capita Growth</th><th scope=col>Government Final Consumption Expenditure</th><th scope=col>Imports of Goods and Services</th><th scope=col>Inflation (Consumer Prices)</th><th scope=col>Real Interest Rate</th><th scope=col>Central Government Debt</th><th scope=col>Unemployement</th><th scope=col>Military Expenditure</th></tr>\n",
       "\t<tr><th scope=col>&lt;chr&gt;</th><th scope=col>&lt;dbl&gt;</th><th scope=col>&lt;dbl&gt;</th><th scope=col>&lt;dbl&gt;</th><th scope=col>&lt;dbl&gt;</th><th scope=col>&lt;dbl&gt;</th><th scope=col>&lt;dbl&gt;</th><th scope=col>&lt;dbl&gt;</th><th scope=col>&lt;dbl&gt;</th><th scope=col>&lt;dbl&gt;</th></tr>\n",
       "</thead>\n",
       "<tbody>\n",
       "\t<tr><td>2022</td><td> 3.81730e+10</td><td> 1.676971</td><td>      NA</td><td>      NA</td><td>8.002800</td><td>       NA</td><td>115.59759</td><td>3.611</td><td>3.454920</td></tr>\n",
       "\t<tr><td>2021</td><td>-9.90150e+10</td><td> 5.779548</td><td>14.38439</td><td>10.89273</td><td>4.697859</td><td>-1.189357</td><td>120.36337</td><td>5.350</td><td>3.457977</td></tr>\n",
       "\t<tr><td>2020</td><td> 1.48299e+11</td><td>-3.700953</td><td>14.90174</td><td>10.20213</td><td>1.233584</td><td> 2.210411</td><td>126.24359</td><td>8.050</td><td>3.696010</td></tr>\n",
       "\t<tr><td>2019</td><td>-2.01057e+11</td><td> 1.829668</td><td>14.07222</td><td>11.87247</td><td>1.812210</td><td> 3.427090</td><td>100.80504</td><td>3.670</td><td>3.434568</td></tr>\n",
       "\t<tr><td>2018</td><td>-3.45435e+11</td><td> 2.404868</td><td>13.96252</td><td>12.36099</td><td>2.442583</td><td> 2.441415</td><td> 99.06098</td><td>3.900</td><td>3.323866</td></tr>\n",
       "\t<tr><td>2017</td><td> 2.85900e+10</td><td> 1.597136</td><td>13.99863</td><td>12.26174</td><td>2.130110</td><td> 2.156099</td><td> 97.69294</td><td>4.360</td><td>3.320541</td></tr>\n",
       "</tbody>\n",
       "</table>\n"
      ],
      "text/latex": [
       "A tibble: 6 × 10\n",
       "\\begin{tabular}{llllllllll}\n",
       " date & FDI Current Exp & GDP Per Capita Growth & Government Final Consumption Expenditure & Imports of Goods and Services & Inflation (Consumer Prices) & Real Interest Rate & Central Government Debt & Unemployement & Military Expenditure\\\\\n",
       " <chr> & <dbl> & <dbl> & <dbl> & <dbl> & <dbl> & <dbl> & <dbl> & <dbl> & <dbl>\\\\\n",
       "\\hline\n",
       "\t 2022 &  3.81730e+10 &  1.676971 &       NA &       NA & 8.002800 &        NA & 115.59759 & 3.611 & 3.454920\\\\\n",
       "\t 2021 & -9.90150e+10 &  5.779548 & 14.38439 & 10.89273 & 4.697859 & -1.189357 & 120.36337 & 5.350 & 3.457977\\\\\n",
       "\t 2020 &  1.48299e+11 & -3.700953 & 14.90174 & 10.20213 & 1.233584 &  2.210411 & 126.24359 & 8.050 & 3.696010\\\\\n",
       "\t 2019 & -2.01057e+11 &  1.829668 & 14.07222 & 11.87247 & 1.812210 &  3.427090 & 100.80504 & 3.670 & 3.434568\\\\\n",
       "\t 2018 & -3.45435e+11 &  2.404868 & 13.96252 & 12.36099 & 2.442583 &  2.441415 &  99.06098 & 3.900 & 3.323866\\\\\n",
       "\t 2017 &  2.85900e+10 &  1.597136 & 13.99863 & 12.26174 & 2.130110 &  2.156099 &  97.69294 & 4.360 & 3.320541\\\\\n",
       "\\end{tabular}\n"
      ],
      "text/markdown": [
       "\n",
       "A tibble: 6 × 10\n",
       "\n",
       "| date &lt;chr&gt; | FDI Current Exp &lt;dbl&gt; | GDP Per Capita Growth &lt;dbl&gt; | Government Final Consumption Expenditure &lt;dbl&gt; | Imports of Goods and Services &lt;dbl&gt; | Inflation (Consumer Prices) &lt;dbl&gt; | Real Interest Rate &lt;dbl&gt; | Central Government Debt &lt;dbl&gt; | Unemployement &lt;dbl&gt; | Military Expenditure &lt;dbl&gt; |\n",
       "|---|---|---|---|---|---|---|---|---|---|\n",
       "| 2022 |  3.81730e+10 |  1.676971 |       NA |       NA | 8.002800 |        NA | 115.59759 | 3.611 | 3.454920 |\n",
       "| 2021 | -9.90150e+10 |  5.779548 | 14.38439 | 10.89273 | 4.697859 | -1.189357 | 120.36337 | 5.350 | 3.457977 |\n",
       "| 2020 |  1.48299e+11 | -3.700953 | 14.90174 | 10.20213 | 1.233584 |  2.210411 | 126.24359 | 8.050 | 3.696010 |\n",
       "| 2019 | -2.01057e+11 |  1.829668 | 14.07222 | 11.87247 | 1.812210 |  3.427090 | 100.80504 | 3.670 | 3.434568 |\n",
       "| 2018 | -3.45435e+11 |  2.404868 | 13.96252 | 12.36099 | 2.442583 |  2.441415 |  99.06098 | 3.900 | 3.323866 |\n",
       "| 2017 |  2.85900e+10 |  1.597136 | 13.99863 | 12.26174 | 2.130110 |  2.156099 |  97.69294 | 4.360 | 3.320541 |\n",
       "\n"
      ],
      "text/plain": [
       "  date FDI Current Exp GDP Per Capita Growth\n",
       "1 2022  3.81730e+10     1.676971            \n",
       "2 2021 -9.90150e+10     5.779548            \n",
       "3 2020  1.48299e+11    -3.700953            \n",
       "4 2019 -2.01057e+11     1.829668            \n",
       "5 2018 -3.45435e+11     2.404868            \n",
       "6 2017  2.85900e+10     1.597136            \n",
       "  Government Final Consumption Expenditure Imports of Goods and Services\n",
       "1       NA                                       NA                     \n",
       "2 14.38439                                 10.89273                     \n",
       "3 14.90174                                 10.20213                     \n",
       "4 14.07222                                 11.87247                     \n",
       "5 13.96252                                 12.36099                     \n",
       "6 13.99863                                 12.26174                     \n",
       "  Inflation (Consumer Prices) Real Interest Rate Central Government Debt\n",
       "1 8.002800                           NA          115.59759              \n",
       "2 4.697859                    -1.189357          120.36337              \n",
       "3 1.233584                     2.210411          126.24359              \n",
       "4 1.812210                     3.427090          100.80504              \n",
       "5 2.442583                     2.441415           99.06098              \n",
       "6 2.130110                     2.156099           97.69294              \n",
       "  Unemployement Military Expenditure\n",
       "1 3.611         3.454920            \n",
       "2 5.350         3.457977            \n",
       "3 8.050         3.696010            \n",
       "4 3.670         3.434568            \n",
       "5 3.900         3.323866            \n",
       "6 4.360         3.320541            "
      ]
     },
     "metadata": {},
     "output_type": "display_data"
    }
   ],
   "source": [
    "tibble::tibble(head(merged_df))"
   ]
  },
  {
   "cell_type": "markdown",
   "metadata": {},
   "source": [
    "For various reasons, gathering knowledge about the United States is critical for BRICS analysis. To begin, the United States is a key global economic powerhouse, and studying its economic indicators, such as FDI, GDP per capita growth, and government consumer expenditure, provides valuable insights into the worldwide economy. As one of the world's top importers and consumers, the United States has a significant impact on global trade dynamics, making it critical for measuring economic interdependence among the BRICS countries. Furthermore, the United States serves as a standard for several economic and financial variables, influencing global markets. Following indicators such as inflation, real interest rates, and government debt levels in the United States can help predict prospective economic trends and shocks, which can have substantial repercussions for BRICS countries. It also plays an important role in geopolitics and security, as seen by its military spending. Understanding the military environment of the United States is critical for BRICS states to analyse global security dynamics and make educated policy decisions."
   ]
  },
  {
   "cell_type": "markdown",
   "metadata": {},
   "source": [
    "# Sources "
   ]
  },
  {
   "cell_type": "markdown",
   "metadata": {},
   "source": [
    "1. The World Bank. (n.d.). wbstats: An R Package for Searching and Downloading Data from the World Bank API. Retrieved from https://cran.r-project.org/web/packages/wbstats/vignettes/wbstats.html\n",
    "Website:\n",
    "2. Wickham, H., & Müller, K. (n.d.). Tibble: Simple Data Frames. Retrieved from https://tibble.tidyverse.org/\n",
    "3. Roberts, J. T. (2011). Multipolarity and the new world (dis) order: US hegemonic decline and the fragmentation of the global climate regime. Global environmental change, 21(3), 776-784."
   ]
  }
 ],
 "metadata": {
  "kernelspec": {
   "display_name": "R",
   "language": "R",
   "name": "ir"
  },
  "language_info": {
   "codemirror_mode": "r",
   "file_extension": ".r",
   "mimetype": "text/x-r-source",
   "name": "R",
   "pygments_lexer": "r",
   "version": "4.3.1"
  },
  "orig_nbformat": 4
 },
 "nbformat": 4,
 "nbformat_minor": 2
}
