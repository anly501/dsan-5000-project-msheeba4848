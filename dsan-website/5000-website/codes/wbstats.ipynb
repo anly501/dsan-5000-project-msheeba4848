{
 "cells": [
  {
   "cell_type": "code",
   "execution_count": 1,
   "metadata": {
    "vscode": {
     "languageId": "r"
    }
   },
   "outputs": [
    {
     "name": "stderr",
     "output_type": "stream",
     "text": [
      "\n",
      "Attaching package: 'dplyr'\n",
      "\n",
      "\n",
      "The following objects are masked from 'package:stats':\n",
      "\n",
      "    filter, lag\n",
      "\n",
      "\n",
      "The following objects are masked from 'package:base':\n",
      "\n",
      "    intersect, setdiff, setequal, union\n",
      "\n",
      "\n"
     ]
    }
   ],
   "source": [
    "#install.packages(\"wbstats\")\n",
    "library(wbstats)\n",
    "library(dplyr)\n"
   ]
  },
  {
   "cell_type": "code",
   "execution_count": 2,
   "metadata": {
    "vscode": {
     "languageId": "r"
    }
   },
   "outputs": [],
   "source": [
    "# Specify the indicators you want to fetch\n",
    "indicator_a= (\"BN.KLT.DINV.CD\") #FDI Current Expenditure for the United States\n",
    "indicator_b= (\"NY.GDP.PCAP.KD.ZG\") # GDP per capita growth for the United States\n",
    "indicator_c= (\"NE.CON.GOVT.ZS\") # Government Final Consumption Expenditure for the United States\n",
    "indicator_d= (\"NE.EXP.GNFS.ZS\") # Imports of Goods and Services as a Percentage of GDP for the United States\n",
    "indicator_e= (\"FP.CPI.TOTL.ZG\") # Inflation (consumer prices) for the United States\n",
    "indicator_f= (\"FR.INR.RINR\") # Real Interest Rate for the United States\n",
    "indicator_g= (\"GC.DOD.TOTL.GD.ZS\") # Central Government Debt Total (% of GDP) for the United States\n",
    "indicator_h= (\"SL.UEM.TOTL.ZS\")  # Unemployment Rate for the United States\n",
    "indicator_i= (\"MS.MIL.XPND.GD.ZS\") # Military Expenditure for the United States\n"
   ]
  },
  {
   "cell_type": "code",
   "execution_count": 3,
   "metadata": {
    "vscode": {
     "languageId": "r"
    }
   },
   "outputs": [
    {
     "name": "stderr",
     "output_type": "stream",
     "text": [
      "Warning message:\n",
      "\"\u001b[1m\u001b[22m`wb()` was deprecated in wbstats 1.0.0.\n",
      "\u001b[36mi\u001b[39m Please use `wb_data()` instead.\"\n"
     ]
    }
   ],
   "source": [
    "data1 <- wb(indicator = indicator_a, country = \"US\", startdate = 1973, enddate = 2023)\n",
    "data2 <- wb(indicator = indicator_b, country = \"US\", startdate = 1973, enddate = 2023)\n",
    "data3 <- wb(indicator = indicator_c, country = \"US\", startdate = 1973, enddate = 2023)\n",
    "data4 <- wb(indicator = indicator_d, country = \"US\", startdate = 1973, enddate = 2023)\n",
    "data5<- wb(indicator = indicator_e, country = \"US\", startdate = 1973, enddate = 2023)\n",
    "data6 <- wb(indicator = indicator_f, country = \"US\", startdate = 1973, enddate = 2023)\n",
    "data7 <- wb(indicator = indicator_g, country = \"US\", startdate = 1973, enddate = 2023)\n",
    "data8 <- wb(indicator = indicator_h, country = \"US\", startdate = 1973, enddate = 2023)\n",
    "data9 <- wb(indicator = indicator_i, country = \"US\", startdate = 1973, enddate = 2023)\n"
   ]
  },
  {
   "cell_type": "code",
   "execution_count": 4,
   "metadata": {
    "vscode": {
     "languageId": "r"
    }
   },
   "outputs": [],
   "source": [
    "data1= subset(data1, select= c(\"date\", \"value\"))\n",
    "colnames(data1)[colnames(data1) == \"value\"] <- \"FDI Current Exp\"\n",
    "data2=subset(data2, select= c(\"date\", \"value\"))\n",
    "colnames(data2)[colnames(data2) == \"value\"] <- \"GDP Per Capita Growth\"\n",
    "data3= subset(data3, select= c(\"date\", \"value\"))\n",
    "colnames(data3)[colnames(data3) == \"value\"] <- \"Government Final Consumption Expenditure\"\n",
    "data4= subset(data4, select=c(\"date\", \"value\"))\n",
    "colnames(data4)[colnames(data4) == \"value\"] <- \"Imports of Goods and Services\"\n",
    "data5= subset(data5, select= c(\"date\", \"value\"))\n",
    "colnames(data5)[colnames(data5) == \"value\"] <- \"Inflation (Consumer Prices)\"\n",
    "data6= subset(data6, select= c(\"date\", \"value\"))\n",
    "colnames(data6)[colnames(data6) == \"value\"] <- \"Real Interest Rate\"\n",
    "data7= subset(data7, select= c(\"date\", \"value\"))\n",
    "colnames(data7)[colnames(data7) == \"value\"] <- \"Central Government Debt\"\n",
    "data8= subset(data8, select= c(\"date\", \"value\"))\n",
    "colnames(data8)[colnames(data8) == \"value\"] <- \"Unemployement\"\n",
    "data9= subset(data9, select= c(\"date\", \"value\"))\n",
    "colnames(data9)[colnames(data9) == \"value\"] <- \"Military Expenditure\"\n"
   ]
  },
  {
   "cell_type": "code",
   "execution_count": 5,
   "metadata": {
    "vscode": {
     "languageId": "r"
    }
   },
   "outputs": [],
   "source": [
    "# Merging the dataframes\n",
    "merged_df <- full_join(data1, data2, by = \"date\")\n",
    "merged_df <- full_join(merged_df, data3, by = \"date\")\n",
    "merged_df <- full_join(merged_df, data4, by = \"date\")\n",
    "merged_df <- full_join(merged_df, data5, by = \"date\")\n",
    "merged_df <- full_join(merged_df, data6, by = \"date\")\n",
    "merged_df <- full_join(merged_df, data7, by = \"date\")\n",
    "merged_df <- full_join(merged_df, data8, by = \"date\")\n",
    "merged_df <- full_join(merged_df, data9, by = \"date\")"
   ]
  },
  {
   "cell_type": "code",
   "execution_count": 6,
   "metadata": {
    "vscode": {
     "languageId": "r"
    }
   },
   "outputs": [],
   "source": [
    "# Extract the year from the Date object\n",
    "year <- format(date, \"%Y\")\n",
    "row.names(merged_df) <- merged_df$date"
   ]
  },
  {
   "cell_type": "code",
   "execution_count": 7,
   "metadata": {
    "vscode": {
     "languageId": "r"
    }
   },
   "outputs": [
    {
     "data": {
      "text/html": [
       "37"
      ],
      "text/latex": [
       "37"
      ],
      "text/markdown": [
       "37"
      ],
      "text/plain": [
       "[1] 37"
      ]
     },
     "metadata": {},
     "output_type": "display_data"
    }
   ],
   "source": [
    "# Checking missing value imputation\n",
    "sum(is.na(merged_df)) # There are 3 "
   ]
  },
  {
   "cell_type": "code",
   "execution_count": 8,
   "metadata": {
    "vscode": {
     "languageId": "r"
    }
   },
   "outputs": [
    {
     "name": "stderr",
     "output_type": "stream",
     "text": [
      "Warning message in mean.default(merged_df[[x]], na.rm = TRUE):\n",
      "\"argument is not numeric or logical: returning NA\"\n"
     ]
    }
   ],
   "source": [
    "# Using mean value imputation \n",
    "for (x in names(merged_df)) {\n",
    "  mean <- mean(merged_df[[x]], na.rm = TRUE)  # Calculate column mean ignoring NA\n",
    "  merged_df[[x]][is.na(merged_df[[x]])] <- mean    # Replace NA with column mean\n",
    "}"
   ]
  },
  {
   "cell_type": "code",
   "execution_count": 11,
   "metadata": {
    "vscode": {
     "languageId": "r"
    }
   },
   "outputs": [
    {
     "data": {
      "text/html": [
       "0"
      ],
      "text/latex": [
       "0"
      ],
      "text/markdown": [
       "0"
      ],
      "text/plain": [
       "[1] 0"
      ]
     },
     "metadata": {},
     "output_type": "display_data"
    }
   ],
   "source": [
    "sum(is.na(merged_df))"
   ]
  },
  {
   "cell_type": "code",
   "execution_count": 9,
   "metadata": {
    "vscode": {
     "languageId": "r"
    }
   },
   "outputs": [
    {
     "data": {
      "text/plain": [
       "     date           FDI Current Exp      GDP Per Capita Growth\n",
       " Length:50          Min.   :-3.454e+11   Min.   :-3.7010      \n",
       " Class :character   1st Qu.:-2.147e+10   1st Qu.: 0.9613      \n",
       " Mode  :character   Median : 3.926e+09   Median : 1.8884      \n",
       "                    Mean   : 2.372e+09   Mean   : 1.7361      \n",
       "                    3rd Qu.: 3.714e+10   3rd Qu.: 2.9180      \n",
       "                    Max.   : 1.773e+11   Max.   : 6.3122      \n",
       " Government Final Consumption Expenditure Imports of Goods and Services\n",
       " Min.   :13.96                            Min.   : 6.684               \n",
       " 1st Qu.:14.69                            1st Qu.: 8.558               \n",
       " Median :15.46                            Median : 9.860               \n",
       " Mean   :15.43                            Mean   :10.020               \n",
       " 3rd Qu.:16.06                            3rd Qu.:11.073               \n",
       " Max.   :17.61                            Max.   :13.644               \n",
       " Inflation (Consumer Prices) Real Interest Rate Central Government Debt\n",
       " Min.   :-0.3555             Min.   :-1.281     Min.   : 33.27         \n",
       " 1st Qu.: 2.1446             1st Qu.: 2.120     1st Qu.: 52.80         \n",
       " Median : 3.0928             Median : 3.715     Median : 69.31         \n",
       " Mean   : 4.0086             Mean   : 3.934     Mean   : 69.31         \n",
       " 3rd Qu.: 4.7947             3rd Qu.: 6.155     3rd Qu.: 82.68         \n",
       " Max.   :13.5492             Max.   : 8.595     Max.   :126.24         \n",
       " Unemployement   Military Expenditure\n",
       " Min.   :3.611   Min.   :3.086       \n",
       " 1st Qu.:5.130   1st Qu.:3.500       \n",
       " Median :5.838   Median :4.454       \n",
       " Mean   :5.838   Mean   :4.585       \n",
       " 3rd Qu.:5.838   3rd Qu.:5.502       \n",
       " Max.   :9.630   Max.   :6.814       "
      ]
     },
     "metadata": {},
     "output_type": "display_data"
    },
    {
     "data": {
      "text/html": [
       "'Date'"
      ],
      "text/latex": [
       "'Date'"
      ],
      "text/markdown": [
       "'Date'"
      ],
      "text/plain": [
       "[1] \"Date\""
      ]
     },
     "metadata": {},
     "output_type": "display_data"
    },
    {
     "name": "stdout",
     "output_type": "stream",
     "text": [
      "           date FDI Current Exp GDP Per Capita Growth\n",
      "1973 1973-11-03     7.41000e+09            4.64215574\n",
      "1974 1974-11-03     1.62000e+09           -1.44513434\n",
      "1975 1975-11-03     1.14200e+10           -1.18458141\n",
      "1976 1976-11-03     8.41000e+09            4.39146287\n",
      "1977 1977-11-03     8.36000e+09            3.57714671\n",
      "1978 1978-11-03     8.87000e+09            4.42298461\n",
      "1979 1979-11-03     1.66700e+10            2.03388706\n",
      "1980 1980-11-03     2.30000e+09           -1.20929826\n",
      "1981 1981-11-03    -1.55700e+10            1.53632028\n",
      "1982 1982-11-03    -1.34560e+10           -2.73456973\n",
      "1983 1983-11-03    -2.73000e+09            3.63197930\n",
      "1984 1984-11-03    -1.24100e+10            6.31216766\n",
      "1985 1985-11-03    -5.95000e+09            3.25065642\n",
      "1986 1986-11-03    -1.14220e+10            2.51088597\n",
      "1987 1987-11-03    -2.34380e+10            2.53862354\n",
      "1988 1988-11-03    -3.52090e+10            3.23541611\n",
      "1989 1989-11-03    -2.48000e+10            2.69816667\n",
      "1990 1990-11-03    -1.12900e+10            0.74148610\n",
      "1991 1991-11-03     1.47200e+10           -1.43420013\n",
      "1992 1992-11-03     2.84600e+10            2.09661277\n",
      "1993 1993-11-03     3.25700e+10            1.40570857\n",
      "1994 1994-11-03     3.40500e+10            2.76088230\n",
      "1995 1995-11-03     4.09800e+10            1.46871823\n",
      "1996 1996-11-03     5.36000e+09            2.57225920\n",
      "1997 1997-11-03    -7.70000e+08            3.19721205\n",
      "1998 1998-11-03    -3.63900e+10            3.27051107\n",
      "1999 1999-11-03    -6.49640e+10            3.59798502\n",
      "2000 2000-11-03    -1.62755e+11            2.92544098\n",
      "2001 2001-11-03    -2.64550e+10           -0.03991973\n",
      "2002 2002-11-03     6.79300e+10            0.75677405\n",
      "2003 2003-11-03     7.81120e+10            1.91648045\n",
      "2004 2004-11-03     1.60363e+11            2.89584778\n",
      "2005 2005-11-03    -8.97530e+10            2.53378411\n",
      "2006 2006-11-03    -1.46620e+10            1.79648633\n",
      "2007 2007-11-03     1.77277e+11            1.04493014\n",
      "2008 2008-11-03     2.49100e+09           -0.82036790\n",
      "2009 2009-11-03     1.51514e+11           -3.45001592\n",
      "2010 2010-11-03     8.57890e+10            1.86029168\n",
      "2011 2011-11-03     1.73119e+11            0.81451936\n",
      "2012 2012-11-03     1.26895e+11            1.53310204\n",
      "2013 2013-11-03     1.04665e+11            1.13869235\n",
      "2014 2014-11-03     1.35673e+11            1.54038065\n",
      "2015 2015-11-03    -2.09363e+11            1.95300412\n",
      "2016 2016-11-03    -1.74573e+11            0.93337536\n",
      "2017 2017-11-03     2.85900e+10            1.59713559\n",
      "2018 2018-11-03    -3.45435e+11            2.40486787\n",
      "2019 2019-11-03    -2.01057e+11            1.82966839\n",
      "2020 2020-11-03     1.48299e+11           -3.70095253\n",
      "2021 2021-11-03    -9.90150e+10            5.77954842\n",
      "2022 2022-11-03     3.81730e+10            1.67697130\n",
      "     Government Final Consumption Expenditure Imports of Goods and Services\n",
      "1973                                 16.77628                      6.683780\n",
      "1974                                 17.16267                      8.196122\n",
      "1975                                 17.61080                      8.232279\n",
      "1976                                 16.78798                      7.980893\n",
      "1977                                 16.38797                      7.654290\n",
      "1978                                 15.76672                      7.947061\n",
      "1979                                 15.40364                      8.759034\n",
      "1980                                 15.87684                      9.826455\n",
      "1981                                 15.81024                      9.517777\n",
      "1982                                 16.58385                      8.469733\n",
      "1983                                 16.38379                      7.622265\n",
      "1984                                 15.72038                      7.489078\n",
      "1985                                 15.91711                      6.988073\n",
      "1986                                 16.11460                      7.009255\n",
      "1987                                 16.00121                      7.495919\n",
      "1988                                 15.66817                      8.490524\n",
      "1989                                 15.62380                      8.938790\n",
      "1990                                 15.90077                      9.254732\n",
      "1991                                 16.31757                      9.660905\n",
      "1992                                 16.07869                      9.708915\n",
      "1993                                 15.64527                      9.547180\n",
      "1994                                 15.20605                      9.893147\n",
      "1995                                 14.94477                     10.639224\n",
      "1996                                 14.52832                     10.746636\n",
      "1997                                 14.22932                     11.119755\n",
      "1998                                 13.98690                     10.515261\n",
      "1999                                 14.03180                     10.309335\n",
      "2000                                 14.02395                     10.692777\n",
      "2001                                 14.53564                      9.703447\n",
      "2002                                 15.05904                      9.131382\n",
      "2003                                 15.24363                      9.035659\n",
      "2004                                 15.15831                      9.628750\n",
      "2005                                 15.04714                      9.982055\n",
      "2006                                 15.00445                     10.641386\n",
      "2007                                 15.18929                     11.463790\n",
      "2008                                 15.93407                     12.425847\n",
      "2009                                 16.80770                     10.932221\n",
      "2010                                 16.68584                     12.341361\n",
      "2011                                 16.09843                     13.563467\n",
      "2012                                 15.47584                     13.644049\n",
      "2013                                 15.03662                     13.578074\n",
      "2014                                 14.62196                     13.545959\n",
      "2015                                 14.33033                     12.460993\n",
      "2016                                 14.24494                     11.939539\n",
      "2017                                 13.99863                     12.261738\n",
      "2018                                 13.96252                     12.360989\n",
      "2019                                 14.07222                     11.872470\n",
      "2020                                 14.90174                     10.202126\n",
      "2021                                 14.38439                     10.892727\n",
      "2022                                 15.43433                     10.020352\n",
      "     Inflation (Consumer Prices) Real Interest Rate Central Government Debt\n",
      "1973                   6.1777601          2.4097353                69.31363\n",
      "1974                  11.0548048          1.6510645                69.31363\n",
      "1975                   9.1431469         -1.2814192                69.31363\n",
      "1976                   5.7448126          1.2668917                69.31363\n",
      "1977                   6.5016840          0.5750689                69.31363\n",
      "1978                   7.6309638          1.8899033                69.31363\n",
      "1979                  11.2544711          4.0345477                69.31363\n",
      "1980                  13.5492020          5.7163905                69.31363\n",
      "1981                  10.3347153          8.5946198                69.31363\n",
      "1982                   6.1314270          8.1773474                69.31363\n",
      "1983                   3.2124352          6.6181602                69.31363\n",
      "1984                   4.3005355          8.1410881                69.31363\n",
      "1985                   3.5456442          6.5633266                69.31363\n",
      "1986                   1.8980477          6.1938603                69.31363\n",
      "1987                   3.6645632          5.5922379                69.31363\n",
      "1988                   4.0777411          5.5903822                69.31363\n",
      "1989                   4.8270030          6.6906869                39.12840\n",
      "1990                   5.3979564          6.0397492                40.93394\n",
      "1991                   4.2349640          4.9153465                44.06160\n",
      "1992                   3.0288197          3.8842380                46.05014\n",
      "1993                   2.9516570          3.5456172                48.24614\n",
      "1994                   2.6074416          4.8983100                47.35348\n",
      "1995                   2.8054197          6.5939964                47.20954\n",
      "1996                   2.9312042          6.3240737                46.74177\n",
      "1997                   2.3376899          6.6033649                44.11747\n",
      "1998                   1.5522791          7.1481784                41.12915\n",
      "1999                   2.1880272          6.4934264                37.72728\n",
      "2000                   3.3768573          6.8134243                33.26765\n",
      "2001                   2.8261711          4.5658479                52.44368\n",
      "2002                   1.5860316          3.0686428                53.86251\n",
      "2003                   2.2700950          2.1073108                56.25040\n",
      "2004                   2.6772367          1.6123110                56.66229\n",
      "2005                   3.3927468          2.9605063                56.53885\n",
      "2006                   3.2259441          4.7260897                55.46734\n",
      "2007                   2.8526725          5.2067594                55.65993\n",
      "2008                   3.8391003          3.1099208                63.81513\n",
      "2009                  -0.3555463          2.5924290                75.84205\n",
      "2010                   1.6400434          2.0238855                84.96441\n",
      "2011                   3.1568416          1.1484252                89.54682\n",
      "2012                   2.0693373          1.3540752                93.64926\n",
      "2013                   1.4648327          1.4732543                95.53469\n",
      "2014                   1.6222230          1.3547758                95.76670\n",
      "2015                   0.1186271          2.2370755                96.42523\n",
      "2016                   1.2615832          2.4845303                98.50410\n",
      "2017                   2.1301100          2.1560991                97.69294\n",
      "2018                   2.4425833          2.4414150                99.06098\n",
      "2019                   1.8122101          3.4270899               100.80504\n",
      "2020                   1.2335844          2.2104107               126.24359\n",
      "2021                   4.6978589         -1.1893569               120.36337\n",
      "2022                   8.0027998          3.9337778               115.59759\n",
      "     Unemployement Military Expenditure\n",
      "1973      5.837531             5.893871\n",
      "1974      5.837531             5.954111\n",
      "1975      5.837531             5.622679\n",
      "1976      5.837531             5.191071\n",
      "1977      5.837531             5.155617\n",
      "1978      5.837531             4.943087\n",
      "1979      5.837531             4.951992\n",
      "1980      5.837531             5.153537\n",
      "1981      5.837531             5.646541\n",
      "1982      5.837531             6.814057\n",
      "1983      5.837531             6.321144\n",
      "1984      5.837531             6.236417\n",
      "1985      5.837531             6.453219\n",
      "1986      5.837531             6.626523\n",
      "1987      5.837531             6.420274\n",
      "1988      5.837531             6.071278\n",
      "1989      5.837531             5.871206\n",
      "1990      5.837531             5.605175\n",
      "1991      6.800000             4.883429\n",
      "1992      7.500000             4.970467\n",
      "1993      6.900000             4.604350\n",
      "1994      6.120000             4.215265\n",
      "1995      5.650000             3.860246\n",
      "1996      5.450000             3.554982\n",
      "1997      5.000000             3.405562\n",
      "1998      4.510000             3.201558\n",
      "1999      4.220000             3.085677\n",
      "2000      3.990000             3.112242\n",
      "2001      4.730000             3.123810\n",
      "2002      5.780000             3.447618\n",
      "2003      5.990000             3.827161\n",
      "2004      5.530000             4.016313\n",
      "2005      5.080000             4.089232\n",
      "2006      4.620000             4.041342\n",
      "2007      4.620000             4.073351\n",
      "2008      5.780000             4.446596\n",
      "2009      9.250000             4.875768\n",
      "2010      9.630000             4.904023\n",
      "2011      8.950000             4.822442\n",
      "2012      8.070000             4.461710\n",
      "2013      7.370000             4.032661\n",
      "2014      6.170000             3.690961\n",
      "2015      5.280000             3.481428\n",
      "2016      4.870000             3.422588\n",
      "2017      4.360000             3.320541\n",
      "2018      3.900000             3.323866\n",
      "2019      3.670000             3.434568\n",
      "2020      8.050000             3.696010\n",
      "2021      5.350000             3.457977\n",
      "2022      3.611000             3.454920\n"
     ]
    }
   ],
   "source": [
    "summary(merged_df) # Everything is in numerical except date\n",
    "merged_df$date <- as.Date(merged_df$date, format = \"%Y\")\n",
    "merged_df<- merged_df[rev(1:nrow(merged_df)), ]\n",
    "class(merged_df$date) # It is date.\n",
    "print(merged_df)"
   ]
  },
  {
   "cell_type": "code",
   "execution_count": 10,
   "metadata": {
    "vscode": {
     "languageId": "r"
    }
   },
   "outputs": [
    {
     "data": {
      "text/html": [
       "<table class=\"dataframe\">\n",
       "<caption>A data.frame: 6 × 10</caption>\n",
       "<thead>\n",
       "\t<tr><th></th><th scope=col>date</th><th scope=col>FDI Current Exp</th><th scope=col>GDP Per Capita Growth</th><th scope=col>Government Final Consumption Expenditure</th><th scope=col>Imports of Goods and Services</th><th scope=col>Inflation (Consumer Prices)</th><th scope=col>Real Interest Rate</th><th scope=col>Central Government Debt</th><th scope=col>Unemployement</th><th scope=col>Military Expenditure</th></tr>\n",
       "\t<tr><th></th><th scope=col>&lt;date&gt;</th><th scope=col>&lt;dbl&gt;</th><th scope=col>&lt;dbl&gt;</th><th scope=col>&lt;dbl&gt;</th><th scope=col>&lt;dbl&gt;</th><th scope=col>&lt;dbl&gt;</th><th scope=col>&lt;dbl&gt;</th><th scope=col>&lt;dbl&gt;</th><th scope=col>&lt;dbl&gt;</th><th scope=col>&lt;dbl&gt;</th></tr>\n",
       "</thead>\n",
       "<tbody>\n",
       "\t<tr><th scope=row>1973</th><td>1973-11-03</td><td>7.410e+09</td><td> 4.642156</td><td>16.77628</td><td>6.683780</td><td> 6.177760</td><td> 2.4097353</td><td>69.31363</td><td>5.837531</td><td>5.893871</td></tr>\n",
       "\t<tr><th scope=row>1974</th><td>1974-11-03</td><td>1.620e+09</td><td>-1.445134</td><td>17.16267</td><td>8.196122</td><td>11.054805</td><td> 1.6510645</td><td>69.31363</td><td>5.837531</td><td>5.954111</td></tr>\n",
       "\t<tr><th scope=row>1975</th><td>1975-11-03</td><td>1.142e+10</td><td>-1.184581</td><td>17.61080</td><td>8.232279</td><td> 9.143147</td><td>-1.2814192</td><td>69.31363</td><td>5.837531</td><td>5.622679</td></tr>\n",
       "\t<tr><th scope=row>1976</th><td>1976-11-03</td><td>8.410e+09</td><td> 4.391463</td><td>16.78798</td><td>7.980893</td><td> 5.744813</td><td> 1.2668917</td><td>69.31363</td><td>5.837531</td><td>5.191071</td></tr>\n",
       "\t<tr><th scope=row>1977</th><td>1977-11-03</td><td>8.360e+09</td><td> 3.577147</td><td>16.38797</td><td>7.654290</td><td> 6.501684</td><td> 0.5750689</td><td>69.31363</td><td>5.837531</td><td>5.155617</td></tr>\n",
       "\t<tr><th scope=row>1978</th><td>1978-11-03</td><td>8.870e+09</td><td> 4.422985</td><td>15.76672</td><td>7.947061</td><td> 7.630964</td><td> 1.8899033</td><td>69.31363</td><td>5.837531</td><td>4.943087</td></tr>\n",
       "</tbody>\n",
       "</table>\n"
      ],
      "text/latex": [
       "A data.frame: 6 × 10\n",
       "\\begin{tabular}{r|llllllllll}\n",
       "  & date & FDI Current Exp & GDP Per Capita Growth & Government Final Consumption Expenditure & Imports of Goods and Services & Inflation (Consumer Prices) & Real Interest Rate & Central Government Debt & Unemployement & Military Expenditure\\\\\n",
       "  & <date> & <dbl> & <dbl> & <dbl> & <dbl> & <dbl> & <dbl> & <dbl> & <dbl> & <dbl>\\\\\n",
       "\\hline\n",
       "\t1973 & 1973-11-03 & 7.410e+09 &  4.642156 & 16.77628 & 6.683780 &  6.177760 &  2.4097353 & 69.31363 & 5.837531 & 5.893871\\\\\n",
       "\t1974 & 1974-11-03 & 1.620e+09 & -1.445134 & 17.16267 & 8.196122 & 11.054805 &  1.6510645 & 69.31363 & 5.837531 & 5.954111\\\\\n",
       "\t1975 & 1975-11-03 & 1.142e+10 & -1.184581 & 17.61080 & 8.232279 &  9.143147 & -1.2814192 & 69.31363 & 5.837531 & 5.622679\\\\\n",
       "\t1976 & 1976-11-03 & 8.410e+09 &  4.391463 & 16.78798 & 7.980893 &  5.744813 &  1.2668917 & 69.31363 & 5.837531 & 5.191071\\\\\n",
       "\t1977 & 1977-11-03 & 8.360e+09 &  3.577147 & 16.38797 & 7.654290 &  6.501684 &  0.5750689 & 69.31363 & 5.837531 & 5.155617\\\\\n",
       "\t1978 & 1978-11-03 & 8.870e+09 &  4.422985 & 15.76672 & 7.947061 &  7.630964 &  1.8899033 & 69.31363 & 5.837531 & 4.943087\\\\\n",
       "\\end{tabular}\n"
      ],
      "text/markdown": [
       "\n",
       "A data.frame: 6 × 10\n",
       "\n",
       "| <!--/--> | date &lt;date&gt; | FDI Current Exp &lt;dbl&gt; | GDP Per Capita Growth &lt;dbl&gt; | Government Final Consumption Expenditure &lt;dbl&gt; | Imports of Goods and Services &lt;dbl&gt; | Inflation (Consumer Prices) &lt;dbl&gt; | Real Interest Rate &lt;dbl&gt; | Central Government Debt &lt;dbl&gt; | Unemployement &lt;dbl&gt; | Military Expenditure &lt;dbl&gt; |\n",
       "|---|---|---|---|---|---|---|---|---|---|---|\n",
       "| 1973 | 1973-11-03 | 7.410e+09 |  4.642156 | 16.77628 | 6.683780 |  6.177760 |  2.4097353 | 69.31363 | 5.837531 | 5.893871 |\n",
       "| 1974 | 1974-11-03 | 1.620e+09 | -1.445134 | 17.16267 | 8.196122 | 11.054805 |  1.6510645 | 69.31363 | 5.837531 | 5.954111 |\n",
       "| 1975 | 1975-11-03 | 1.142e+10 | -1.184581 | 17.61080 | 8.232279 |  9.143147 | -1.2814192 | 69.31363 | 5.837531 | 5.622679 |\n",
       "| 1976 | 1976-11-03 | 8.410e+09 |  4.391463 | 16.78798 | 7.980893 |  5.744813 |  1.2668917 | 69.31363 | 5.837531 | 5.191071 |\n",
       "| 1977 | 1977-11-03 | 8.360e+09 |  3.577147 | 16.38797 | 7.654290 |  6.501684 |  0.5750689 | 69.31363 | 5.837531 | 5.155617 |\n",
       "| 1978 | 1978-11-03 | 8.870e+09 |  4.422985 | 15.76672 | 7.947061 |  7.630964 |  1.8899033 | 69.31363 | 5.837531 | 4.943087 |\n",
       "\n"
      ],
      "text/plain": [
       "     date       FDI Current Exp GDP Per Capita Growth\n",
       "1973 1973-11-03 7.410e+09        4.642156            \n",
       "1974 1974-11-03 1.620e+09       -1.445134            \n",
       "1975 1975-11-03 1.142e+10       -1.184581            \n",
       "1976 1976-11-03 8.410e+09        4.391463            \n",
       "1977 1977-11-03 8.360e+09        3.577147            \n",
       "1978 1978-11-03 8.870e+09        4.422985            \n",
       "     Government Final Consumption Expenditure Imports of Goods and Services\n",
       "1973 16.77628                                 6.683780                     \n",
       "1974 17.16267                                 8.196122                     \n",
       "1975 17.61080                                 8.232279                     \n",
       "1976 16.78798                                 7.980893                     \n",
       "1977 16.38797                                 7.654290                     \n",
       "1978 15.76672                                 7.947061                     \n",
       "     Inflation (Consumer Prices) Real Interest Rate Central Government Debt\n",
       "1973  6.177760                    2.4097353         69.31363               \n",
       "1974 11.054805                    1.6510645         69.31363               \n",
       "1975  9.143147                   -1.2814192         69.31363               \n",
       "1976  5.744813                    1.2668917         69.31363               \n",
       "1977  6.501684                    0.5750689         69.31363               \n",
       "1978  7.630964                    1.8899033         69.31363               \n",
       "     Unemployement Military Expenditure\n",
       "1973 5.837531      5.893871            \n",
       "1974 5.837531      5.954111            \n",
       "1975 5.837531      5.622679            \n",
       "1976 5.837531      5.191071            \n",
       "1977 5.837531      5.155617            \n",
       "1978 5.837531      4.943087            "
      ]
     },
     "metadata": {},
     "output_type": "display_data"
    }
   ],
   "source": [
    "head(merged_df)"
   ]
  }
 ],
 "metadata": {
  "kernelspec": {
   "display_name": "R",
   "language": "R",
   "name": "ir"
  },
  "language_info": {
   "codemirror_mode": "r",
   "file_extension": ".r",
   "mimetype": "text/x-r-source",
   "name": "R",
   "pygments_lexer": "r",
   "version": "4.3.1"
  },
  "orig_nbformat": 4
 },
 "nbformat": 4,
 "nbformat_minor": 2
}
