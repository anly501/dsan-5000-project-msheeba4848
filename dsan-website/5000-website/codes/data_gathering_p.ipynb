{
 "cells": [
  {
   "cell_type": "raw",
   "metadata": {},
   "source": [
    "---\n",
    "title:  \"Data Gathering - Python\"\n",
    "author: \"Sheeba Moghal\"\n",
    "format:\n",
    "    html:\n",
    "        embed-resources: true\n",
    "        code-fold: true\n",
    "execute:\n",
    "    echo: true\n",
    "jupyter: python3\n",
    "---"
   ]
  },
  {
   "cell_type": "markdown",
   "metadata": {},
   "source": [
    "Since my major question focuses on gathering data from the BRICS nations, one of the initial problems faced was trying to find reliable sources to same basal columns for the five countries of Brazil, India, China, South Africa and Russia. \n",
    "\n",
    "Whilst finding the data for similar columns, one of the issues I had faced for, for instance, if China had information about Education, which was also one of the parameters I wanted to explore, South Africa's education did not have cut offs in data collection for primary, secondary and tertiary schools. If Adjusted National was calculated for Brazil, India's Net National Income wasn't properly adjusted. Hence, usage of API was indeed the best step forward as it helped calculated all the data points on an equal scale. \n"
   ]
  },
  {
   "cell_type": "markdown",
   "metadata": {},
   "source": [
    "# Data Source "
   ]
  },
  {
   "cell_type": "markdown",
   "metadata": {},
   "source": [
    "Since the data is that is majorly required is numerical data. I am retrieving data through API's and by downloading data from World Bank."
   ]
  },
  {
   "cell_type": "code",
   "execution_count": 22,
   "metadata": {},
   "outputs": [],
   "source": [
    "# from fred api\n",
    "from fredapi import Fred\n",
    "import pandas as pd\n",
    "from IPython.display import display\n",
    "from pprint import pprint\n",
    "import numpy as np\n",
    "import pandas as pd\n",
    "import matplotlib.pyplot as plt \n",
    "import seaborn as sns \n",
    "import nltk\n",
    "from sklearn.feature_extraction.text import CountVectorizer"
   ]
  },
  {
   "cell_type": "markdown",
   "metadata": {},
   "source": [
    "## Quantitative Data"
   ]
  },
  {
   "cell_type": "markdown",
   "metadata": {},
   "source": [
    "The data required for this project is a culmunation of macroeconomic and fiscal indicators of all the five emerging economics for which individual data has to be retrived using various sources."
   ]
  },
  {
   "cell_type": "markdown",
   "metadata": {},
   "source": [
    "### Python API - FRED API"
   ]
  },
  {
   "cell_type": "markdown",
   "metadata": {},
   "source": [
    "The Python API used for this project is the FRED API. The FRED-API is a web service that allows developers to create programmes and construct apps that retrieve statistical information about the economy from the FRED and ALFRED websites hosted by the Federal Reserve Bank of St. Louis' Economic Research Division using Python. \n",
    "\n",
    "Since we are using data of the 5 countries, it can be interesting to compare it with a hegemonic and the most powerful country in the world, The United States of America so using the FRED-API, you can clone few macroeconomic indicators from here. \n",
    "\n",
    "The FRED API has been called and the series IDs have been added to the data."
   ]
  },
  {
   "cell_type": "code",
   "execution_count": 18,
   "metadata": {},
   "outputs": [],
   "source": [
    "\n",
    "# start and end date\n",
    "start_date = '1973'\n",
    "end_date = '2023'\n",
    "fred = Fred(api_key='10fbe66f8f62ad7f44097cca867bf01f')"
   ]
  },
  {
   "cell_type": "markdown",
   "metadata": {},
   "source": [
    "Trying to retrive the second part of the US data which is useful during the exploratory data analysis"
   ]
  },
  {
   "cell_type": "code",
   "execution_count": 19,
   "metadata": {},
   "outputs": [],
   "source": [
    "# series required\n",
    "series_id_1 = 'GDP' # for GDP US\n",
    "series_id_2='GDPC1' # for Real Gross GDP\n",
    "series_id_3='W207RC1Q156SBEA' # Adjusted Saving (% of GNI)\n",
    "series_id_4='USAB6BLTT02STSAQ' # Current account balance (% of GDP)\n",
    "series_id_5='A019RE1Q156NBEA' # Export of Goods and Services as percentage of GDP\n",
    "series_id_6='MKTGNIUSA646NWDB' # GNI\n",
    "\n",
    "# Fetch the data\n",
    "gdp_u = fred.get_series(series_id_1, start_date, end_date)\n",
    "realgdp_u = fred.get_series(series_id_2, start_date, end_date)\n",
    "adjsavings_u = fred.get_series(series_id_3, start_date, end_date)\n",
    "currentaccbalance_u = fred.get_series(series_id_4, start_date, end_date)\n",
    "exportsofgoods_u = fred.get_series(series_id_5, start_date, end_date)\n",
    "gni_u= fred.get_series(series_id_6, start_date, end_date)"
   ]
  },
  {
   "cell_type": "code",
   "execution_count": 20,
   "metadata": {},
   "outputs": [
    {
     "name": "stdout",
     "output_type": "stream",
     "text": [
      "1973-01-01    1.43e+12\n",
      "1974-01-01    1.55e+12\n",
      "1975-01-01    1.68e+12\n",
      "1976-01-01    1.87e+12\n",
      "dtype: float64\n"
     ]
    }
   ],
   "source": [
    "print(gni_u.head(4))"
   ]
  },
  {
   "cell_type": "markdown",
   "metadata": {},
   "source": [
    "Since the data has been fetched like this using the 'get_series' function, the data was on basis of quarterly collected which is again regrouped and after pre-processing, this is how the data looks like."
   ]
  },
  {
   "cell_type": "code",
   "execution_count": 21,
   "metadata": {},
   "outputs": [
    {
     "data": {
      "text/html": [
       "<div>\n",
       "<style scoped>\n",
       "    .dataframe tbody tr th:only-of-type {\n",
       "        vertical-align: middle;\n",
       "    }\n",
       "\n",
       "    .dataframe tbody tr th {\n",
       "        vertical-align: top;\n",
       "    }\n",
       "\n",
       "    .dataframe thead th {\n",
       "        text-align: right;\n",
       "    }\n",
       "</style>\n",
       "<table border=\"1\" class=\"dataframe\">\n",
       "  <thead>\n",
       "    <tr style=\"text-align: right;\">\n",
       "      <th></th>\n",
       "      <th>Unnamed: 0</th>\n",
       "      <th>Year</th>\n",
       "      <th>GDP</th>\n",
       "      <th>Real GDP</th>\n",
       "      <th>Adjusted Savings</th>\n",
       "      <th>Current Account Balance</th>\n",
       "      <th>Exports of Goods and Services</th>\n",
       "      <th>GNI</th>\n",
       "    </tr>\n",
       "  </thead>\n",
       "  <tbody>\n",
       "    <tr>\n",
       "      <th>0</th>\n",
       "      <td>0</td>\n",
       "      <td>1973</td>\n",
       "      <td>1425.38</td>\n",
       "      <td>6106.37</td>\n",
       "      <td>10.93</td>\n",
       "      <td>0.49</td>\n",
       "      <td>0.28</td>\n",
       "      <td>1.43e+12</td>\n",
       "    </tr>\n",
       "    <tr>\n",
       "      <th>1</th>\n",
       "      <td>1</td>\n",
       "      <td>1974</td>\n",
       "      <td>1545.24</td>\n",
       "      <td>6073.36</td>\n",
       "      <td>9.20</td>\n",
       "      <td>0.13</td>\n",
       "      <td>-0.05</td>\n",
       "      <td>1.55e+12</td>\n",
       "    </tr>\n",
       "    <tr>\n",
       "      <th>2</th>\n",
       "      <td>2</td>\n",
       "      <td>1975</td>\n",
       "      <td>1684.90</td>\n",
       "      <td>6060.88</td>\n",
       "      <td>6.50</td>\n",
       "      <td>1.08</td>\n",
       "      <td>0.95</td>\n",
       "      <td>1.68e+12</td>\n",
       "    </tr>\n",
       "    <tr>\n",
       "      <th>3</th>\n",
       "      <td>3</td>\n",
       "      <td>1976</td>\n",
       "      <td>1873.41</td>\n",
       "      <td>6387.44</td>\n",
       "      <td>7.45</td>\n",
       "      <td>0.23</td>\n",
       "      <td>-0.05</td>\n",
       "      <td>1.87e+12</td>\n",
       "    </tr>\n",
       "    <tr>\n",
       "      <th>4</th>\n",
       "      <td>4</td>\n",
       "      <td>1977</td>\n",
       "      <td>2081.82</td>\n",
       "      <td>6682.80</td>\n",
       "      <td>8.12</td>\n",
       "      <td>-0.68</td>\n",
       "      <td>-1.12</td>\n",
       "      <td>2.08e+12</td>\n",
       "    </tr>\n",
       "    <tr>\n",
       "      <th>5</th>\n",
       "      <td>5</td>\n",
       "      <td>1978</td>\n",
       "      <td>2351.60</td>\n",
       "      <td>7052.71</td>\n",
       "      <td>9.38</td>\n",
       "      <td>-0.66</td>\n",
       "      <td>-1.12</td>\n",
       "      <td>2.35e+12</td>\n",
       "    </tr>\n",
       "    <tr>\n",
       "      <th>6</th>\n",
       "      <td>6</td>\n",
       "      <td>1979</td>\n",
       "      <td>2627.33</td>\n",
       "      <td>7276.00</td>\n",
       "      <td>9.20</td>\n",
       "      <td>-0.01</td>\n",
       "      <td>-0.88</td>\n",
       "      <td>2.61e+12</td>\n",
       "    </tr>\n",
       "    <tr>\n",
       "      <th>7</th>\n",
       "      <td>7</td>\n",
       "      <td>1980</td>\n",
       "      <td>2857.31</td>\n",
       "      <td>7257.32</td>\n",
       "      <td>7.05</td>\n",
       "      <td>0.07</td>\n",
       "      <td>-0.45</td>\n",
       "      <td>2.85e+12</td>\n",
       "    </tr>\n",
       "    <tr>\n",
       "      <th>8</th>\n",
       "      <td>8</td>\n",
       "      <td>1981</td>\n",
       "      <td>3207.04</td>\n",
       "      <td>7441.48</td>\n",
       "      <td>8.00</td>\n",
       "      <td>0.16</td>\n",
       "      <td>-0.38</td>\n",
       "      <td>3.20e+12</td>\n",
       "    </tr>\n",
       "    <tr>\n",
       "      <th>9</th>\n",
       "      <td>9</td>\n",
       "      <td>1982</td>\n",
       "      <td>3343.79</td>\n",
       "      <td>7307.31</td>\n",
       "      <td>5.62</td>\n",
       "      <td>-0.16</td>\n",
       "      <td>-0.60</td>\n",
       "      <td>3.37e+12</td>\n",
       "    </tr>\n",
       "    <tr>\n",
       "      <th>10</th>\n",
       "      <td>10</td>\n",
       "      <td>1983</td>\n",
       "      <td>3634.04</td>\n",
       "      <td>7642.27</td>\n",
       "      <td>4.28</td>\n",
       "      <td>-1.05</td>\n",
       "      <td>-1.43</td>\n",
       "      <td>3.61e+12</td>\n",
       "    </tr>\n",
       "    <tr>\n",
       "      <th>11</th>\n",
       "      <td>11</td>\n",
       "      <td>1984</td>\n",
       "      <td>4037.61</td>\n",
       "      <td>8195.30</td>\n",
       "      <td>7.03</td>\n",
       "      <td>-2.33</td>\n",
       "      <td>-2.52</td>\n",
       "      <td>4.03e+12</td>\n",
       "    </tr>\n",
       "    <tr>\n",
       "      <th>12</th>\n",
       "      <td>12</td>\n",
       "      <td>1985</td>\n",
       "      <td>4338.98</td>\n",
       "      <td>8537.00</td>\n",
       "      <td>5.60</td>\n",
       "      <td>-2.72</td>\n",
       "      <td>-2.65</td>\n",
       "      <td>4.31e+12</td>\n",
       "    </tr>\n",
       "    <tr>\n",
       "      <th>13</th>\n",
       "      <td>13</td>\n",
       "      <td>1986</td>\n",
       "      <td>4579.63</td>\n",
       "      <td>8832.61</td>\n",
       "      <td>4.00</td>\n",
       "      <td>-3.21</td>\n",
       "      <td>-2.88</td>\n",
       "      <td>4.52e+12</td>\n",
       "    </tr>\n",
       "    <tr>\n",
       "      <th>14</th>\n",
       "      <td>14</td>\n",
       "      <td>1987</td>\n",
       "      <td>4855.22</td>\n",
       "      <td>9137.74</td>\n",
       "      <td>4.53</td>\n",
       "      <td>-3.31</td>\n",
       "      <td>-3.00</td>\n",
       "      <td>4.83e+12</td>\n",
       "    </tr>\n",
       "  </tbody>\n",
       "</table>\n",
       "</div>"
      ],
      "text/plain": [
       "    Unnamed: 0  Year      GDP  Real GDP  Adjusted Savings  \\\n",
       "0            0  1973  1425.38   6106.37             10.93   \n",
       "1            1  1974  1545.24   6073.36              9.20   \n",
       "2            2  1975  1684.90   6060.88              6.50   \n",
       "3            3  1976  1873.41   6387.44              7.45   \n",
       "4            4  1977  2081.82   6682.80              8.12   \n",
       "5            5  1978  2351.60   7052.71              9.38   \n",
       "6            6  1979  2627.33   7276.00              9.20   \n",
       "7            7  1980  2857.31   7257.32              7.05   \n",
       "8            8  1981  3207.04   7441.48              8.00   \n",
       "9            9  1982  3343.79   7307.31              5.62   \n",
       "10          10  1983  3634.04   7642.27              4.28   \n",
       "11          11  1984  4037.61   8195.30              7.03   \n",
       "12          12  1985  4338.98   8537.00              5.60   \n",
       "13          13  1986  4579.63   8832.61              4.00   \n",
       "14          14  1987  4855.22   9137.74              4.53   \n",
       "\n",
       "    Current Account Balance  Exports of Goods and Services       GNI  \n",
       "0                      0.49                           0.28  1.43e+12  \n",
       "1                      0.13                          -0.05  1.55e+12  \n",
       "2                      1.08                           0.95  1.68e+12  \n",
       "3                      0.23                          -0.05  1.87e+12  \n",
       "4                     -0.68                          -1.12  2.08e+12  \n",
       "5                     -0.66                          -1.12  2.35e+12  \n",
       "6                     -0.01                          -0.88  2.61e+12  \n",
       "7                      0.07                          -0.45  2.85e+12  \n",
       "8                      0.16                          -0.38  3.20e+12  \n",
       "9                     -0.16                          -0.60  3.37e+12  \n",
       "10                    -1.05                          -1.43  3.61e+12  \n",
       "11                    -2.33                          -2.52  4.03e+12  \n",
       "12                    -2.72                          -2.65  4.31e+12  \n",
       "13                    -3.21                          -2.88  4.52e+12  \n",
       "14                    -3.31                          -3.00  4.83e+12  "
      ]
     },
     "metadata": {},
     "output_type": "display_data"
    }
   ],
   "source": [
    "df= pd.read_csv('../data/raw_fred_data_us.csv')\n",
    "\n",
    "display(df.head(15))"
   ]
  },
  {
   "cell_type": "markdown",
   "metadata": {},
   "source": [
    "## Textual Data"
   ]
  },
  {
   "cell_type": "markdown",
   "metadata": {},
   "source": [
    "Understanding textual data for BRICS is critical since it provides significant insights into each member country's socioeconomic and geopolitical landscape. Textual data analysis, such as documents, news stories, and social media, aids in uncovering hidden trends, identifying emerging difficulties, and gauging overall attitude within each country. This detailed understanding is essential for developing comprehensive plans, encouraging collaboration, and resolving common concerns."
   ]
  },
  {
   "cell_type": "markdown",
   "metadata": {},
   "source": [
    "### Python API"
   ]
  },
  {
   "cell_type": "markdown",
   "metadata": {},
   "source": [
    "Understanding the perspective of people on the emergence of BRICS is just as crucial, hence we need to ensure that the public opinions have also been catered and taken into consideration. For this, the REDDIT API for the subreddits have been used. REDDIT API with limited access helps us extract the subreddits for that specific day with the ragin subreddits. The Python PRAW has been used to retrieve the data."
   ]
  },
  {
   "cell_type": "code",
   "execution_count": 24,
   "metadata": {},
   "outputs": [
    {
     "name": "stderr",
     "output_type": "stream",
     "text": [
      "/var/folders/cm/1bq_zvw92w99j_5d1p5jq5v40000gn/T/ipykernel_25910/988797959.py:11: DeprecationWarning: Positional arguments for 'BaseListingMixin.top' will no longer be supported in PRAW 8.\n",
      "Call this function with 'time_filter' as a keyword argument.\n",
      "  for submission in reddit.subreddit(\"Brics\").top(\"all\"):\n"
     ]
    }
   ],
   "source": [
    "import praw\n",
    "from praw.models import MoreComments\n",
    "\n",
    "user_agent='Sheeba_Economic'\n",
    "reddit= praw.Reddit(\n",
    "    client_id=\"rszab0dBkcT7NdZr6MftpQ\",\n",
    "    client_secret=\"mBFjTSN3YXoSimkU7eZ1H0SoD-f2Yw\",\n",
    "    user_agent=user_agent)\n",
    "\n",
    "posts = []\n",
    "for submission in reddit.subreddit(\"Brics\").top(\"all\"):\n",
    "    for top_level_comment in submission.comments:\n",
    "        if isinstance(top_level_comment, praw.models.MoreComments):\n",
    "            continue\n",
    "        posts.append(top_level_comment.body)\n",
    "        \n",
    "df = pd.DataFrame(posts, columns=[\"body\"])"
   ]
  },
  {
   "cell_type": "code",
   "execution_count": 28,
   "metadata": {},
   "outputs": [
    {
     "data": {
      "text/html": [
       "<div>\n",
       "<style scoped>\n",
       "    .dataframe tbody tr th:only-of-type {\n",
       "        vertical-align: middle;\n",
       "    }\n",
       "\n",
       "    .dataframe tbody tr th {\n",
       "        vertical-align: top;\n",
       "    }\n",
       "\n",
       "    .dataframe thead th {\n",
       "        text-align: right;\n",
       "    }\n",
       "</style>\n",
       "<table border=\"1\" class=\"dataframe\">\n",
       "  <thead>\n",
       "    <tr style=\"text-align: right;\">\n",
       "      <th></th>\n",
       "      <th>body</th>\n",
       "    </tr>\n",
       "  </thead>\n",
       "  <tbody>\n",
       "    <tr>\n",
       "      <th>0</th>\n",
       "      <td>Burn him with his flag 🤬</td>\n",
       "    </tr>\n",
       "    <tr>\n",
       "      <th>1</th>\n",
       "      <td>This plan is to kill the Petro Dollar run and ...</td>\n",
       "    </tr>\n",
       "    <tr>\n",
       "      <th>2</th>\n",
       "      <td>It’s difficult to know what’s going to come ou...</td>\n",
       "    </tr>\n",
       "    <tr>\n",
       "      <th>3</th>\n",
       "      <td>There is a lot to unpack as to what BRICS woul...</td>\n",
       "    </tr>\n",
       "    <tr>\n",
       "      <th>4</th>\n",
       "      <td>Nice that you \"feel\" that way. That's what BRI...</td>\n",
       "    </tr>\n",
       "    <tr>\n",
       "      <th>5</th>\n",
       "      <td>Seems like there well ahead of schedule, they ...</td>\n",
       "    </tr>\n",
       "    <tr>\n",
       "      <th>6</th>\n",
       "      <td>Yeah, precisely. I fully explained this today ...</td>\n",
       "    </tr>\n",
       "    <tr>\n",
       "      <th>7</th>\n",
       "      <td>I watched a lecture at school that predicted t...</td>\n",
       "    </tr>\n",
       "    <tr>\n",
       "      <th>8</th>\n",
       "      <td>I think, and I hope, that it happens sooner, r...</td>\n",
       "    </tr>\n",
       "    <tr>\n",
       "      <th>9</th>\n",
       "      <td>It's supposed to happen in about a week hold o...</td>\n",
       "    </tr>\n",
       "    <tr>\n",
       "      <th>10</th>\n",
       "      <td>BRICS countries can't agree on anything why wo...</td>\n",
       "    </tr>\n",
       "    <tr>\n",
       "      <th>11</th>\n",
       "      <td>Any update on this?!</td>\n",
       "    </tr>\n",
       "    <tr>\n",
       "      <th>12</th>\n",
       "      <td>The BRICS currency will never be successfully ...</td>\n",
       "    </tr>\n",
       "    <tr>\n",
       "      <th>13</th>\n",
       "      <td>It will be discussed in August during the next...</td>\n",
       "    </tr>\n",
       "    <tr>\n",
       "      <th>14</th>\n",
       "      <td>I don't think that a currency is the solution....</td>\n",
       "    </tr>\n",
       "  </tbody>\n",
       "</table>\n",
       "</div>"
      ],
      "text/plain": [
       "                                                 body\n",
       "0                            Burn him with his flag 🤬\n",
       "1   This plan is to kill the Petro Dollar run and ...\n",
       "2   It’s difficult to know what’s going to come ou...\n",
       "3   There is a lot to unpack as to what BRICS woul...\n",
       "4   Nice that you \"feel\" that way. That's what BRI...\n",
       "5   Seems like there well ahead of schedule, they ...\n",
       "6   Yeah, precisely. I fully explained this today ...\n",
       "7   I watched a lecture at school that predicted t...\n",
       "8   I think, and I hope, that it happens sooner, r...\n",
       "9   It's supposed to happen in about a week hold o...\n",
       "10  BRICS countries can't agree on anything why wo...\n",
       "11                               Any update on this?!\n",
       "12  The BRICS currency will never be successfully ...\n",
       "13  It will be discussed in August during the next...\n",
       "14  I don't think that a currency is the solution...."
      ]
     },
     "metadata": {},
     "output_type": "display_data"
    }
   ],
   "source": [
    "display(df.head(15))\n"
   ]
  },
  {
   "cell_type": "markdown",
   "metadata": {},
   "source": [
    "Here, we can see that the data has a lot of cleaning to do, but this data in gist will help to understand the opinions of people since it has been pulled from the REDDIT API."
   ]
  }
 ],
 "metadata": {
  "kernelspec": {
   "display_name": "Python 3",
   "language": "python",
   "name": "python3"
  },
  "language_info": {
   "codemirror_mode": {
    "name": "ipython",
    "version": 3
   },
   "file_extension": ".py",
   "mimetype": "text/x-python",
   "name": "python",
   "nbconvert_exporter": "python",
   "pygments_lexer": "ipython3",
   "version": "3.10.9"
  },
  "orig_nbformat": 4
 },
 "nbformat": 4,
 "nbformat_minor": 2
}
