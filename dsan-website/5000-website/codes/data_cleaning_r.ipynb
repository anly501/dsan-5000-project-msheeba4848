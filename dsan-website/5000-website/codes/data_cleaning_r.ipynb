{
 "cells": [
  {
   "cell_type": "raw",
   "metadata": {},
   "source": [
    "---\n",
    "title:  \"Data Cleaning - R\"\n",
    "author: \"Sheeba Moghal\"\n",
    "format:\n",
    "    html:\n",
    "        embed-resources: true\n",
    "        code-fold: true\n",
    "execute:\n",
    "    echo: true\n",
    "jupyter: python3"
   ]
  },
  {
   "cell_type": "markdown",
   "metadata": {},
   "source": [
    "# Quantitative Data "
   ]
  },
  {
   "cell_type": "markdown",
   "metadata": {},
   "source": [
    "For quantitative data to be reliable and accurate, data cleaning is essential. It improves the integrity of statistical analysis by getting rid of mistakes, inconsistencies, and outliers. Precise modelling and decision-making are aided by clean data, which also helps to avoid skewed outcomes that may occur from errors or anomalies in the quantitative information. Since the data for R API is another half dataset of US' fiscal and economic indicators, cleaning will be done here."
   ]
  },
  {
   "cell_type": "code",
   "execution_count": 15,
   "metadata": {
    "vscode": {
     "languageId": "r"
    }
   },
   "outputs": [
    {
     "name": "stdout",
     "output_type": "stream",
     "text": [
      "  date FDI.Current.Exp GDP.Per.Capita.Growth\n",
      "1 2022     3.81730e+10              1.676971\n",
      "2 2021    -9.90150e+10              5.779548\n",
      "3 2020     1.48299e+11             -3.700953\n",
      "4 2019    -2.01057e+11              1.829668\n",
      "5 2018    -3.45435e+11              2.404868\n",
      "6 2017     2.85900e+10              1.597136\n",
      "  Government.Final.Consumption.Expenditure Imports.of.Goods.and.Services\n",
      "1                                       NA                            NA\n",
      "2                                 14.38439                      10.89273\n",
      "3                                 14.90174                      10.20213\n",
      "4                                 14.07222                      11.87247\n",
      "5                                 13.96252                      12.36099\n",
      "6                                 13.99863                      12.26174\n",
      "  Inflation..Consumer.Prices. Real.Interest.Rate Central.Government.Debt\n",
      "1                    8.002800                 NA               115.59759\n",
      "2                    4.697859          -1.189357               120.36337\n",
      "3                    1.233584           2.210411               126.24359\n",
      "4                    1.812210           3.427090               100.80504\n",
      "5                    2.442583           2.441415                99.06098\n",
      "6                    2.130110           2.156099                97.69294\n",
      "  Unemployement Military.Expenditure\n",
      "1         3.611             3.454920\n",
      "2         5.350             3.457977\n",
      "3         8.050             3.696010\n",
      "4         3.670             3.434568\n",
      "5         3.900             3.323866\n",
      "6         4.360             3.320541\n"
     ]
    },
    {
     "data": {
      "text/html": [
       "37"
      ],
      "text/latex": [
       "37"
      ],
      "text/markdown": [
       "37"
      ],
      "text/plain": [
       "[1] 37"
      ]
     },
     "metadata": {},
     "output_type": "display_data"
    }
   ],
   "source": [
    "library(dplyr)\n",
    "library(tibble)\n",
    "\n",
    "merged_df=read.csv('../data/csv_files_api/webstatraw.csv')\n",
    "print(head(merged_df))\n",
    "\n",
    "# Extract the year from the Date object\n",
    "year <- format(date, \"%Y\")\n",
    "row.names(merged_df) <- merged_df$date\n",
    "\n",
    "# Checking sum \n",
    "sum(is.na(merged_df)) # There are 37 missing values \n",
    "\n",
    "# Using mean value imputation \n",
    "for (x in names(merged_df)) {\n",
    "  mean <- mean(merged_df[[x]], na.rm = TRUE)  # Calculate column mean ignoring NA\n",
    "  merged_df[[x]][is.na(merged_df[[x]])] <- mean    # Replace NA with column mean\n",
    "}\n"
   ]
  },
  {
   "cell_type": "code",
   "execution_count": 16,
   "metadata": {
    "vscode": {
     "languageId": "r"
    }
   },
   "outputs": [
    {
     "data": {
      "text/html": [
       "0"
      ],
      "text/latex": [
       "0"
      ],
      "text/markdown": [
       "0"
      ],
      "text/plain": [
       "[1] 0"
      ]
     },
     "metadata": {},
     "output_type": "display_data"
    }
   ],
   "source": [
    "sum(is.na(merged_df))"
   ]
  },
  {
   "cell_type": "code",
   "execution_count": 17,
   "metadata": {
    "vscode": {
     "languageId": "r"
    }
   },
   "outputs": [
    {
     "data": {
      "text/html": [
       "0"
      ],
      "text/latex": [
       "0"
      ],
      "text/markdown": [
       "0"
      ],
      "text/plain": [
       "[1] 0"
      ]
     },
     "metadata": {},
     "output_type": "display_data"
    }
   ],
   "source": [
    "# Using mean value imputation \n",
    "for (x in names(merged_df)) {\n",
    "  mean <- mean(merged_df[[x]], na.rm = TRUE)  # Calculate column mean ignoring NA\n",
    "  merged_df[[x]][is.na(merged_df[[x]])] <- mean    # Replace NA with column mean\n",
    "}\n",
    "\n",
    "sum(is.na(merged_df))"
   ]
  },
  {
   "cell_type": "code",
   "execution_count": 18,
   "metadata": {
    "vscode": {
     "languageId": "r"
    }
   },
   "outputs": [
    {
     "data": {
      "text/plain": [
       "      date      FDI.Current.Exp      GDP.Per.Capita.Growth\n",
       " Min.   :1973   Min.   :-3.454e+11   Min.   :-3.7010      \n",
       " 1st Qu.:1985   1st Qu.:-2.147e+10   1st Qu.: 0.9613      \n",
       " Median :1998   Median : 3.926e+09   Median : 1.8884      \n",
       " Mean   :1998   Mean   : 2.372e+09   Mean   : 1.7361      \n",
       " 3rd Qu.:2010   3rd Qu.: 3.714e+10   3rd Qu.: 2.9180      \n",
       " Max.   :2022   Max.   : 1.773e+11   Max.   : 6.3122      \n",
       " Government.Final.Consumption.Expenditure Imports.of.Goods.and.Services\n",
       " Min.   :13.96                            Min.   : 6.684               \n",
       " 1st Qu.:14.69                            1st Qu.: 8.558               \n",
       " Median :15.46                            Median : 9.860               \n",
       " Mean   :15.43                            Mean   :10.020               \n",
       " 3rd Qu.:16.06                            3rd Qu.:11.073               \n",
       " Max.   :17.61                            Max.   :13.644               \n",
       " Inflation..Consumer.Prices. Real.Interest.Rate Central.Government.Debt\n",
       " Min.   :-0.3555             Min.   :-1.281     Min.   : 33.27         \n",
       " 1st Qu.: 2.1446             1st Qu.: 2.120     1st Qu.: 52.80         \n",
       " Median : 3.0928             Median : 3.715     Median : 69.31         \n",
       " Mean   : 4.0086             Mean   : 3.934     Mean   : 69.31         \n",
       " 3rd Qu.: 4.7947             3rd Qu.: 6.155     3rd Qu.: 82.68         \n",
       " Max.   :13.5492             Max.   : 8.595     Max.   :126.24         \n",
       " Unemployement   Military.Expenditure\n",
       " Min.   :3.611   Min.   :3.086       \n",
       " 1st Qu.:5.130   1st Qu.:3.500       \n",
       " Median :5.838   Median :4.454       \n",
       " Mean   :5.838   Mean   :4.585       \n",
       " 3rd Qu.:5.838   3rd Qu.:5.502       \n",
       " Max.   :9.630   Max.   :6.814       "
      ]
     },
     "metadata": {},
     "output_type": "display_data"
    },
    {
     "data": {
      "text/html": [
       "'Date'"
      ],
      "text/latex": [
       "'Date'"
      ],
      "text/markdown": [
       "'Date'"
      ],
      "text/plain": [
       "[1] \"Date\""
      ]
     },
     "metadata": {},
     "output_type": "display_data"
    }
   ],
   "source": [
    "summary(merged_df) # Everything is in numerical except date\n",
    "merged_df$date <- as.Date(merged_df$date, format = \"%Y\")\n",
    "merged_df<- merged_df[rev(1:nrow(merged_df)), ]\n",
    "class(merged_df$date) # It is date.\n"
   ]
  },
  {
   "cell_type": "markdown",
   "metadata": {},
   "source": [
    "Here, again, understanding the reason to impute is also very important. Imputing for casual inference does not make sense as you're introducing bias into your data points, however for predictive modelling, we need to impute due to which missing value has been imputed through mean. After the mean value imputation, the mean is zero. "
   ]
  },
  {
   "cell_type": "code",
   "execution_count": 19,
   "metadata": {
    "vscode": {
     "languageId": "r"
    }
   },
   "outputs": [],
   "source": [
    "df1= read.csv('../data/csv_files_api/raw_fred_data_us.csv')"
   ]
  },
  {
   "cell_type": "code",
   "execution_count": 20,
   "metadata": {
    "vscode": {
     "languageId": "r"
    }
   },
   "outputs": [
    {
     "data": {
      "text/html": [
       "<table class=\"dataframe\">\n",
       "<caption>A data.frame: 6 × 8</caption>\n",
       "<thead>\n",
       "\t<tr><th></th><th scope=col>X</th><th scope=col>Year</th><th scope=col>GDP</th><th scope=col>Real.GDP</th><th scope=col>Adjusted.Savings</th><th scope=col>Current.Account.Balance</th><th scope=col>Exports.of.Goods.and.Services</th><th scope=col>GNI</th></tr>\n",
       "\t<tr><th></th><th scope=col>&lt;int&gt;</th><th scope=col>&lt;int&gt;</th><th scope=col>&lt;dbl&gt;</th><th scope=col>&lt;dbl&gt;</th><th scope=col>&lt;dbl&gt;</th><th scope=col>&lt;dbl&gt;</th><th scope=col>&lt;dbl&gt;</th><th scope=col>&lt;dbl&gt;</th></tr>\n",
       "</thead>\n",
       "<tbody>\n",
       "\t<tr><th scope=row>1</th><td>0</td><td>1973</td><td>1425.376</td><td>6106.370</td><td>10.925</td><td> 0.4923130</td><td> 0.275</td><td>1.431848e+12</td></tr>\n",
       "\t<tr><th scope=row>2</th><td>1</td><td>1974</td><td>1545.243</td><td>6073.363</td><td> 9.200</td><td> 0.1295737</td><td>-0.050</td><td>1.553300e+12</td></tr>\n",
       "\t<tr><th scope=row>3</th><td>2</td><td>1975</td><td>1684.905</td><td>6060.875</td><td> 6.500</td><td> 1.0756567</td><td> 0.950</td><td>1.684554e+12</td></tr>\n",
       "\t<tr><th scope=row>4</th><td>3</td><td>1976</td><td>1873.412</td><td>6387.436</td><td> 7.450</td><td> 0.2338946</td><td>-0.050</td><td>1.869603e+12</td></tr>\n",
       "\t<tr><th scope=row>5</th><td>4</td><td>1977</td><td>2081.825</td><td>6682.805</td><td> 8.125</td><td>-0.6835400</td><td>-1.125</td><td>2.082670e+12</td></tr>\n",
       "\t<tr><th scope=row>6</th><td>5</td><td>1978</td><td>2351.599</td><td>7052.711</td><td> 9.375</td><td>-0.6612006</td><td>-1.125</td><td>2.349856e+12</td></tr>\n",
       "</tbody>\n",
       "</table>\n"
      ],
      "text/latex": [
       "A data.frame: 6 × 8\n",
       "\\begin{tabular}{r|llllllll}\n",
       "  & X & Year & GDP & Real.GDP & Adjusted.Savings & Current.Account.Balance & Exports.of.Goods.and.Services & GNI\\\\\n",
       "  & <int> & <int> & <dbl> & <dbl> & <dbl> & <dbl> & <dbl> & <dbl>\\\\\n",
       "\\hline\n",
       "\t1 & 0 & 1973 & 1425.376 & 6106.370 & 10.925 &  0.4923130 &  0.275 & 1.431848e+12\\\\\n",
       "\t2 & 1 & 1974 & 1545.243 & 6073.363 &  9.200 &  0.1295737 & -0.050 & 1.553300e+12\\\\\n",
       "\t3 & 2 & 1975 & 1684.905 & 6060.875 &  6.500 &  1.0756567 &  0.950 & 1.684554e+12\\\\\n",
       "\t4 & 3 & 1976 & 1873.412 & 6387.436 &  7.450 &  0.2338946 & -0.050 & 1.869603e+12\\\\\n",
       "\t5 & 4 & 1977 & 2081.825 & 6682.805 &  8.125 & -0.6835400 & -1.125 & 2.082670e+12\\\\\n",
       "\t6 & 5 & 1978 & 2351.599 & 7052.711 &  9.375 & -0.6612006 & -1.125 & 2.349856e+12\\\\\n",
       "\\end{tabular}\n"
      ],
      "text/markdown": [
       "\n",
       "A data.frame: 6 × 8\n",
       "\n",
       "| <!--/--> | X &lt;int&gt; | Year &lt;int&gt; | GDP &lt;dbl&gt; | Real.GDP &lt;dbl&gt; | Adjusted.Savings &lt;dbl&gt; | Current.Account.Balance &lt;dbl&gt; | Exports.of.Goods.and.Services &lt;dbl&gt; | GNI &lt;dbl&gt; |\n",
       "|---|---|---|---|---|---|---|---|---|\n",
       "| 1 | 0 | 1973 | 1425.376 | 6106.370 | 10.925 |  0.4923130 |  0.275 | 1.431848e+12 |\n",
       "| 2 | 1 | 1974 | 1545.243 | 6073.363 |  9.200 |  0.1295737 | -0.050 | 1.553300e+12 |\n",
       "| 3 | 2 | 1975 | 1684.905 | 6060.875 |  6.500 |  1.0756567 |  0.950 | 1.684554e+12 |\n",
       "| 4 | 3 | 1976 | 1873.412 | 6387.436 |  7.450 |  0.2338946 | -0.050 | 1.869603e+12 |\n",
       "| 5 | 4 | 1977 | 2081.825 | 6682.805 |  8.125 | -0.6835400 | -1.125 | 2.082670e+12 |\n",
       "| 6 | 5 | 1978 | 2351.599 | 7052.711 |  9.375 | -0.6612006 | -1.125 | 2.349856e+12 |\n",
       "\n"
      ],
      "text/plain": [
       "  X Year GDP      Real.GDP Adjusted.Savings Current.Account.Balance\n",
       "1 0 1973 1425.376 6106.370 10.925            0.4923130             \n",
       "2 1 1974 1545.243 6073.363  9.200            0.1295737             \n",
       "3 2 1975 1684.905 6060.875  6.500            1.0756567             \n",
       "4 3 1976 1873.412 6387.436  7.450            0.2338946             \n",
       "5 4 1977 2081.825 6682.805  8.125           -0.6835400             \n",
       "6 5 1978 2351.599 7052.711  9.375           -0.6612006             \n",
       "  Exports.of.Goods.and.Services GNI         \n",
       "1  0.275                        1.431848e+12\n",
       "2 -0.050                        1.553300e+12\n",
       "3  0.950                        1.684554e+12\n",
       "4 -0.050                        1.869603e+12\n",
       "5 -1.125                        2.082670e+12\n",
       "6 -1.125                        2.349856e+12"
      ]
     },
     "metadata": {},
     "output_type": "display_data"
    },
    {
     "data": {
      "text/html": [
       "<table class=\"dataframe\">\n",
       "<caption>A data.frame: 6 × 10</caption>\n",
       "<thead>\n",
       "\t<tr><th></th><th scope=col>date</th><th scope=col>FDI.Current.Exp</th><th scope=col>GDP.Per.Capita.Growth</th><th scope=col>Government.Final.Consumption.Expenditure</th><th scope=col>Imports.of.Goods.and.Services</th><th scope=col>Inflation..Consumer.Prices.</th><th scope=col>Real.Interest.Rate</th><th scope=col>Central.Government.Debt</th><th scope=col>Unemployement</th><th scope=col>Military.Expenditure</th></tr>\n",
       "\t<tr><th></th><th scope=col>&lt;date&gt;</th><th scope=col>&lt;dbl&gt;</th><th scope=col>&lt;dbl&gt;</th><th scope=col>&lt;dbl&gt;</th><th scope=col>&lt;dbl&gt;</th><th scope=col>&lt;dbl&gt;</th><th scope=col>&lt;dbl&gt;</th><th scope=col>&lt;dbl&gt;</th><th scope=col>&lt;dbl&gt;</th><th scope=col>&lt;dbl&gt;</th></tr>\n",
       "</thead>\n",
       "<tbody>\n",
       "\t<tr><th scope=row>1973</th><td>1975-05-28</td><td>7.410e+09</td><td> 4.642156</td><td>16.77628</td><td>6.683780</td><td> 6.177760</td><td> 2.4097353</td><td>69.31363</td><td>5.837531</td><td>5.893871</td></tr>\n",
       "\t<tr><th scope=row>1974</th><td>1975-05-29</td><td>1.620e+09</td><td>-1.445134</td><td>17.16267</td><td>8.196122</td><td>11.054805</td><td> 1.6510645</td><td>69.31363</td><td>5.837531</td><td>5.954111</td></tr>\n",
       "\t<tr><th scope=row>1975</th><td>1975-05-30</td><td>1.142e+10</td><td>-1.184581</td><td>17.61080</td><td>8.232279</td><td> 9.143147</td><td>-1.2814192</td><td>69.31363</td><td>5.837531</td><td>5.622679</td></tr>\n",
       "\t<tr><th scope=row>1976</th><td>1975-05-31</td><td>8.410e+09</td><td> 4.391463</td><td>16.78798</td><td>7.980893</td><td> 5.744813</td><td> 1.2668917</td><td>69.31363</td><td>5.837531</td><td>5.191071</td></tr>\n",
       "\t<tr><th scope=row>1977</th><td>1975-06-01</td><td>8.360e+09</td><td> 3.577147</td><td>16.38797</td><td>7.654290</td><td> 6.501684</td><td> 0.5750689</td><td>69.31363</td><td>5.837531</td><td>5.155617</td></tr>\n",
       "\t<tr><th scope=row>1978</th><td>1975-06-02</td><td>8.870e+09</td><td> 4.422985</td><td>15.76672</td><td>7.947061</td><td> 7.630964</td><td> 1.8899033</td><td>69.31363</td><td>5.837531</td><td>4.943087</td></tr>\n",
       "</tbody>\n",
       "</table>\n"
      ],
      "text/latex": [
       "A data.frame: 6 × 10\n",
       "\\begin{tabular}{r|llllllllll}\n",
       "  & date & FDI.Current.Exp & GDP.Per.Capita.Growth & Government.Final.Consumption.Expenditure & Imports.of.Goods.and.Services & Inflation..Consumer.Prices. & Real.Interest.Rate & Central.Government.Debt & Unemployement & Military.Expenditure\\\\\n",
       "  & <date> & <dbl> & <dbl> & <dbl> & <dbl> & <dbl> & <dbl> & <dbl> & <dbl> & <dbl>\\\\\n",
       "\\hline\n",
       "\t1973 & 1975-05-28 & 7.410e+09 &  4.642156 & 16.77628 & 6.683780 &  6.177760 &  2.4097353 & 69.31363 & 5.837531 & 5.893871\\\\\n",
       "\t1974 & 1975-05-29 & 1.620e+09 & -1.445134 & 17.16267 & 8.196122 & 11.054805 &  1.6510645 & 69.31363 & 5.837531 & 5.954111\\\\\n",
       "\t1975 & 1975-05-30 & 1.142e+10 & -1.184581 & 17.61080 & 8.232279 &  9.143147 & -1.2814192 & 69.31363 & 5.837531 & 5.622679\\\\\n",
       "\t1976 & 1975-05-31 & 8.410e+09 &  4.391463 & 16.78798 & 7.980893 &  5.744813 &  1.2668917 & 69.31363 & 5.837531 & 5.191071\\\\\n",
       "\t1977 & 1975-06-01 & 8.360e+09 &  3.577147 & 16.38797 & 7.654290 &  6.501684 &  0.5750689 & 69.31363 & 5.837531 & 5.155617\\\\\n",
       "\t1978 & 1975-06-02 & 8.870e+09 &  4.422985 & 15.76672 & 7.947061 &  7.630964 &  1.8899033 & 69.31363 & 5.837531 & 4.943087\\\\\n",
       "\\end{tabular}\n"
      ],
      "text/markdown": [
       "\n",
       "A data.frame: 6 × 10\n",
       "\n",
       "| <!--/--> | date &lt;date&gt; | FDI.Current.Exp &lt;dbl&gt; | GDP.Per.Capita.Growth &lt;dbl&gt; | Government.Final.Consumption.Expenditure &lt;dbl&gt; | Imports.of.Goods.and.Services &lt;dbl&gt; | Inflation..Consumer.Prices. &lt;dbl&gt; | Real.Interest.Rate &lt;dbl&gt; | Central.Government.Debt &lt;dbl&gt; | Unemployement &lt;dbl&gt; | Military.Expenditure &lt;dbl&gt; |\n",
       "|---|---|---|---|---|---|---|---|---|---|---|\n",
       "| 1973 | 1975-05-28 | 7.410e+09 |  4.642156 | 16.77628 | 6.683780 |  6.177760 |  2.4097353 | 69.31363 | 5.837531 | 5.893871 |\n",
       "| 1974 | 1975-05-29 | 1.620e+09 | -1.445134 | 17.16267 | 8.196122 | 11.054805 |  1.6510645 | 69.31363 | 5.837531 | 5.954111 |\n",
       "| 1975 | 1975-05-30 | 1.142e+10 | -1.184581 | 17.61080 | 8.232279 |  9.143147 | -1.2814192 | 69.31363 | 5.837531 | 5.622679 |\n",
       "| 1976 | 1975-05-31 | 8.410e+09 |  4.391463 | 16.78798 | 7.980893 |  5.744813 |  1.2668917 | 69.31363 | 5.837531 | 5.191071 |\n",
       "| 1977 | 1975-06-01 | 8.360e+09 |  3.577147 | 16.38797 | 7.654290 |  6.501684 |  0.5750689 | 69.31363 | 5.837531 | 5.155617 |\n",
       "| 1978 | 1975-06-02 | 8.870e+09 |  4.422985 | 15.76672 | 7.947061 |  7.630964 |  1.8899033 | 69.31363 | 5.837531 | 4.943087 |\n",
       "\n"
      ],
      "text/plain": [
       "     date       FDI.Current.Exp GDP.Per.Capita.Growth\n",
       "1973 1975-05-28 7.410e+09        4.642156            \n",
       "1974 1975-05-29 1.620e+09       -1.445134            \n",
       "1975 1975-05-30 1.142e+10       -1.184581            \n",
       "1976 1975-05-31 8.410e+09        4.391463            \n",
       "1977 1975-06-01 8.360e+09        3.577147            \n",
       "1978 1975-06-02 8.870e+09        4.422985            \n",
       "     Government.Final.Consumption.Expenditure Imports.of.Goods.and.Services\n",
       "1973 16.77628                                 6.683780                     \n",
       "1974 17.16267                                 8.196122                     \n",
       "1975 17.61080                                 8.232279                     \n",
       "1976 16.78798                                 7.980893                     \n",
       "1977 16.38797                                 7.654290                     \n",
       "1978 15.76672                                 7.947061                     \n",
       "     Inflation..Consumer.Prices. Real.Interest.Rate Central.Government.Debt\n",
       "1973  6.177760                    2.4097353         69.31363               \n",
       "1974 11.054805                    1.6510645         69.31363               \n",
       "1975  9.143147                   -1.2814192         69.31363               \n",
       "1976  5.744813                    1.2668917         69.31363               \n",
       "1977  6.501684                    0.5750689         69.31363               \n",
       "1978  7.630964                    1.8899033         69.31363               \n",
       "     Unemployement Military.Expenditure\n",
       "1973 5.837531      5.893871            \n",
       "1974 5.837531      5.954111            \n",
       "1975 5.837531      5.622679            \n",
       "1976 5.837531      5.191071            \n",
       "1977 5.837531      5.155617            \n",
       "1978 5.837531      4.943087            "
      ]
     },
     "metadata": {},
     "output_type": "display_data"
    }
   ],
   "source": [
    "head(df1)\n",
    "\n",
    "head(merged_df)\n"
   ]
  },
  {
   "cell_type": "code",
   "execution_count": 35,
   "metadata": {
    "vscode": {
     "languageId": "r"
    }
   },
   "outputs": [
    {
     "name": "stdout",
     "output_type": "stream",
     "text": [
      "\u001b[90m# A tibble: 50 x 11\u001b[39m\n",
      "    Year Index FDI.Current.Exp GDP.Per.Capita.Growth Government.Final.Consumpt~1\n",
      "   \u001b[3m\u001b[90m<dbl>\u001b[39m\u001b[23m \u001b[3m\u001b[90m<int>\u001b[39m\u001b[23m           \u001b[3m\u001b[90m<dbl>\u001b[39m\u001b[23m                 \u001b[3m\u001b[90m<dbl>\u001b[39m\u001b[23m                       \u001b[3m\u001b[90m<dbl>\u001b[39m\u001b[23m\n",
      "\u001b[90m 1\u001b[39m  \u001b[4m1\u001b[24m973     1      \u001b[4m7\u001b[24m410\u001b[4m0\u001b[24m\u001b[4m0\u001b[24m\u001b[4m0\u001b[24m000                  4.64                        16.8\n",
      "\u001b[90m 2\u001b[39m  \u001b[4m1\u001b[24m974     2      \u001b[4m1\u001b[24m620\u001b[4m0\u001b[24m\u001b[4m0\u001b[24m\u001b[4m0\u001b[24m000                 -\u001b[31m1\u001b[39m\u001b[31m.\u001b[39m\u001b[31m45\u001b[39m                        17.2\n",
      "\u001b[90m 3\u001b[39m  \u001b[4m1\u001b[24m975     3     \u001b[4m1\u001b[24m\u001b[4m1\u001b[24m420\u001b[4m0\u001b[24m\u001b[4m0\u001b[24m\u001b[4m0\u001b[24m000                 -\u001b[31m1\u001b[39m\u001b[31m.\u001b[39m\u001b[31m18\u001b[39m                        17.6\n",
      "\u001b[90m 4\u001b[39m  \u001b[4m1\u001b[24m976     4      \u001b[4m8\u001b[24m410\u001b[4m0\u001b[24m\u001b[4m0\u001b[24m\u001b[4m0\u001b[24m000                  4.39                        16.8\n",
      "\u001b[90m 5\u001b[39m  \u001b[4m1\u001b[24m977     5      \u001b[4m8\u001b[24m360\u001b[4m0\u001b[24m\u001b[4m0\u001b[24m\u001b[4m0\u001b[24m000                  3.58                        16.4\n",
      "\u001b[90m 6\u001b[39m  \u001b[4m1\u001b[24m978     6      \u001b[4m8\u001b[24m870\u001b[4m0\u001b[24m\u001b[4m0\u001b[24m\u001b[4m0\u001b[24m000                  4.42                        15.8\n",
      "\u001b[90m 7\u001b[39m  \u001b[4m1\u001b[24m979     7     \u001b[4m1\u001b[24m\u001b[4m6\u001b[24m670\u001b[4m0\u001b[24m\u001b[4m0\u001b[24m\u001b[4m0\u001b[24m000                  2.03                        15.4\n",
      "\u001b[90m 8\u001b[39m  \u001b[4m1\u001b[24m980     8      \u001b[4m2\u001b[24m300\u001b[4m0\u001b[24m\u001b[4m0\u001b[24m\u001b[4m0\u001b[24m000                 -\u001b[31m1\u001b[39m\u001b[31m.\u001b[39m\u001b[31m21\u001b[39m                        15.9\n",
      "\u001b[90m 9\u001b[39m  \u001b[4m1\u001b[24m981     9    -\u001b[31m\u001b[4m1\u001b[24m\u001b[4m5\u001b[24m5\u001b[39m\u001b[31m70\u001b[4m0\u001b[24m\u001b[4m0\u001b[24m\u001b[4m0\u001b[24m000\u001b[39m                  1.54                        15.8\n",
      "\u001b[90m10\u001b[39m  \u001b[4m1\u001b[24m982    10    -\u001b[31m\u001b[4m1\u001b[24m\u001b[4m3\u001b[24m4\u001b[39m\u001b[31m56\u001b[4m0\u001b[24m\u001b[4m0\u001b[24m\u001b[4m0\u001b[24m000\u001b[39m                 -\u001b[31m2\u001b[39m\u001b[31m.\u001b[39m\u001b[31m73\u001b[39m                        16.6\n",
      "\u001b[90m# i 40 more rows\u001b[39m\n",
      "\u001b[90m# i abbreviated name: 1: Government.Final.Consumption.Expenditure\u001b[39m\n",
      "\u001b[90m# i 6 more variables: Imports.of.Goods.and.Services <dbl>,\u001b[39m\n",
      "\u001b[90m#   Inflation..Consumer.Prices. <dbl>, Real.Interest.Rate <dbl>,\u001b[39m\n",
      "\u001b[90m#   Central.Government.Debt <dbl>, Unemployement <dbl>,\u001b[39m\n",
      "\u001b[90m#   Military.Expenditure <dbl>\u001b[39m\n"
     ]
    }
   ],
   "source": [
    "# to remove date and add the years as one of the columns\n",
    "merged_df = merged_df[, !grepl(\"X\", names(merged_df))]\n",
    "merged_df$Year = seq(1973, by = 1, length.out = nrow(merged_df))\n",
    "merged_df = merged_df[, c(\"Year\", names(merged_df)[!names(merged_df) %in% c(\"Year\")])]\n",
    "merged_df1 = as_tibble(merged_df)\n",
    "print(merged_df1)\n"
   ]
  },
  {
   "cell_type": "code",
   "execution_count": 41,
   "metadata": {
    "vscode": {
     "languageId": "r"
    }
   },
   "outputs": [
    {
     "data": {
      "text/html": [
       "<table class=\"dataframe\">\n",
       "<caption>A data.frame: 50 × 17</caption>\n",
       "<thead>\n",
       "\t<tr><th scope=col>Year</th><th scope=col>FDI.Current.Exp</th><th scope=col>GDP.Per.Capita.Growth</th><th scope=col>Government.Final.Consumption.Expenditure</th><th scope=col>Imports.of.Goods.and.Services</th><th scope=col>Inflation..Consumer.Prices.</th><th scope=col>Real.Interest.Rate</th><th scope=col>Central.Government.Debt</th><th scope=col>Unemployement</th><th scope=col>Military.Expenditure</th><th scope=col>X</th><th scope=col>GDP</th><th scope=col>Real.GDP</th><th scope=col>Adjusted.Savings</th><th scope=col>Current.Account.Balance</th><th scope=col>Exports.of.Goods.and.Services</th><th scope=col>GNI</th></tr>\n",
       "\t<tr><th scope=col>&lt;dbl&gt;</th><th scope=col>&lt;dbl&gt;</th><th scope=col>&lt;dbl&gt;</th><th scope=col>&lt;dbl&gt;</th><th scope=col>&lt;dbl&gt;</th><th scope=col>&lt;dbl&gt;</th><th scope=col>&lt;dbl&gt;</th><th scope=col>&lt;dbl&gt;</th><th scope=col>&lt;dbl&gt;</th><th scope=col>&lt;dbl&gt;</th><th scope=col>&lt;int&gt;</th><th scope=col>&lt;dbl&gt;</th><th scope=col>&lt;dbl&gt;</th><th scope=col>&lt;dbl&gt;</th><th scope=col>&lt;dbl&gt;</th><th scope=col>&lt;dbl&gt;</th><th scope=col>&lt;dbl&gt;</th></tr>\n",
       "</thead>\n",
       "<tbody>\n",
       "\t<tr><td>1973</td><td> 7.41000e+09</td><td> 4.64215574</td><td>16.77628</td><td> 6.683780</td><td> 6.1777601</td><td> 2.4097353</td><td> 69.31363</td><td>5.837531</td><td>5.893871</td><td> 0</td><td> 1425.376</td><td> 6106.370</td><td>10.925</td><td> 0.49231302</td><td> 0.275</td><td>1.431848e+12</td></tr>\n",
       "\t<tr><td>1974</td><td> 1.62000e+09</td><td>-1.44513434</td><td>17.16267</td><td> 8.196122</td><td>11.0548048</td><td> 1.6510645</td><td> 69.31363</td><td>5.837531</td><td>5.954111</td><td> 1</td><td> 1545.243</td><td> 6073.363</td><td> 9.200</td><td> 0.12957370</td><td>-0.050</td><td>1.553300e+12</td></tr>\n",
       "\t<tr><td>1975</td><td> 1.14200e+10</td><td>-1.18458141</td><td>17.61080</td><td> 8.232279</td><td> 9.1431469</td><td>-1.2814192</td><td> 69.31363</td><td>5.837531</td><td>5.622679</td><td> 2</td><td> 1684.905</td><td> 6060.875</td><td> 6.500</td><td> 1.07565669</td><td> 0.950</td><td>1.684554e+12</td></tr>\n",
       "\t<tr><td>1976</td><td> 8.41000e+09</td><td> 4.39146287</td><td>16.78798</td><td> 7.980893</td><td> 5.7448126</td><td> 1.2668917</td><td> 69.31363</td><td>5.837531</td><td>5.191071</td><td> 3</td><td> 1873.412</td><td> 6387.436</td><td> 7.450</td><td> 0.23389461</td><td>-0.050</td><td>1.869603e+12</td></tr>\n",
       "\t<tr><td>1977</td><td> 8.36000e+09</td><td> 3.57714671</td><td>16.38797</td><td> 7.654290</td><td> 6.5016840</td><td> 0.5750689</td><td> 69.31363</td><td>5.837531</td><td>5.155617</td><td> 4</td><td> 2081.825</td><td> 6682.805</td><td> 8.125</td><td>-0.68353999</td><td>-1.125</td><td>2.082670e+12</td></tr>\n",
       "\t<tr><td>1978</td><td> 8.87000e+09</td><td> 4.42298461</td><td>15.76672</td><td> 7.947061</td><td> 7.6309638</td><td> 1.8899033</td><td> 69.31363</td><td>5.837531</td><td>4.943087</td><td> 5</td><td> 2351.599</td><td> 7052.711</td><td> 9.375</td><td>-0.66120058</td><td>-1.125</td><td>2.349856e+12</td></tr>\n",
       "\t<tr><td>1979</td><td> 1.66700e+10</td><td> 2.03388706</td><td>15.40364</td><td> 8.759034</td><td>11.2544711</td><td> 4.0345477</td><td> 69.31363</td><td>5.837531</td><td>4.951992</td><td> 6</td><td> 2627.326</td><td> 7275.999</td><td> 9.200</td><td>-0.01244504</td><td>-0.875</td><td>2.614202e+12</td></tr>\n",
       "\t<tr><td>1980</td><td> 2.30000e+09</td><td>-1.20929826</td><td>15.87684</td><td> 9.826455</td><td>13.5492020</td><td> 5.7163905</td><td> 69.31363</td><td>5.837531</td><td>5.153537</td><td> 7</td><td> 2857.309</td><td> 7257.316</td><td> 7.050</td><td> 0.07388316</td><td>-0.450</td><td>2.847055e+12</td></tr>\n",
       "\t<tr><td>1981</td><td>-1.55700e+10</td><td> 1.53632028</td><td>15.81024</td><td> 9.517777</td><td>10.3347153</td><td> 8.5946198</td><td> 69.31363</td><td>5.837531</td><td>5.646541</td><td> 8</td><td> 3207.041</td><td> 7441.485</td><td> 8.000</td><td> 0.15661039</td><td>-0.375</td><td>3.201886e+12</td></tr>\n",
       "\t<tr><td>1982</td><td>-1.34560e+10</td><td>-2.73456973</td><td>16.58385</td><td> 8.469733</td><td> 6.1314270</td><td> 8.1773474</td><td> 69.31363</td><td>5.837531</td><td>6.814057</td><td> 9</td><td> 3343.789</td><td> 7307.314</td><td> 5.625</td><td>-0.16185996</td><td>-0.600</td><td>3.371448e+12</td></tr>\n",
       "\t<tr><td>1983</td><td>-2.73000e+09</td><td> 3.63197930</td><td>16.38379</td><td> 7.622265</td><td> 3.2124352</td><td> 6.6181602</td><td> 69.31363</td><td>5.837531</td><td>6.321144</td><td>10</td><td> 3634.037</td><td> 7642.265</td><td> 4.275</td><td>-1.04802051</td><td>-1.425</td><td>3.614168e+12</td></tr>\n",
       "\t<tr><td>1984</td><td>-1.24100e+10</td><td> 6.31216766</td><td>15.72038</td><td> 7.489078</td><td> 4.3005355</td><td> 8.1410881</td><td> 69.31363</td><td>5.837531</td><td>6.236417</td><td>11</td><td> 4037.614</td><td> 8195.295</td><td> 7.025</td><td>-2.33359598</td><td>-2.525</td><td>4.032292e+12</td></tr>\n",
       "\t<tr><td>1985</td><td>-5.95000e+09</td><td> 3.25065642</td><td>15.91711</td><td> 6.988073</td><td> 3.5456442</td><td> 6.5633266</td><td> 69.31363</td><td>5.837531</td><td>6.453219</td><td>12</td><td> 4338.980</td><td> 8537.004</td><td> 5.600</td><td>-2.71718137</td><td>-2.650</td><td>4.310074e+12</td></tr>\n",
       "\t<tr><td>1986</td><td>-1.14220e+10</td><td> 2.51088597</td><td>16.11460</td><td> 7.009255</td><td> 1.8980477</td><td> 6.1938603</td><td> 69.31363</td><td>5.837531</td><td>6.626523</td><td>13</td><td> 4579.632</td><td> 8832.611</td><td> 4.000</td><td>-3.21207655</td><td>-2.875</td><td>4.516535e+12</td></tr>\n",
       "\t<tr><td>1987</td><td>-2.34380e+10</td><td> 2.53862354</td><td>16.00121</td><td> 7.495919</td><td> 3.6645632</td><td> 5.5922379</td><td> 69.31363</td><td>5.837531</td><td>6.420274</td><td>14</td><td> 4855.216</td><td> 9137.745</td><td> 4.525</td><td>-3.30932975</td><td>-3.000</td><td>4.828878e+12</td></tr>\n",
       "\t<tr><td>1988</td><td>-3.52090e+10</td><td> 3.23541611</td><td>15.66817</td><td> 8.490524</td><td> 4.0777411</td><td> 5.5903822</td><td> 69.31363</td><td>5.837531</td><td>6.071278</td><td>15</td><td> 5236.438</td><td> 9519.427</td><td> 5.525</td><td>-2.31614141</td><td>-2.100</td><td>5.256093e+12</td></tr>\n",
       "\t<tr><td>1989</td><td>-2.48000e+10</td><td> 2.69816667</td><td>15.62380</td><td> 8.938790</td><td> 4.8270030</td><td> 6.6906869</td><td> 39.12840</td><td>5.837531</td><td>5.871206</td><td>16</td><td> 5641.579</td><td> 9869.003</td><td> 4.850</td><td>-1.76624317</td><td>-1.525</td><td>5.598381e+12</td></tr>\n",
       "\t<tr><td>1990</td><td>-1.12900e+10</td><td> 0.74148610</td><td>15.90077</td><td> 9.254732</td><td> 5.3979564</td><td> 6.0397492</td><td> 40.93394</td><td>5.837531</td><td>5.605175</td><td>17</td><td> 5963.145</td><td>10055.129</td><td> 3.825</td><td>-1.32571901</td><td>-1.300</td><td>5.902290e+12</td></tr>\n",
       "\t<tr><td>1991</td><td> 1.47200e+10</td><td>-1.43420013</td><td>16.31757</td><td> 9.660905</td><td> 4.2349640</td><td> 4.9153465</td><td> 44.06160</td><td>6.800000</td><td>4.883429</td><td>18</td><td> 6158.129</td><td>10044.237</td><td> 3.650</td><td> 0.05252770</td><td>-0.475</td><td>6.096750e+12</td></tr>\n",
       "\t<tr><td>1992</td><td> 2.84600e+10</td><td> 2.09661277</td><td>16.07869</td><td> 9.708915</td><td> 3.0288197</td><td> 3.8842380</td><td> 46.05014</td><td>7.500000</td><td>4.970467</td><td>19</td><td> 6520.327</td><td>10398.046</td><td> 2.900</td><td>-0.78683381</td><td>-0.525</td><td>6.435469e+12</td></tr>\n",
       "\t<tr><td>1993</td><td> 3.25700e+10</td><td> 1.40570857</td><td>15.64527</td><td> 9.547180</td><td> 2.9516570</td><td> 3.5456172</td><td> 48.24614</td><td>6.900000</td><td>4.604350</td><td>20</td><td> 6858.559</td><td>10684.179</td><td> 2.375</td><td>-1.23286161</td><td>-0.925</td><td>6.733768e+12</td></tr>\n",
       "\t<tr><td>1994</td><td> 3.40500e+10</td><td> 2.76088230</td><td>15.20605</td><td> 9.893147</td><td> 2.6074416</td><td> 4.8983100</td><td> 47.35348</td><td>6.120000</td><td>4.215265</td><td>21</td><td> 7287.236</td><td>11114.646</td><td> 3.350</td><td>-1.66541598</td><td>-1.250</td><td>7.170251e+12</td></tr>\n",
       "\t<tr><td>1995</td><td> 4.09800e+10</td><td> 1.46871823</td><td>14.94477</td><td>10.639224</td><td> 2.8054197</td><td> 6.5939964</td><td> 47.20954</td><td>5.650000</td><td>3.860246</td><td>22</td><td> 7639.749</td><td>11413.012</td><td> 4.025</td><td>-1.48908089</td><td>-1.175</td><td>7.574691e+12</td></tr>\n",
       "\t<tr><td>1996</td><td> 5.36000e+09</td><td> 2.57225920</td><td>14.52832</td><td>10.746636</td><td> 2.9312042</td><td> 6.3240737</td><td> 46.74177</td><td>5.450000</td><td>3.554982</td><td>23</td><td> 8073.122</td><td>11843.599</td><td> 5.025</td><td>-1.54422940</td><td>-1.200</td><td>8.045907e+12</td></tr>\n",
       "\t<tr><td>1997</td><td>-7.70000e+08</td><td> 3.19721205</td><td>14.22932</td><td>11.119755</td><td> 2.3376899</td><td> 6.6033649</td><td> 44.11747</td><td>5.000000</td><td>3.405562</td><td>24</td><td> 8577.552</td><td>12370.299</td><td> 6.300</td><td>-1.63912682</td><td>-1.175</td><td>8.589268e+12</td></tr>\n",
       "\t<tr><td>1998</td><td>-3.63900e+10</td><td> 3.27051107</td><td>13.98690</td><td>10.515261</td><td> 1.5522791</td><td> 7.1481784</td><td> 41.12915</td><td>4.510000</td><td>3.201558</td><td>25</td><td> 9062.817</td><td>12924.876</td><td> 6.825</td><td>-2.36884741</td><td>-1.775</td><td>9.135464e+12</td></tr>\n",
       "\t<tr><td>1999</td><td>-6.49640e+10</td><td> 3.59798502</td><td>14.03180</td><td>10.309335</td><td> 2.1880272</td><td> 6.4934264</td><td> 37.72728</td><td>4.220000</td><td>3.085677</td><td>26</td><td> 9631.172</td><td>13543.774</td><td> 6.300</td><td>-2.97078370</td><td>-2.700</td><td>9.690388e+12</td></tr>\n",
       "\t<tr><td>2000</td><td>-1.62755e+11</td><td> 2.92544098</td><td>14.02395</td><td>10.692777</td><td> 3.3768573</td><td> 6.8134243</td><td> 33.26765</td><td>3.990000</td><td>3.112242</td><td>27</td><td>10250.952</td><td>14096.033</td><td> 5.925</td><td>-3.91907078</td><td>-3.700</td><td>1.038367e+13</td></tr>\n",
       "\t<tr><td>2001</td><td>-2.64550e+10</td><td>-0.03991973</td><td>14.53564</td><td> 9.703447</td><td> 2.8261711</td><td> 4.5658479</td><td> 52.44368</td><td>4.730000</td><td>3.123810</td><td>28</td><td>10581.929</td><td>14230.726</td><td> 4.375</td><td>-3.72585421</td><td>-3.550</td><td>1.074607e+13</td></tr>\n",
       "\t<tr><td>2002</td><td> 6.79300e+10</td><td> 0.75677405</td><td>15.05904</td><td> 9.131382</td><td> 1.5860316</td><td> 3.0686428</td><td> 53.86251</td><td>5.780000</td><td>3.447618</td><td>29</td><td>10929.108</td><td>14472.711</td><td> 3.075</td><td>-4.17117913</td><td>-4.025</td><td>1.105222e+13</td></tr>\n",
       "\t<tr><td>2003</td><td> 7.81120e+10</td><td> 1.91648045</td><td>15.24363</td><td> 9.035659</td><td> 2.2700950</td><td> 2.1073108</td><td> 56.25040</td><td>5.990000</td><td>3.827161</td><td>30</td><td>11456.450</td><td>14877.312</td><td> 2.325</td><td>-4.56246114</td><td>-4.550</td><td>1.153485e+13</td></tr>\n",
       "\t<tr><td>2004</td><td> 1.60363e+11</td><td> 2.89584778</td><td>15.15831</td><td> 9.628750</td><td> 2.6772367</td><td> 1.6123110</td><td> 56.66229</td><td>5.530000</td><td>4.016313</td><td>31</td><td>12217.196</td><td>15449.757</td><td> 2.750</td><td>-5.19733185</td><td>-5.175</td><td>1.231764e+13</td></tr>\n",
       "\t<tr><td>2005</td><td>-8.97530e+10</td><td> 2.53378411</td><td>15.04714</td><td> 9.982055</td><td> 3.3927468</td><td> 2.9605063</td><td> 56.53885</td><td>5.080000</td><td>4.089232</td><td>32</td><td>13039.197</td><td>15987.958</td><td> 2.900</td><td>-5.74065377</td><td>-5.675</td><td>1.316652e+13</td></tr>\n",
       "\t<tr><td>2006</td><td>-1.46620e+10</td><td> 1.79648633</td><td>15.00445</td><td>10.641386</td><td> 3.2259441</td><td> 4.7260897</td><td> 55.46734</td><td>4.620000</td><td>4.041342</td><td>33</td><td>13815.583</td><td>16433.147</td><td> 3.675</td><td>-5.91214614</td><td>-5.700</td><td>1.406638e+13</td></tr>\n",
       "\t<tr><td>2007</td><td> 1.77277e+11</td><td> 1.04493014</td><td>15.18929</td><td>11.463790</td><td> 2.8526725</td><td> 5.2067594</td><td> 55.65993</td><td>4.620000</td><td>4.073351</td><td>34</td><td>14474.227</td><td>16762.445</td><td> 1.775</td><td>-5.09416368</td><td>-5.100</td><td>1.455010e+13</td></tr>\n",
       "\t<tr><td>2008</td><td> 2.49100e+09</td><td>-0.82036790</td><td>15.93407</td><td>12.425847</td><td> 3.8391003</td><td> 3.1099208</td><td> 63.81513</td><td>5.780000</td><td>4.446596</td><td>35</td><td>14769.862</td><td>16781.485</td><td>-1.025</td><td>-4.71455274</td><td>-5.000</td><td>1.471811e+13</td></tr>\n",
       "\t<tr><td>2009</td><td> 1.51514e+11</td><td>-3.45001592</td><td>16.80770</td><td>10.932221</td><td>-0.3555463</td><td> 2.5924290</td><td> 75.84205</td><td>9.250000</td><td>4.875768</td><td>36</td><td>14478.067</td><td>16349.111</td><td>-2.575</td><td>-2.62204135</td><td>-2.875</td><td>1.442627e+13</td></tr>\n",
       "\t<tr><td>2010</td><td> 8.57890e+10</td><td> 1.86029168</td><td>16.68584</td><td>12.341361</td><td> 1.6400434</td><td> 2.0238855</td><td> 84.96441</td><td>9.630000</td><td>4.904023</td><td>37</td><td>15048.971</td><td>16789.751</td><td>-0.625</td><td>-2.87117164</td><td>-3.525</td><td>1.517207e+13</td></tr>\n",
       "\t<tr><td>2011</td><td> 1.73119e+11</td><td> 0.81451936</td><td>16.09843</td><td>13.563467</td><td> 3.1568416</td><td> 1.1484252</td><td> 89.54682</td><td>8.950000</td><td>4.822442</td><td>38</td><td>15599.731</td><td>17052.410</td><td> 0.350</td><td>-2.92021969</td><td>-3.700</td><td>1.584998e+13</td></tr>\n",
       "\t<tr><td>2012</td><td> 1.26895e+11</td><td> 1.53310204</td><td>15.47584</td><td>13.644049</td><td> 2.0693373</td><td> 1.3540752</td><td> 93.64926</td><td>8.070000</td><td>4.461710</td><td>39</td><td>16253.970</td><td>17442.759</td><td> 2.375</td><td>-2.57443800</td><td>-3.375</td><td>1.667560e+13</td></tr>\n",
       "\t<tr><td>2013</td><td> 1.04665e+11</td><td> 1.13869235</td><td>15.03662</td><td>13.578074</td><td> 1.4648327</td><td> 1.4732543</td><td> 95.53469</td><td>7.370000</td><td>4.032661</td><td>40</td><td>16880.683</td><td>17812.167</td><td> 2.550</td><td>-2.01347047</td><td>-2.825</td><td>1.718833e+13</td></tr>\n",
       "\t<tr><td>2014</td><td> 1.35673e+11</td><td> 1.54038065</td><td>14.62196</td><td>13.545959</td><td> 1.6222230</td><td> 1.3547758</td><td> 95.76670</td><td>6.170000</td><td>3.690961</td><td>41</td><td>17608.138</td><td>18261.714</td><td> 3.475</td><td>-2.10098950</td><td>-2.900</td><td>1.804309e+13</td></tr>\n",
       "\t<tr><td>2015</td><td>-2.09363e+11</td><td> 1.95300412</td><td>14.33033</td><td>12.460993</td><td> 0.1186271</td><td> 2.2370755</td><td> 96.42523</td><td>5.280000</td><td>3.481428</td><td>42</td><td>18295.019</td><td>18799.622</td><td> 3.575</td><td>-2.23239116</td><td>-2.850</td><td>1.866091e+13</td></tr>\n",
       "\t<tr><td>2016</td><td>-1.74573e+11</td><td> 0.93337536</td><td>14.24494</td><td>11.939539</td><td> 1.2615832</td><td> 2.4845303</td><td> 98.50410</td><td>4.870000</td><td>3.422588</td><td>43</td><td>18804.913</td><td>19141.672</td><td> 2.425</td><td>-2.10821110</td><td>-2.675</td><td>1.902048e+13</td></tr>\n",
       "\t<tr><td>2017</td><td> 2.85900e+10</td><td> 1.59713559</td><td>13.99863</td><td>12.261738</td><td> 2.1301100</td><td> 2.1560991</td><td> 97.69294</td><td>4.360000</td><td>3.320541</td><td>44</td><td>19612.103</td><td>19612.103</td><td> 2.775</td><td>-1.87487754</td><td>-2.775</td><td>1.988555e+13</td></tr>\n",
       "\t<tr><td>2018</td><td>-3.45435e+11</td><td> 2.40486787</td><td>13.96252</td><td>12.360989</td><td> 2.4425833</td><td> 2.4414150</td><td> 99.06098</td><td>3.900000</td><td>3.323866</td><td>45</td><td>20656.516</td><td>20193.895</td><td> 3.050</td><td>-2.12681566</td><td>-2.850</td><td>2.093736e+13</td></tr>\n",
       "\t<tr><td>2019</td><td>-2.01057e+11</td><td> 1.82966839</td><td>14.07222</td><td>11.872470</td><td> 1.8122101</td><td> 3.4270899</td><td>100.80504</td><td>3.670000</td><td>3.434568</td><td>46</td><td>21521.395</td><td>20692.087</td><td> 3.200</td><td>-2.05452743</td><td>-2.700</td><td>2.176454e+13</td></tr>\n",
       "\t<tr><td>2020</td><td> 1.48299e+11</td><td>-3.70095253</td><td>14.90174</td><td>10.202126</td><td> 1.2335844</td><td> 2.2104107</td><td>126.24359</td><td>8.050000</td><td>3.696010</td><td>47</td><td>21322.949</td><td>20234.074</td><td> 1.375</td><td>-2.80299027</td><td>-2.950</td><td>2.147236e+13</td></tr>\n",
       "\t<tr><td>2021</td><td>-9.90150e+10</td><td> 5.77954842</td><td>14.38439</td><td>10.892727</td><td> 4.6978589</td><td>-1.1893569</td><td>120.36337</td><td>5.350000</td><td>3.457977</td><td>48</td><td>23594.031</td><td>21407.693</td><td> 1.375</td><td>-3.51645602</td><td>-3.625</td><td>2.361711e+13</td></tr>\n",
       "\t<tr><td>2022</td><td> 3.81730e+10</td><td> 1.67697130</td><td>15.43433</td><td>10.020352</td><td> 8.0027998</td><td> 3.9337778</td><td>115.59759</td><td>3.611000</td><td>3.454920</td><td>49</td><td>25744.108</td><td>21822.036</td><td> 1.525</td><td>-3.78364652</td><td>-3.775</td><td>2.583890e+13</td></tr>\n",
       "</tbody>\n",
       "</table>\n"
      ],
      "text/latex": [
       "A data.frame: 50 × 17\n",
       "\\begin{tabular}{lllllllllllllllll}\n",
       " Year & FDI.Current.Exp & GDP.Per.Capita.Growth & Government.Final.Consumption.Expenditure & Imports.of.Goods.and.Services & Inflation..Consumer.Prices. & Real.Interest.Rate & Central.Government.Debt & Unemployement & Military.Expenditure & X & GDP & Real.GDP & Adjusted.Savings & Current.Account.Balance & Exports.of.Goods.and.Services & GNI\\\\\n",
       " <dbl> & <dbl> & <dbl> & <dbl> & <dbl> & <dbl> & <dbl> & <dbl> & <dbl> & <dbl> & <int> & <dbl> & <dbl> & <dbl> & <dbl> & <dbl> & <dbl>\\\\\n",
       "\\hline\n",
       "\t 1973 &  7.41000e+09 &  4.64215574 & 16.77628 &  6.683780 &  6.1777601 &  2.4097353 &  69.31363 & 5.837531 & 5.893871 &  0 &  1425.376 &  6106.370 & 10.925 &  0.49231302 &  0.275 & 1.431848e+12\\\\\n",
       "\t 1974 &  1.62000e+09 & -1.44513434 & 17.16267 &  8.196122 & 11.0548048 &  1.6510645 &  69.31363 & 5.837531 & 5.954111 &  1 &  1545.243 &  6073.363 &  9.200 &  0.12957370 & -0.050 & 1.553300e+12\\\\\n",
       "\t 1975 &  1.14200e+10 & -1.18458141 & 17.61080 &  8.232279 &  9.1431469 & -1.2814192 &  69.31363 & 5.837531 & 5.622679 &  2 &  1684.905 &  6060.875 &  6.500 &  1.07565669 &  0.950 & 1.684554e+12\\\\\n",
       "\t 1976 &  8.41000e+09 &  4.39146287 & 16.78798 &  7.980893 &  5.7448126 &  1.2668917 &  69.31363 & 5.837531 & 5.191071 &  3 &  1873.412 &  6387.436 &  7.450 &  0.23389461 & -0.050 & 1.869603e+12\\\\\n",
       "\t 1977 &  8.36000e+09 &  3.57714671 & 16.38797 &  7.654290 &  6.5016840 &  0.5750689 &  69.31363 & 5.837531 & 5.155617 &  4 &  2081.825 &  6682.805 &  8.125 & -0.68353999 & -1.125 & 2.082670e+12\\\\\n",
       "\t 1978 &  8.87000e+09 &  4.42298461 & 15.76672 &  7.947061 &  7.6309638 &  1.8899033 &  69.31363 & 5.837531 & 4.943087 &  5 &  2351.599 &  7052.711 &  9.375 & -0.66120058 & -1.125 & 2.349856e+12\\\\\n",
       "\t 1979 &  1.66700e+10 &  2.03388706 & 15.40364 &  8.759034 & 11.2544711 &  4.0345477 &  69.31363 & 5.837531 & 4.951992 &  6 &  2627.326 &  7275.999 &  9.200 & -0.01244504 & -0.875 & 2.614202e+12\\\\\n",
       "\t 1980 &  2.30000e+09 & -1.20929826 & 15.87684 &  9.826455 & 13.5492020 &  5.7163905 &  69.31363 & 5.837531 & 5.153537 &  7 &  2857.309 &  7257.316 &  7.050 &  0.07388316 & -0.450 & 2.847055e+12\\\\\n",
       "\t 1981 & -1.55700e+10 &  1.53632028 & 15.81024 &  9.517777 & 10.3347153 &  8.5946198 &  69.31363 & 5.837531 & 5.646541 &  8 &  3207.041 &  7441.485 &  8.000 &  0.15661039 & -0.375 & 3.201886e+12\\\\\n",
       "\t 1982 & -1.34560e+10 & -2.73456973 & 16.58385 &  8.469733 &  6.1314270 &  8.1773474 &  69.31363 & 5.837531 & 6.814057 &  9 &  3343.789 &  7307.314 &  5.625 & -0.16185996 & -0.600 & 3.371448e+12\\\\\n",
       "\t 1983 & -2.73000e+09 &  3.63197930 & 16.38379 &  7.622265 &  3.2124352 &  6.6181602 &  69.31363 & 5.837531 & 6.321144 & 10 &  3634.037 &  7642.265 &  4.275 & -1.04802051 & -1.425 & 3.614168e+12\\\\\n",
       "\t 1984 & -1.24100e+10 &  6.31216766 & 15.72038 &  7.489078 &  4.3005355 &  8.1410881 &  69.31363 & 5.837531 & 6.236417 & 11 &  4037.614 &  8195.295 &  7.025 & -2.33359598 & -2.525 & 4.032292e+12\\\\\n",
       "\t 1985 & -5.95000e+09 &  3.25065642 & 15.91711 &  6.988073 &  3.5456442 &  6.5633266 &  69.31363 & 5.837531 & 6.453219 & 12 &  4338.980 &  8537.004 &  5.600 & -2.71718137 & -2.650 & 4.310074e+12\\\\\n",
       "\t 1986 & -1.14220e+10 &  2.51088597 & 16.11460 &  7.009255 &  1.8980477 &  6.1938603 &  69.31363 & 5.837531 & 6.626523 & 13 &  4579.632 &  8832.611 &  4.000 & -3.21207655 & -2.875 & 4.516535e+12\\\\\n",
       "\t 1987 & -2.34380e+10 &  2.53862354 & 16.00121 &  7.495919 &  3.6645632 &  5.5922379 &  69.31363 & 5.837531 & 6.420274 & 14 &  4855.216 &  9137.745 &  4.525 & -3.30932975 & -3.000 & 4.828878e+12\\\\\n",
       "\t 1988 & -3.52090e+10 &  3.23541611 & 15.66817 &  8.490524 &  4.0777411 &  5.5903822 &  69.31363 & 5.837531 & 6.071278 & 15 &  5236.438 &  9519.427 &  5.525 & -2.31614141 & -2.100 & 5.256093e+12\\\\\n",
       "\t 1989 & -2.48000e+10 &  2.69816667 & 15.62380 &  8.938790 &  4.8270030 &  6.6906869 &  39.12840 & 5.837531 & 5.871206 & 16 &  5641.579 &  9869.003 &  4.850 & -1.76624317 & -1.525 & 5.598381e+12\\\\\n",
       "\t 1990 & -1.12900e+10 &  0.74148610 & 15.90077 &  9.254732 &  5.3979564 &  6.0397492 &  40.93394 & 5.837531 & 5.605175 & 17 &  5963.145 & 10055.129 &  3.825 & -1.32571901 & -1.300 & 5.902290e+12\\\\\n",
       "\t 1991 &  1.47200e+10 & -1.43420013 & 16.31757 &  9.660905 &  4.2349640 &  4.9153465 &  44.06160 & 6.800000 & 4.883429 & 18 &  6158.129 & 10044.237 &  3.650 &  0.05252770 & -0.475 & 6.096750e+12\\\\\n",
       "\t 1992 &  2.84600e+10 &  2.09661277 & 16.07869 &  9.708915 &  3.0288197 &  3.8842380 &  46.05014 & 7.500000 & 4.970467 & 19 &  6520.327 & 10398.046 &  2.900 & -0.78683381 & -0.525 & 6.435469e+12\\\\\n",
       "\t 1993 &  3.25700e+10 &  1.40570857 & 15.64527 &  9.547180 &  2.9516570 &  3.5456172 &  48.24614 & 6.900000 & 4.604350 & 20 &  6858.559 & 10684.179 &  2.375 & -1.23286161 & -0.925 & 6.733768e+12\\\\\n",
       "\t 1994 &  3.40500e+10 &  2.76088230 & 15.20605 &  9.893147 &  2.6074416 &  4.8983100 &  47.35348 & 6.120000 & 4.215265 & 21 &  7287.236 & 11114.646 &  3.350 & -1.66541598 & -1.250 & 7.170251e+12\\\\\n",
       "\t 1995 &  4.09800e+10 &  1.46871823 & 14.94477 & 10.639224 &  2.8054197 &  6.5939964 &  47.20954 & 5.650000 & 3.860246 & 22 &  7639.749 & 11413.012 &  4.025 & -1.48908089 & -1.175 & 7.574691e+12\\\\\n",
       "\t 1996 &  5.36000e+09 &  2.57225920 & 14.52832 & 10.746636 &  2.9312042 &  6.3240737 &  46.74177 & 5.450000 & 3.554982 & 23 &  8073.122 & 11843.599 &  5.025 & -1.54422940 & -1.200 & 8.045907e+12\\\\\n",
       "\t 1997 & -7.70000e+08 &  3.19721205 & 14.22932 & 11.119755 &  2.3376899 &  6.6033649 &  44.11747 & 5.000000 & 3.405562 & 24 &  8577.552 & 12370.299 &  6.300 & -1.63912682 & -1.175 & 8.589268e+12\\\\\n",
       "\t 1998 & -3.63900e+10 &  3.27051107 & 13.98690 & 10.515261 &  1.5522791 &  7.1481784 &  41.12915 & 4.510000 & 3.201558 & 25 &  9062.817 & 12924.876 &  6.825 & -2.36884741 & -1.775 & 9.135464e+12\\\\\n",
       "\t 1999 & -6.49640e+10 &  3.59798502 & 14.03180 & 10.309335 &  2.1880272 &  6.4934264 &  37.72728 & 4.220000 & 3.085677 & 26 &  9631.172 & 13543.774 &  6.300 & -2.97078370 & -2.700 & 9.690388e+12\\\\\n",
       "\t 2000 & -1.62755e+11 &  2.92544098 & 14.02395 & 10.692777 &  3.3768573 &  6.8134243 &  33.26765 & 3.990000 & 3.112242 & 27 & 10250.952 & 14096.033 &  5.925 & -3.91907078 & -3.700 & 1.038367e+13\\\\\n",
       "\t 2001 & -2.64550e+10 & -0.03991973 & 14.53564 &  9.703447 &  2.8261711 &  4.5658479 &  52.44368 & 4.730000 & 3.123810 & 28 & 10581.929 & 14230.726 &  4.375 & -3.72585421 & -3.550 & 1.074607e+13\\\\\n",
       "\t 2002 &  6.79300e+10 &  0.75677405 & 15.05904 &  9.131382 &  1.5860316 &  3.0686428 &  53.86251 & 5.780000 & 3.447618 & 29 & 10929.108 & 14472.711 &  3.075 & -4.17117913 & -4.025 & 1.105222e+13\\\\\n",
       "\t 2003 &  7.81120e+10 &  1.91648045 & 15.24363 &  9.035659 &  2.2700950 &  2.1073108 &  56.25040 & 5.990000 & 3.827161 & 30 & 11456.450 & 14877.312 &  2.325 & -4.56246114 & -4.550 & 1.153485e+13\\\\\n",
       "\t 2004 &  1.60363e+11 &  2.89584778 & 15.15831 &  9.628750 &  2.6772367 &  1.6123110 &  56.66229 & 5.530000 & 4.016313 & 31 & 12217.196 & 15449.757 &  2.750 & -5.19733185 & -5.175 & 1.231764e+13\\\\\n",
       "\t 2005 & -8.97530e+10 &  2.53378411 & 15.04714 &  9.982055 &  3.3927468 &  2.9605063 &  56.53885 & 5.080000 & 4.089232 & 32 & 13039.197 & 15987.958 &  2.900 & -5.74065377 & -5.675 & 1.316652e+13\\\\\n",
       "\t 2006 & -1.46620e+10 &  1.79648633 & 15.00445 & 10.641386 &  3.2259441 &  4.7260897 &  55.46734 & 4.620000 & 4.041342 & 33 & 13815.583 & 16433.147 &  3.675 & -5.91214614 & -5.700 & 1.406638e+13\\\\\n",
       "\t 2007 &  1.77277e+11 &  1.04493014 & 15.18929 & 11.463790 &  2.8526725 &  5.2067594 &  55.65993 & 4.620000 & 4.073351 & 34 & 14474.227 & 16762.445 &  1.775 & -5.09416368 & -5.100 & 1.455010e+13\\\\\n",
       "\t 2008 &  2.49100e+09 & -0.82036790 & 15.93407 & 12.425847 &  3.8391003 &  3.1099208 &  63.81513 & 5.780000 & 4.446596 & 35 & 14769.862 & 16781.485 & -1.025 & -4.71455274 & -5.000 & 1.471811e+13\\\\\n",
       "\t 2009 &  1.51514e+11 & -3.45001592 & 16.80770 & 10.932221 & -0.3555463 &  2.5924290 &  75.84205 & 9.250000 & 4.875768 & 36 & 14478.067 & 16349.111 & -2.575 & -2.62204135 & -2.875 & 1.442627e+13\\\\\n",
       "\t 2010 &  8.57890e+10 &  1.86029168 & 16.68584 & 12.341361 &  1.6400434 &  2.0238855 &  84.96441 & 9.630000 & 4.904023 & 37 & 15048.971 & 16789.751 & -0.625 & -2.87117164 & -3.525 & 1.517207e+13\\\\\n",
       "\t 2011 &  1.73119e+11 &  0.81451936 & 16.09843 & 13.563467 &  3.1568416 &  1.1484252 &  89.54682 & 8.950000 & 4.822442 & 38 & 15599.731 & 17052.410 &  0.350 & -2.92021969 & -3.700 & 1.584998e+13\\\\\n",
       "\t 2012 &  1.26895e+11 &  1.53310204 & 15.47584 & 13.644049 &  2.0693373 &  1.3540752 &  93.64926 & 8.070000 & 4.461710 & 39 & 16253.970 & 17442.759 &  2.375 & -2.57443800 & -3.375 & 1.667560e+13\\\\\n",
       "\t 2013 &  1.04665e+11 &  1.13869235 & 15.03662 & 13.578074 &  1.4648327 &  1.4732543 &  95.53469 & 7.370000 & 4.032661 & 40 & 16880.683 & 17812.167 &  2.550 & -2.01347047 & -2.825 & 1.718833e+13\\\\\n",
       "\t 2014 &  1.35673e+11 &  1.54038065 & 14.62196 & 13.545959 &  1.6222230 &  1.3547758 &  95.76670 & 6.170000 & 3.690961 & 41 & 17608.138 & 18261.714 &  3.475 & -2.10098950 & -2.900 & 1.804309e+13\\\\\n",
       "\t 2015 & -2.09363e+11 &  1.95300412 & 14.33033 & 12.460993 &  0.1186271 &  2.2370755 &  96.42523 & 5.280000 & 3.481428 & 42 & 18295.019 & 18799.622 &  3.575 & -2.23239116 & -2.850 & 1.866091e+13\\\\\n",
       "\t 2016 & -1.74573e+11 &  0.93337536 & 14.24494 & 11.939539 &  1.2615832 &  2.4845303 &  98.50410 & 4.870000 & 3.422588 & 43 & 18804.913 & 19141.672 &  2.425 & -2.10821110 & -2.675 & 1.902048e+13\\\\\n",
       "\t 2017 &  2.85900e+10 &  1.59713559 & 13.99863 & 12.261738 &  2.1301100 &  2.1560991 &  97.69294 & 4.360000 & 3.320541 & 44 & 19612.103 & 19612.103 &  2.775 & -1.87487754 & -2.775 & 1.988555e+13\\\\\n",
       "\t 2018 & -3.45435e+11 &  2.40486787 & 13.96252 & 12.360989 &  2.4425833 &  2.4414150 &  99.06098 & 3.900000 & 3.323866 & 45 & 20656.516 & 20193.895 &  3.050 & -2.12681566 & -2.850 & 2.093736e+13\\\\\n",
       "\t 2019 & -2.01057e+11 &  1.82966839 & 14.07222 & 11.872470 &  1.8122101 &  3.4270899 & 100.80504 & 3.670000 & 3.434568 & 46 & 21521.395 & 20692.087 &  3.200 & -2.05452743 & -2.700 & 2.176454e+13\\\\\n",
       "\t 2020 &  1.48299e+11 & -3.70095253 & 14.90174 & 10.202126 &  1.2335844 &  2.2104107 & 126.24359 & 8.050000 & 3.696010 & 47 & 21322.949 & 20234.074 &  1.375 & -2.80299027 & -2.950 & 2.147236e+13\\\\\n",
       "\t 2021 & -9.90150e+10 &  5.77954842 & 14.38439 & 10.892727 &  4.6978589 & -1.1893569 & 120.36337 & 5.350000 & 3.457977 & 48 & 23594.031 & 21407.693 &  1.375 & -3.51645602 & -3.625 & 2.361711e+13\\\\\n",
       "\t 2022 &  3.81730e+10 &  1.67697130 & 15.43433 & 10.020352 &  8.0027998 &  3.9337778 & 115.59759 & 3.611000 & 3.454920 & 49 & 25744.108 & 21822.036 &  1.525 & -3.78364652 & -3.775 & 2.583890e+13\\\\\n",
       "\\end{tabular}\n"
      ],
      "text/markdown": [
       "\n",
       "A data.frame: 50 × 17\n",
       "\n",
       "| Year &lt;dbl&gt; | FDI.Current.Exp &lt;dbl&gt; | GDP.Per.Capita.Growth &lt;dbl&gt; | Government.Final.Consumption.Expenditure &lt;dbl&gt; | Imports.of.Goods.and.Services &lt;dbl&gt; | Inflation..Consumer.Prices. &lt;dbl&gt; | Real.Interest.Rate &lt;dbl&gt; | Central.Government.Debt &lt;dbl&gt; | Unemployement &lt;dbl&gt; | Military.Expenditure &lt;dbl&gt; | X &lt;int&gt; | GDP &lt;dbl&gt; | Real.GDP &lt;dbl&gt; | Adjusted.Savings &lt;dbl&gt; | Current.Account.Balance &lt;dbl&gt; | Exports.of.Goods.and.Services &lt;dbl&gt; | GNI &lt;dbl&gt; |\n",
       "|---|---|---|---|---|---|---|---|---|---|---|---|---|---|---|---|---|\n",
       "| 1973 |  7.41000e+09 |  4.64215574 | 16.77628 |  6.683780 |  6.1777601 |  2.4097353 |  69.31363 | 5.837531 | 5.893871 |  0 |  1425.376 |  6106.370 | 10.925 |  0.49231302 |  0.275 | 1.431848e+12 |\n",
       "| 1974 |  1.62000e+09 | -1.44513434 | 17.16267 |  8.196122 | 11.0548048 |  1.6510645 |  69.31363 | 5.837531 | 5.954111 |  1 |  1545.243 |  6073.363 |  9.200 |  0.12957370 | -0.050 | 1.553300e+12 |\n",
       "| 1975 |  1.14200e+10 | -1.18458141 | 17.61080 |  8.232279 |  9.1431469 | -1.2814192 |  69.31363 | 5.837531 | 5.622679 |  2 |  1684.905 |  6060.875 |  6.500 |  1.07565669 |  0.950 | 1.684554e+12 |\n",
       "| 1976 |  8.41000e+09 |  4.39146287 | 16.78798 |  7.980893 |  5.7448126 |  1.2668917 |  69.31363 | 5.837531 | 5.191071 |  3 |  1873.412 |  6387.436 |  7.450 |  0.23389461 | -0.050 | 1.869603e+12 |\n",
       "| 1977 |  8.36000e+09 |  3.57714671 | 16.38797 |  7.654290 |  6.5016840 |  0.5750689 |  69.31363 | 5.837531 | 5.155617 |  4 |  2081.825 |  6682.805 |  8.125 | -0.68353999 | -1.125 | 2.082670e+12 |\n",
       "| 1978 |  8.87000e+09 |  4.42298461 | 15.76672 |  7.947061 |  7.6309638 |  1.8899033 |  69.31363 | 5.837531 | 4.943087 |  5 |  2351.599 |  7052.711 |  9.375 | -0.66120058 | -1.125 | 2.349856e+12 |\n",
       "| 1979 |  1.66700e+10 |  2.03388706 | 15.40364 |  8.759034 | 11.2544711 |  4.0345477 |  69.31363 | 5.837531 | 4.951992 |  6 |  2627.326 |  7275.999 |  9.200 | -0.01244504 | -0.875 | 2.614202e+12 |\n",
       "| 1980 |  2.30000e+09 | -1.20929826 | 15.87684 |  9.826455 | 13.5492020 |  5.7163905 |  69.31363 | 5.837531 | 5.153537 |  7 |  2857.309 |  7257.316 |  7.050 |  0.07388316 | -0.450 | 2.847055e+12 |\n",
       "| 1981 | -1.55700e+10 |  1.53632028 | 15.81024 |  9.517777 | 10.3347153 |  8.5946198 |  69.31363 | 5.837531 | 5.646541 |  8 |  3207.041 |  7441.485 |  8.000 |  0.15661039 | -0.375 | 3.201886e+12 |\n",
       "| 1982 | -1.34560e+10 | -2.73456973 | 16.58385 |  8.469733 |  6.1314270 |  8.1773474 |  69.31363 | 5.837531 | 6.814057 |  9 |  3343.789 |  7307.314 |  5.625 | -0.16185996 | -0.600 | 3.371448e+12 |\n",
       "| 1983 | -2.73000e+09 |  3.63197930 | 16.38379 |  7.622265 |  3.2124352 |  6.6181602 |  69.31363 | 5.837531 | 6.321144 | 10 |  3634.037 |  7642.265 |  4.275 | -1.04802051 | -1.425 | 3.614168e+12 |\n",
       "| 1984 | -1.24100e+10 |  6.31216766 | 15.72038 |  7.489078 |  4.3005355 |  8.1410881 |  69.31363 | 5.837531 | 6.236417 | 11 |  4037.614 |  8195.295 |  7.025 | -2.33359598 | -2.525 | 4.032292e+12 |\n",
       "| 1985 | -5.95000e+09 |  3.25065642 | 15.91711 |  6.988073 |  3.5456442 |  6.5633266 |  69.31363 | 5.837531 | 6.453219 | 12 |  4338.980 |  8537.004 |  5.600 | -2.71718137 | -2.650 | 4.310074e+12 |\n",
       "| 1986 | -1.14220e+10 |  2.51088597 | 16.11460 |  7.009255 |  1.8980477 |  6.1938603 |  69.31363 | 5.837531 | 6.626523 | 13 |  4579.632 |  8832.611 |  4.000 | -3.21207655 | -2.875 | 4.516535e+12 |\n",
       "| 1987 | -2.34380e+10 |  2.53862354 | 16.00121 |  7.495919 |  3.6645632 |  5.5922379 |  69.31363 | 5.837531 | 6.420274 | 14 |  4855.216 |  9137.745 |  4.525 | -3.30932975 | -3.000 | 4.828878e+12 |\n",
       "| 1988 | -3.52090e+10 |  3.23541611 | 15.66817 |  8.490524 |  4.0777411 |  5.5903822 |  69.31363 | 5.837531 | 6.071278 | 15 |  5236.438 |  9519.427 |  5.525 | -2.31614141 | -2.100 | 5.256093e+12 |\n",
       "| 1989 | -2.48000e+10 |  2.69816667 | 15.62380 |  8.938790 |  4.8270030 |  6.6906869 |  39.12840 | 5.837531 | 5.871206 | 16 |  5641.579 |  9869.003 |  4.850 | -1.76624317 | -1.525 | 5.598381e+12 |\n",
       "| 1990 | -1.12900e+10 |  0.74148610 | 15.90077 |  9.254732 |  5.3979564 |  6.0397492 |  40.93394 | 5.837531 | 5.605175 | 17 |  5963.145 | 10055.129 |  3.825 | -1.32571901 | -1.300 | 5.902290e+12 |\n",
       "| 1991 |  1.47200e+10 | -1.43420013 | 16.31757 |  9.660905 |  4.2349640 |  4.9153465 |  44.06160 | 6.800000 | 4.883429 | 18 |  6158.129 | 10044.237 |  3.650 |  0.05252770 | -0.475 | 6.096750e+12 |\n",
       "| 1992 |  2.84600e+10 |  2.09661277 | 16.07869 |  9.708915 |  3.0288197 |  3.8842380 |  46.05014 | 7.500000 | 4.970467 | 19 |  6520.327 | 10398.046 |  2.900 | -0.78683381 | -0.525 | 6.435469e+12 |\n",
       "| 1993 |  3.25700e+10 |  1.40570857 | 15.64527 |  9.547180 |  2.9516570 |  3.5456172 |  48.24614 | 6.900000 | 4.604350 | 20 |  6858.559 | 10684.179 |  2.375 | -1.23286161 | -0.925 | 6.733768e+12 |\n",
       "| 1994 |  3.40500e+10 |  2.76088230 | 15.20605 |  9.893147 |  2.6074416 |  4.8983100 |  47.35348 | 6.120000 | 4.215265 | 21 |  7287.236 | 11114.646 |  3.350 | -1.66541598 | -1.250 | 7.170251e+12 |\n",
       "| 1995 |  4.09800e+10 |  1.46871823 | 14.94477 | 10.639224 |  2.8054197 |  6.5939964 |  47.20954 | 5.650000 | 3.860246 | 22 |  7639.749 | 11413.012 |  4.025 | -1.48908089 | -1.175 | 7.574691e+12 |\n",
       "| 1996 |  5.36000e+09 |  2.57225920 | 14.52832 | 10.746636 |  2.9312042 |  6.3240737 |  46.74177 | 5.450000 | 3.554982 | 23 |  8073.122 | 11843.599 |  5.025 | -1.54422940 | -1.200 | 8.045907e+12 |\n",
       "| 1997 | -7.70000e+08 |  3.19721205 | 14.22932 | 11.119755 |  2.3376899 |  6.6033649 |  44.11747 | 5.000000 | 3.405562 | 24 |  8577.552 | 12370.299 |  6.300 | -1.63912682 | -1.175 | 8.589268e+12 |\n",
       "| 1998 | -3.63900e+10 |  3.27051107 | 13.98690 | 10.515261 |  1.5522791 |  7.1481784 |  41.12915 | 4.510000 | 3.201558 | 25 |  9062.817 | 12924.876 |  6.825 | -2.36884741 | -1.775 | 9.135464e+12 |\n",
       "| 1999 | -6.49640e+10 |  3.59798502 | 14.03180 | 10.309335 |  2.1880272 |  6.4934264 |  37.72728 | 4.220000 | 3.085677 | 26 |  9631.172 | 13543.774 |  6.300 | -2.97078370 | -2.700 | 9.690388e+12 |\n",
       "| 2000 | -1.62755e+11 |  2.92544098 | 14.02395 | 10.692777 |  3.3768573 |  6.8134243 |  33.26765 | 3.990000 | 3.112242 | 27 | 10250.952 | 14096.033 |  5.925 | -3.91907078 | -3.700 | 1.038367e+13 |\n",
       "| 2001 | -2.64550e+10 | -0.03991973 | 14.53564 |  9.703447 |  2.8261711 |  4.5658479 |  52.44368 | 4.730000 | 3.123810 | 28 | 10581.929 | 14230.726 |  4.375 | -3.72585421 | -3.550 | 1.074607e+13 |\n",
       "| 2002 |  6.79300e+10 |  0.75677405 | 15.05904 |  9.131382 |  1.5860316 |  3.0686428 |  53.86251 | 5.780000 | 3.447618 | 29 | 10929.108 | 14472.711 |  3.075 | -4.17117913 | -4.025 | 1.105222e+13 |\n",
       "| 2003 |  7.81120e+10 |  1.91648045 | 15.24363 |  9.035659 |  2.2700950 |  2.1073108 |  56.25040 | 5.990000 | 3.827161 | 30 | 11456.450 | 14877.312 |  2.325 | -4.56246114 | -4.550 | 1.153485e+13 |\n",
       "| 2004 |  1.60363e+11 |  2.89584778 | 15.15831 |  9.628750 |  2.6772367 |  1.6123110 |  56.66229 | 5.530000 | 4.016313 | 31 | 12217.196 | 15449.757 |  2.750 | -5.19733185 | -5.175 | 1.231764e+13 |\n",
       "| 2005 | -8.97530e+10 |  2.53378411 | 15.04714 |  9.982055 |  3.3927468 |  2.9605063 |  56.53885 | 5.080000 | 4.089232 | 32 | 13039.197 | 15987.958 |  2.900 | -5.74065377 | -5.675 | 1.316652e+13 |\n",
       "| 2006 | -1.46620e+10 |  1.79648633 | 15.00445 | 10.641386 |  3.2259441 |  4.7260897 |  55.46734 | 4.620000 | 4.041342 | 33 | 13815.583 | 16433.147 |  3.675 | -5.91214614 | -5.700 | 1.406638e+13 |\n",
       "| 2007 |  1.77277e+11 |  1.04493014 | 15.18929 | 11.463790 |  2.8526725 |  5.2067594 |  55.65993 | 4.620000 | 4.073351 | 34 | 14474.227 | 16762.445 |  1.775 | -5.09416368 | -5.100 | 1.455010e+13 |\n",
       "| 2008 |  2.49100e+09 | -0.82036790 | 15.93407 | 12.425847 |  3.8391003 |  3.1099208 |  63.81513 | 5.780000 | 4.446596 | 35 | 14769.862 | 16781.485 | -1.025 | -4.71455274 | -5.000 | 1.471811e+13 |\n",
       "| 2009 |  1.51514e+11 | -3.45001592 | 16.80770 | 10.932221 | -0.3555463 |  2.5924290 |  75.84205 | 9.250000 | 4.875768 | 36 | 14478.067 | 16349.111 | -2.575 | -2.62204135 | -2.875 | 1.442627e+13 |\n",
       "| 2010 |  8.57890e+10 |  1.86029168 | 16.68584 | 12.341361 |  1.6400434 |  2.0238855 |  84.96441 | 9.630000 | 4.904023 | 37 | 15048.971 | 16789.751 | -0.625 | -2.87117164 | -3.525 | 1.517207e+13 |\n",
       "| 2011 |  1.73119e+11 |  0.81451936 | 16.09843 | 13.563467 |  3.1568416 |  1.1484252 |  89.54682 | 8.950000 | 4.822442 | 38 | 15599.731 | 17052.410 |  0.350 | -2.92021969 | -3.700 | 1.584998e+13 |\n",
       "| 2012 |  1.26895e+11 |  1.53310204 | 15.47584 | 13.644049 |  2.0693373 |  1.3540752 |  93.64926 | 8.070000 | 4.461710 | 39 | 16253.970 | 17442.759 |  2.375 | -2.57443800 | -3.375 | 1.667560e+13 |\n",
       "| 2013 |  1.04665e+11 |  1.13869235 | 15.03662 | 13.578074 |  1.4648327 |  1.4732543 |  95.53469 | 7.370000 | 4.032661 | 40 | 16880.683 | 17812.167 |  2.550 | -2.01347047 | -2.825 | 1.718833e+13 |\n",
       "| 2014 |  1.35673e+11 |  1.54038065 | 14.62196 | 13.545959 |  1.6222230 |  1.3547758 |  95.76670 | 6.170000 | 3.690961 | 41 | 17608.138 | 18261.714 |  3.475 | -2.10098950 | -2.900 | 1.804309e+13 |\n",
       "| 2015 | -2.09363e+11 |  1.95300412 | 14.33033 | 12.460993 |  0.1186271 |  2.2370755 |  96.42523 | 5.280000 | 3.481428 | 42 | 18295.019 | 18799.622 |  3.575 | -2.23239116 | -2.850 | 1.866091e+13 |\n",
       "| 2016 | -1.74573e+11 |  0.93337536 | 14.24494 | 11.939539 |  1.2615832 |  2.4845303 |  98.50410 | 4.870000 | 3.422588 | 43 | 18804.913 | 19141.672 |  2.425 | -2.10821110 | -2.675 | 1.902048e+13 |\n",
       "| 2017 |  2.85900e+10 |  1.59713559 | 13.99863 | 12.261738 |  2.1301100 |  2.1560991 |  97.69294 | 4.360000 | 3.320541 | 44 | 19612.103 | 19612.103 |  2.775 | -1.87487754 | -2.775 | 1.988555e+13 |\n",
       "| 2018 | -3.45435e+11 |  2.40486787 | 13.96252 | 12.360989 |  2.4425833 |  2.4414150 |  99.06098 | 3.900000 | 3.323866 | 45 | 20656.516 | 20193.895 |  3.050 | -2.12681566 | -2.850 | 2.093736e+13 |\n",
       "| 2019 | -2.01057e+11 |  1.82966839 | 14.07222 | 11.872470 |  1.8122101 |  3.4270899 | 100.80504 | 3.670000 | 3.434568 | 46 | 21521.395 | 20692.087 |  3.200 | -2.05452743 | -2.700 | 2.176454e+13 |\n",
       "| 2020 |  1.48299e+11 | -3.70095253 | 14.90174 | 10.202126 |  1.2335844 |  2.2104107 | 126.24359 | 8.050000 | 3.696010 | 47 | 21322.949 | 20234.074 |  1.375 | -2.80299027 | -2.950 | 2.147236e+13 |\n",
       "| 2021 | -9.90150e+10 |  5.77954842 | 14.38439 | 10.892727 |  4.6978589 | -1.1893569 | 120.36337 | 5.350000 | 3.457977 | 48 | 23594.031 | 21407.693 |  1.375 | -3.51645602 | -3.625 | 2.361711e+13 |\n",
       "| 2022 |  3.81730e+10 |  1.67697130 | 15.43433 | 10.020352 |  8.0027998 |  3.9337778 | 115.59759 | 3.611000 | 3.454920 | 49 | 25744.108 | 21822.036 |  1.525 | -3.78364652 | -3.775 | 2.583890e+13 |\n",
       "\n"
      ],
      "text/plain": [
       "   Year FDI.Current.Exp GDP.Per.Capita.Growth\n",
       "1  1973  7.41000e+09     4.64215574          \n",
       "2  1974  1.62000e+09    -1.44513434          \n",
       "3  1975  1.14200e+10    -1.18458141          \n",
       "4  1976  8.41000e+09     4.39146287          \n",
       "5  1977  8.36000e+09     3.57714671          \n",
       "6  1978  8.87000e+09     4.42298461          \n",
       "7  1979  1.66700e+10     2.03388706          \n",
       "8  1980  2.30000e+09    -1.20929826          \n",
       "9  1981 -1.55700e+10     1.53632028          \n",
       "10 1982 -1.34560e+10    -2.73456973          \n",
       "11 1983 -2.73000e+09     3.63197930          \n",
       "12 1984 -1.24100e+10     6.31216766          \n",
       "13 1985 -5.95000e+09     3.25065642          \n",
       "14 1986 -1.14220e+10     2.51088597          \n",
       "15 1987 -2.34380e+10     2.53862354          \n",
       "16 1988 -3.52090e+10     3.23541611          \n",
       "17 1989 -2.48000e+10     2.69816667          \n",
       "18 1990 -1.12900e+10     0.74148610          \n",
       "19 1991  1.47200e+10    -1.43420013          \n",
       "20 1992  2.84600e+10     2.09661277          \n",
       "21 1993  3.25700e+10     1.40570857          \n",
       "22 1994  3.40500e+10     2.76088230          \n",
       "23 1995  4.09800e+10     1.46871823          \n",
       "24 1996  5.36000e+09     2.57225920          \n",
       "25 1997 -7.70000e+08     3.19721205          \n",
       "26 1998 -3.63900e+10     3.27051107          \n",
       "27 1999 -6.49640e+10     3.59798502          \n",
       "28 2000 -1.62755e+11     2.92544098          \n",
       "29 2001 -2.64550e+10    -0.03991973          \n",
       "30 2002  6.79300e+10     0.75677405          \n",
       "31 2003  7.81120e+10     1.91648045          \n",
       "32 2004  1.60363e+11     2.89584778          \n",
       "33 2005 -8.97530e+10     2.53378411          \n",
       "34 2006 -1.46620e+10     1.79648633          \n",
       "35 2007  1.77277e+11     1.04493014          \n",
       "36 2008  2.49100e+09    -0.82036790          \n",
       "37 2009  1.51514e+11    -3.45001592          \n",
       "38 2010  8.57890e+10     1.86029168          \n",
       "39 2011  1.73119e+11     0.81451936          \n",
       "40 2012  1.26895e+11     1.53310204          \n",
       "41 2013  1.04665e+11     1.13869235          \n",
       "42 2014  1.35673e+11     1.54038065          \n",
       "43 2015 -2.09363e+11     1.95300412          \n",
       "44 2016 -1.74573e+11     0.93337536          \n",
       "45 2017  2.85900e+10     1.59713559          \n",
       "46 2018 -3.45435e+11     2.40486787          \n",
       "47 2019 -2.01057e+11     1.82966839          \n",
       "48 2020  1.48299e+11    -3.70095253          \n",
       "49 2021 -9.90150e+10     5.77954842          \n",
       "50 2022  3.81730e+10     1.67697130          \n",
       "   Government.Final.Consumption.Expenditure Imports.of.Goods.and.Services\n",
       "1  16.77628                                  6.683780                    \n",
       "2  17.16267                                  8.196122                    \n",
       "3  17.61080                                  8.232279                    \n",
       "4  16.78798                                  7.980893                    \n",
       "5  16.38797                                  7.654290                    \n",
       "6  15.76672                                  7.947061                    \n",
       "7  15.40364                                  8.759034                    \n",
       "8  15.87684                                  9.826455                    \n",
       "9  15.81024                                  9.517777                    \n",
       "10 16.58385                                  8.469733                    \n",
       "11 16.38379                                  7.622265                    \n",
       "12 15.72038                                  7.489078                    \n",
       "13 15.91711                                  6.988073                    \n",
       "14 16.11460                                  7.009255                    \n",
       "15 16.00121                                  7.495919                    \n",
       "16 15.66817                                  8.490524                    \n",
       "17 15.62380                                  8.938790                    \n",
       "18 15.90077                                  9.254732                    \n",
       "19 16.31757                                  9.660905                    \n",
       "20 16.07869                                  9.708915                    \n",
       "21 15.64527                                  9.547180                    \n",
       "22 15.20605                                  9.893147                    \n",
       "23 14.94477                                 10.639224                    \n",
       "24 14.52832                                 10.746636                    \n",
       "25 14.22932                                 11.119755                    \n",
       "26 13.98690                                 10.515261                    \n",
       "27 14.03180                                 10.309335                    \n",
       "28 14.02395                                 10.692777                    \n",
       "29 14.53564                                  9.703447                    \n",
       "30 15.05904                                  9.131382                    \n",
       "31 15.24363                                  9.035659                    \n",
       "32 15.15831                                  9.628750                    \n",
       "33 15.04714                                  9.982055                    \n",
       "34 15.00445                                 10.641386                    \n",
       "35 15.18929                                 11.463790                    \n",
       "36 15.93407                                 12.425847                    \n",
       "37 16.80770                                 10.932221                    \n",
       "38 16.68584                                 12.341361                    \n",
       "39 16.09843                                 13.563467                    \n",
       "40 15.47584                                 13.644049                    \n",
       "41 15.03662                                 13.578074                    \n",
       "42 14.62196                                 13.545959                    \n",
       "43 14.33033                                 12.460993                    \n",
       "44 14.24494                                 11.939539                    \n",
       "45 13.99863                                 12.261738                    \n",
       "46 13.96252                                 12.360989                    \n",
       "47 14.07222                                 11.872470                    \n",
       "48 14.90174                                 10.202126                    \n",
       "49 14.38439                                 10.892727                    \n",
       "50 15.43433                                 10.020352                    \n",
       "   Inflation..Consumer.Prices. Real.Interest.Rate Central.Government.Debt\n",
       "1   6.1777601                   2.4097353          69.31363              \n",
       "2  11.0548048                   1.6510645          69.31363              \n",
       "3   9.1431469                  -1.2814192          69.31363              \n",
       "4   5.7448126                   1.2668917          69.31363              \n",
       "5   6.5016840                   0.5750689          69.31363              \n",
       "6   7.6309638                   1.8899033          69.31363              \n",
       "7  11.2544711                   4.0345477          69.31363              \n",
       "8  13.5492020                   5.7163905          69.31363              \n",
       "9  10.3347153                   8.5946198          69.31363              \n",
       "10  6.1314270                   8.1773474          69.31363              \n",
       "11  3.2124352                   6.6181602          69.31363              \n",
       "12  4.3005355                   8.1410881          69.31363              \n",
       "13  3.5456442                   6.5633266          69.31363              \n",
       "14  1.8980477                   6.1938603          69.31363              \n",
       "15  3.6645632                   5.5922379          69.31363              \n",
       "16  4.0777411                   5.5903822          69.31363              \n",
       "17  4.8270030                   6.6906869          39.12840              \n",
       "18  5.3979564                   6.0397492          40.93394              \n",
       "19  4.2349640                   4.9153465          44.06160              \n",
       "20  3.0288197                   3.8842380          46.05014              \n",
       "21  2.9516570                   3.5456172          48.24614              \n",
       "22  2.6074416                   4.8983100          47.35348              \n",
       "23  2.8054197                   6.5939964          47.20954              \n",
       "24  2.9312042                   6.3240737          46.74177              \n",
       "25  2.3376899                   6.6033649          44.11747              \n",
       "26  1.5522791                   7.1481784          41.12915              \n",
       "27  2.1880272                   6.4934264          37.72728              \n",
       "28  3.3768573                   6.8134243          33.26765              \n",
       "29  2.8261711                   4.5658479          52.44368              \n",
       "30  1.5860316                   3.0686428          53.86251              \n",
       "31  2.2700950                   2.1073108          56.25040              \n",
       "32  2.6772367                   1.6123110          56.66229              \n",
       "33  3.3927468                   2.9605063          56.53885              \n",
       "34  3.2259441                   4.7260897          55.46734              \n",
       "35  2.8526725                   5.2067594          55.65993              \n",
       "36  3.8391003                   3.1099208          63.81513              \n",
       "37 -0.3555463                   2.5924290          75.84205              \n",
       "38  1.6400434                   2.0238855          84.96441              \n",
       "39  3.1568416                   1.1484252          89.54682              \n",
       "40  2.0693373                   1.3540752          93.64926              \n",
       "41  1.4648327                   1.4732543          95.53469              \n",
       "42  1.6222230                   1.3547758          95.76670              \n",
       "43  0.1186271                   2.2370755          96.42523              \n",
       "44  1.2615832                   2.4845303          98.50410              \n",
       "45  2.1301100                   2.1560991          97.69294              \n",
       "46  2.4425833                   2.4414150          99.06098              \n",
       "47  1.8122101                   3.4270899         100.80504              \n",
       "48  1.2335844                   2.2104107         126.24359              \n",
       "49  4.6978589                  -1.1893569         120.36337              \n",
       "50  8.0027998                   3.9337778         115.59759              \n",
       "   Unemployement Military.Expenditure X  GDP       Real.GDP  Adjusted.Savings\n",
       "1  5.837531      5.893871              0  1425.376  6106.370 10.925          \n",
       "2  5.837531      5.954111              1  1545.243  6073.363  9.200          \n",
       "3  5.837531      5.622679              2  1684.905  6060.875  6.500          \n",
       "4  5.837531      5.191071              3  1873.412  6387.436  7.450          \n",
       "5  5.837531      5.155617              4  2081.825  6682.805  8.125          \n",
       "6  5.837531      4.943087              5  2351.599  7052.711  9.375          \n",
       "7  5.837531      4.951992              6  2627.326  7275.999  9.200          \n",
       "8  5.837531      5.153537              7  2857.309  7257.316  7.050          \n",
       "9  5.837531      5.646541              8  3207.041  7441.485  8.000          \n",
       "10 5.837531      6.814057              9  3343.789  7307.314  5.625          \n",
       "11 5.837531      6.321144             10  3634.037  7642.265  4.275          \n",
       "12 5.837531      6.236417             11  4037.614  8195.295  7.025          \n",
       "13 5.837531      6.453219             12  4338.980  8537.004  5.600          \n",
       "14 5.837531      6.626523             13  4579.632  8832.611  4.000          \n",
       "15 5.837531      6.420274             14  4855.216  9137.745  4.525          \n",
       "16 5.837531      6.071278             15  5236.438  9519.427  5.525          \n",
       "17 5.837531      5.871206             16  5641.579  9869.003  4.850          \n",
       "18 5.837531      5.605175             17  5963.145 10055.129  3.825          \n",
       "19 6.800000      4.883429             18  6158.129 10044.237  3.650          \n",
       "20 7.500000      4.970467             19  6520.327 10398.046  2.900          \n",
       "21 6.900000      4.604350             20  6858.559 10684.179  2.375          \n",
       "22 6.120000      4.215265             21  7287.236 11114.646  3.350          \n",
       "23 5.650000      3.860246             22  7639.749 11413.012  4.025          \n",
       "24 5.450000      3.554982             23  8073.122 11843.599  5.025          \n",
       "25 5.000000      3.405562             24  8577.552 12370.299  6.300          \n",
       "26 4.510000      3.201558             25  9062.817 12924.876  6.825          \n",
       "27 4.220000      3.085677             26  9631.172 13543.774  6.300          \n",
       "28 3.990000      3.112242             27 10250.952 14096.033  5.925          \n",
       "29 4.730000      3.123810             28 10581.929 14230.726  4.375          \n",
       "30 5.780000      3.447618             29 10929.108 14472.711  3.075          \n",
       "31 5.990000      3.827161             30 11456.450 14877.312  2.325          \n",
       "32 5.530000      4.016313             31 12217.196 15449.757  2.750          \n",
       "33 5.080000      4.089232             32 13039.197 15987.958  2.900          \n",
       "34 4.620000      4.041342             33 13815.583 16433.147  3.675          \n",
       "35 4.620000      4.073351             34 14474.227 16762.445  1.775          \n",
       "36 5.780000      4.446596             35 14769.862 16781.485 -1.025          \n",
       "37 9.250000      4.875768             36 14478.067 16349.111 -2.575          \n",
       "38 9.630000      4.904023             37 15048.971 16789.751 -0.625          \n",
       "39 8.950000      4.822442             38 15599.731 17052.410  0.350          \n",
       "40 8.070000      4.461710             39 16253.970 17442.759  2.375          \n",
       "41 7.370000      4.032661             40 16880.683 17812.167  2.550          \n",
       "42 6.170000      3.690961             41 17608.138 18261.714  3.475          \n",
       "43 5.280000      3.481428             42 18295.019 18799.622  3.575          \n",
       "44 4.870000      3.422588             43 18804.913 19141.672  2.425          \n",
       "45 4.360000      3.320541             44 19612.103 19612.103  2.775          \n",
       "46 3.900000      3.323866             45 20656.516 20193.895  3.050          \n",
       "47 3.670000      3.434568             46 21521.395 20692.087  3.200          \n",
       "48 8.050000      3.696010             47 21322.949 20234.074  1.375          \n",
       "49 5.350000      3.457977             48 23594.031 21407.693  1.375          \n",
       "50 3.611000      3.454920             49 25744.108 21822.036  1.525          \n",
       "   Current.Account.Balance Exports.of.Goods.and.Services GNI         \n",
       "1   0.49231302              0.275                        1.431848e+12\n",
       "2   0.12957370             -0.050                        1.553300e+12\n",
       "3   1.07565669              0.950                        1.684554e+12\n",
       "4   0.23389461             -0.050                        1.869603e+12\n",
       "5  -0.68353999             -1.125                        2.082670e+12\n",
       "6  -0.66120058             -1.125                        2.349856e+12\n",
       "7  -0.01244504             -0.875                        2.614202e+12\n",
       "8   0.07388316             -0.450                        2.847055e+12\n",
       "9   0.15661039             -0.375                        3.201886e+12\n",
       "10 -0.16185996             -0.600                        3.371448e+12\n",
       "11 -1.04802051             -1.425                        3.614168e+12\n",
       "12 -2.33359598             -2.525                        4.032292e+12\n",
       "13 -2.71718137             -2.650                        4.310074e+12\n",
       "14 -3.21207655             -2.875                        4.516535e+12\n",
       "15 -3.30932975             -3.000                        4.828878e+12\n",
       "16 -2.31614141             -2.100                        5.256093e+12\n",
       "17 -1.76624317             -1.525                        5.598381e+12\n",
       "18 -1.32571901             -1.300                        5.902290e+12\n",
       "19  0.05252770             -0.475                        6.096750e+12\n",
       "20 -0.78683381             -0.525                        6.435469e+12\n",
       "21 -1.23286161             -0.925                        6.733768e+12\n",
       "22 -1.66541598             -1.250                        7.170251e+12\n",
       "23 -1.48908089             -1.175                        7.574691e+12\n",
       "24 -1.54422940             -1.200                        8.045907e+12\n",
       "25 -1.63912682             -1.175                        8.589268e+12\n",
       "26 -2.36884741             -1.775                        9.135464e+12\n",
       "27 -2.97078370             -2.700                        9.690388e+12\n",
       "28 -3.91907078             -3.700                        1.038367e+13\n",
       "29 -3.72585421             -3.550                        1.074607e+13\n",
       "30 -4.17117913             -4.025                        1.105222e+13\n",
       "31 -4.56246114             -4.550                        1.153485e+13\n",
       "32 -5.19733185             -5.175                        1.231764e+13\n",
       "33 -5.74065377             -5.675                        1.316652e+13\n",
       "34 -5.91214614             -5.700                        1.406638e+13\n",
       "35 -5.09416368             -5.100                        1.455010e+13\n",
       "36 -4.71455274             -5.000                        1.471811e+13\n",
       "37 -2.62204135             -2.875                        1.442627e+13\n",
       "38 -2.87117164             -3.525                        1.517207e+13\n",
       "39 -2.92021969             -3.700                        1.584998e+13\n",
       "40 -2.57443800             -3.375                        1.667560e+13\n",
       "41 -2.01347047             -2.825                        1.718833e+13\n",
       "42 -2.10098950             -2.900                        1.804309e+13\n",
       "43 -2.23239116             -2.850                        1.866091e+13\n",
       "44 -2.10821110             -2.675                        1.902048e+13\n",
       "45 -1.87487754             -2.775                        1.988555e+13\n",
       "46 -2.12681566             -2.850                        2.093736e+13\n",
       "47 -2.05452743             -2.700                        2.176454e+13\n",
       "48 -2.80299027             -2.950                        2.147236e+13\n",
       "49 -3.51645602             -3.625                        2.361711e+13\n",
       "50 -3.78364652             -3.775                        2.583890e+13"
      ]
     },
     "metadata": {},
     "output_type": "display_data"
    }
   ],
   "source": [
    "finaldf=merge(merged_df, df1, by='Year')\n",
    "finaldf = finaldf[, !names(finaldf) %in% c(\"Index\")]\n",
    "finaldf\n",
    "\n",
    "#write.csv(finaldf, \"../data/csv_files_api/us.csv'\", row.names = FALSE)\n"
   ]
  },
  {
   "cell_type": "markdown",
   "metadata": {},
   "source": [
    "Hence, this is the final US data which can be used for EDA to compare against BRICS countries. "
   ]
  },
  {
   "cell_type": "markdown",
   "metadata": {},
   "source": [
    "## Sources \n",
    "\n",
    "https://bookdown.org/mike/data_analysis/imputation-missing-data.html"
   ]
  }
 ],
 "metadata": {
  "kernelspec": {
   "display_name": "R",
   "language": "R",
   "name": "ir"
  },
  "language_info": {
   "codemirror_mode": "r",
   "file_extension": ".r",
   "mimetype": "text/x-r-source",
   "name": "R",
   "pygments_lexer": "r",
   "version": "4.3.1"
  },
  "orig_nbformat": 4
 },
 "nbformat": 4,
 "nbformat_minor": 2
}
