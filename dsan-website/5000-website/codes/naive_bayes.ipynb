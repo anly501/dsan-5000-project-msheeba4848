{
 "cells": [
  {
   "cell_type": "raw",
   "metadata": {},
   "source": [
    "---\n",
    "title:   \"Naive Bayes\"\n",
    "author: \"Sheeba Moghal\"\n",
    "format:\n",
    "    html:\n",
    "        embed-resources: true\n",
    "        code-fold: true\n",
    "execute:\n",
    "    echo: true\n",
    "jupyter: python3\n",
    "---"
   ]
  },
  {
   "cell_type": "markdown",
   "metadata": {},
   "source": [
    "# Naive Bayes"
   ]
  },
  {
   "cell_type": "markdown",
   "metadata": {},
   "source": [
    "Naive Bayes is a powerful machine-learning algorithmn which is used for machine-learning and probabilistic modelling. It utilises the Baye's Theorem and is most useful for textual analysis, for any categorical identification, may it be in the areas of education, security, health and social sector.  \n",
    "\n",
    "Naive Bayes is built on the Bayes' theorem, which is a conditional probability model. Wherein, it allows the user to calculate the probabilities of a particular class or a category given a set of features or independant variables. As the features are assumed to be independant, the probability is calculated on basis of that assumption.\n",
    "\n",
    "Naive Bayes' primary goal is to classify data into specified classes or categories based on observed attributes. This is accomplished by taking into account both the prior probability of each class (as informed by historical data or domain knowledge) and the likelihood of witnessing the provided traits under each class. This data is used to compute the conditional probability of each class and determine which class is more likely given the given data.\n",
    "\n",
    "There are various types of Naive Bayes: \n",
    "\n",
    "1. The Gaussian Naive Bayes algorithm is appropriate for continuous or real-valued data, such as medical measures. \n",
    "2. Multinomial Naive Bayes excels at text classification, which makes it useful for tasks such as spam detection and sentiment analysis when features represent word counts or phrase frequencies. \n",
    "3. Bernoulli Naive Bayes is an excellent choice for working with binary data, and it is frequently\n",
    "   \n",
    "Due to Naive Bayes' computational efficiency and the ability to carry it on with simplicity, the approach is appealing to many machine learning practitioners. You can acquire accurate and relevant classification results by picking the proper Naive Bayes variant and applying it to your specific dataset. Naive Bayes is especially well-suited for scenarios requiring speed, simplicity, and a probabilistic approach. Because of its probabilistic character and foundation in Bayes' theorem, it can make educated decisions and is a vital addition to the machine learning toolset."
   ]
  },
  {
   "cell_type": "code",
   "execution_count": 1,
   "metadata": {},
   "outputs": [],
   "source": [
    "\n",
    "import  pandas  as  pd\n",
    "import seaborn as sns\n",
    "import matplotlib.pyplot as plt\n",
    "import numpy as np \n",
    "import missingno as msno\n",
    "from sklearn.model_selection import train_test_split\n",
    "from sklearn.naive_bayes import GaussianNB\n",
    "from sklearn.metrics import accuracy_score, precision_score, recall_score, f1_score, confusion_matrix, ConfusionMatrixDisplay\n",
    "from sklearn.feature_extraction.text import TfidfVectorizer\n",
    "from sklearn.naive_bayes import MultinomialNB\n",
    "from sklearn.preprocessing import StandardScaler\n",
    "from sklearn import preprocessing\n"
   ]
  },
  {
   "cell_type": "code",
   "execution_count": 2,
   "metadata": {},
   "outputs": [],
   "source": [
    "# user-defined functions to calculate accuracy\n",
    "def accuracy(y,ypred):\n",
    "    #compute accuracy\n",
    "    print(\"Accuracy:\", accuracy_score(y, ypred)*100)\n",
    "    \n",
    "def precision(y,ypred):\n",
    "    #compute precision\n",
    "    print(\"Precision Score:\", precision_score(y, ypred, average=\"micro\")*100)\n",
    "    \n",
    "def recall(y,ypred):\n",
    "    #compute recall\n",
    "    print(\"Recall Score:\", recall_score(y, ypred, average=\"micro\")*100)\n",
    "\n",
    "\n",
    "def f1(y,ypred):\n",
    "    #compute f1\n",
    "    print(\"F1 Score:\", f1_score(y, ypred, average=\"micro\")*100)"
   ]
  },
  {
   "cell_type": "markdown",
   "metadata": {},
   "source": [
    "## Naive Bayes for Quantitative data"
   ]
  },
  {
   "cell_type": "markdown",
   "metadata": {},
   "source": [
    "As my data consists of data for 5 BRICS nations separately and also contains a dataframe which is a culmination of my existing datasets. As discussed in the cleaning section, the stacked_df has self generated labels section that I had created to ensure it is usable for Naive Bayes. Whilst it is not actually recommended to create self-generated labels for the datasets, especially for the economic data as it works on the progression of time and things are extremely volatile. However, for utilising Naive Bayes I had created it. So my utilisation of Naive Bayes taking the entire dataset into consideration is so I used the Gaussian Naive Bayes data as it is useful for the real-life data. "
   ]
  },
  {
   "cell_type": "code",
   "execution_count": 3,
   "metadata": {},
   "outputs": [],
   "source": [
    "india=pd.read_csv('../data/csv_files_numerical_countries/india.csv')\n",
    "russia=pd.read_csv('../data/csv_files_numerical_countries/russia.csv')\n",
    "china=pd.read_csv('../data/csv_files_numerical_countries/china.csv')\n",
    "brazil=pd.read_csv('../data/csv_files_numerical_countries/brazil.csv')\n",
    "southafrica=pd.read_csv('../data/csv_files_numerical_countries/southafrica.csv')\n",
    "stacked_df = pd.concat([india, russia, china, brazil, southafrica])"
   ]
  },
  {
   "cell_type": "code",
   "execution_count": 4,
   "metadata": {},
   "outputs": [],
   "source": [
    "stacked_df.isna().sum()\n",
    "stacked_df = stacked_df.dropna()"
   ]
  },
  {
   "cell_type": "code",
   "execution_count": 5,
   "metadata": {},
   "outputs": [
    {
     "name": "stdout",
     "output_type": "stream",
     "text": [
      "       year  adj_NNI_g  adj_NNI_c  adj_savings_fix_cap_GNI  \\\n",
      "0 -1.836926   1.211664  -0.705121                 0.393875   \n",
      "1 -1.756840  -1.129654  -0.717481                 0.442708   \n",
      "2 -1.676754  -0.454036  -0.709869                 0.504223   \n",
      "3 -1.596668   1.144657  -0.654868                 0.446455   \n",
      "4 -1.516582  -0.417719  -0.645040                 0.499170   \n",
      "\n",
      "   adj_savings_edu_GNI  adj_NNS_GNI  curr_acc_bal  ex_imp_gdp  ex_imp_growth  \\\n",
      "0            -1.010335    -0.408151     -1.134653   -0.391100       0.098823   \n",
      "1            -1.010335    -0.274835     -1.169065   -0.413871      -0.657708   \n",
      "2            -0.955520    -0.320892     -1.158242   -0.408582       0.196687   \n",
      "3            -0.943078    -0.323459     -1.129084   -0.424880      -0.669952   \n",
      "4            -0.998182    -0.313247     -1.145000   -0.375005       0.356302   \n",
      "\n",
      "   ex_debt_shocks  ...       cpi  inflation  real_interest_rate  \\\n",
      "0       -2.331331  ... -0.398574  -0.668898           -1.288718   \n",
      "1       -2.243219  ... -0.371809  -0.642555           -1.260266   \n",
      "2       -1.929006  ... -0.353591  -0.720427           -1.142488   \n",
      "3       -1.821442  ... -0.324027  -0.661114           -1.162604   \n",
      "4       -1.578976  ... -0.300846  -0.714042           -1.134845   \n",
      "\n",
      "   lending_interest_rate  life_exp_birth  expense_gdp  interest_payments  \\\n",
      "0              -0.687387        0.466640     0.569132          -1.936929   \n",
      "1              -0.687387        0.480544     0.527471          -1.921123   \n",
      "2              -0.687387        0.494275     0.601982          -1.840814   \n",
      "3              -0.687387        0.507809     0.617031          -1.738525   \n",
      "4              -0.687387        0.520998     0.752971          -1.654926   \n",
      "\n",
      "   military expenditure    year.1            labels  \n",
      "0              0.360350 -1.836926       High Growth  \n",
      "1              0.409013 -1.756840       High Growth  \n",
      "2              0.556365 -1.676754   Moderate Growth  \n",
      "3              0.535915 -1.596668  Very High Growth  \n",
      "4              0.622921 -1.516582   Moderate Growth  \n",
      "\n",
      "[5 rows x 36 columns]\n"
     ]
    }
   ],
   "source": [
    "\n",
    "numerical_columns = stacked_df.select_dtypes(include=['float64', 'int64']).columns\n",
    "scaler = StandardScaler()\n",
    "df_standardized = pd.DataFrame(scaler.fit_transform(stacked_df[numerical_columns]), columns=numerical_columns)\n",
    "stacked_df[df_standardized.columns] = df_standardized\n",
    "print(stacked_df.head(5))"
   ]
  },
  {
   "cell_type": "code",
   "execution_count": 6,
   "metadata": {},
   "outputs": [
    {
     "data": {
      "text/plain": [
       "year                             0\n",
       "adj_NNI_g                        0\n",
       "adj_NNI_c                        0\n",
       "adj_savings_fix_cap_GNI          0\n",
       "adj_savings_edu_GNI              0\n",
       "adj_NNS_GNI                      0\n",
       "curr_acc_bal                     0\n",
       "ex_imp_gdp                       0\n",
       "ex_imp_growth                    0\n",
       "ex_debt_shocks                   0\n",
       "final_consump_exp_gdp            0\n",
       "final_consump_exp_growth         0\n",
       "fdi_net_inflows                  0\n",
       "fdi_net_outflows                 0\n",
       "gdp_growth                       0\n",
       "gdp_per_capita_growth            0\n",
       "gener_govt_fin_consump_exp       0\n",
       "gni_growth                       0\n",
       "goods_exp_bop                    0\n",
       "goods_imp_bop                    0\n",
       "imports_goods_services_gdp       0\n",
       "imports_goods_services_growth    0\n",
       "services_gdp                     0\n",
       "services_growth                  0\n",
       "short_term_debt_tot_reserves     0\n",
       "trade_gdp                        0\n",
       "cpi                              0\n",
       "inflation                        0\n",
       "real_interest_rate               0\n",
       "lending_interest_rate            0\n",
       "life_exp_birth                   0\n",
       "expense_gdp                      0\n",
       "interest_payments                0\n",
       "military expenditure             0\n",
       "year.1                           0\n",
       "labels                           0\n",
       "dtype: int64"
      ]
     },
     "execution_count": 6,
     "metadata": {},
     "output_type": "execute_result"
    }
   ],
   "source": [
    "stacked_df = stacked_df.dropna()\n",
    "stacked_df.isna().sum()"
   ]
  },
  {
   "cell_type": "code",
   "execution_count": 7,
   "metadata": {},
   "outputs": [
    {
     "data": {
      "text/html": [
       "<div>\n",
       "<style scoped>\n",
       "    .dataframe tbody tr th:only-of-type {\n",
       "        vertical-align: middle;\n",
       "    }\n",
       "\n",
       "    .dataframe tbody tr th {\n",
       "        vertical-align: top;\n",
       "    }\n",
       "\n",
       "    .dataframe thead th {\n",
       "        text-align: right;\n",
       "    }\n",
       "</style>\n",
       "<table border=\"1\" class=\"dataframe\">\n",
       "  <thead>\n",
       "    <tr style=\"text-align: right;\">\n",
       "      <th></th>\n",
       "      <th>adj_NNI_g</th>\n",
       "      <th>adj_NNI_c</th>\n",
       "      <th>adj_savings_fix_cap_GNI</th>\n",
       "      <th>adj_savings_edu_GNI</th>\n",
       "      <th>adj_NNS_GNI</th>\n",
       "      <th>curr_acc_bal</th>\n",
       "      <th>ex_imp_gdp</th>\n",
       "      <th>ex_imp_growth</th>\n",
       "      <th>ex_debt_shocks</th>\n",
       "      <th>final_consump_exp_gdp</th>\n",
       "      <th>...</th>\n",
       "      <th>cpi</th>\n",
       "      <th>inflation</th>\n",
       "      <th>real_interest_rate</th>\n",
       "      <th>lending_interest_rate</th>\n",
       "      <th>life_exp_birth</th>\n",
       "      <th>expense_gdp</th>\n",
       "      <th>interest_payments</th>\n",
       "      <th>military expenditure</th>\n",
       "      <th>year.1</th>\n",
       "      <th>labels</th>\n",
       "    </tr>\n",
       "  </thead>\n",
       "  <tbody>\n",
       "    <tr>\n",
       "      <th>0</th>\n",
       "      <td>1.211664</td>\n",
       "      <td>-0.705121</td>\n",
       "      <td>0.393875</td>\n",
       "      <td>-1.010335</td>\n",
       "      <td>-0.408151</td>\n",
       "      <td>-1.134653</td>\n",
       "      <td>-0.391100</td>\n",
       "      <td>0.098823</td>\n",
       "      <td>-2.331331</td>\n",
       "      <td>1.629755</td>\n",
       "      <td>...</td>\n",
       "      <td>-0.398574</td>\n",
       "      <td>-0.668898</td>\n",
       "      <td>-1.288718</td>\n",
       "      <td>-0.687387</td>\n",
       "      <td>0.466640</td>\n",
       "      <td>0.569132</td>\n",
       "      <td>-1.936929</td>\n",
       "      <td>0.360350</td>\n",
       "      <td>-1.836926</td>\n",
       "      <td>High Growth</td>\n",
       "    </tr>\n",
       "    <tr>\n",
       "      <th>1</th>\n",
       "      <td>-1.129654</td>\n",
       "      <td>-0.717481</td>\n",
       "      <td>0.442708</td>\n",
       "      <td>-1.010335</td>\n",
       "      <td>-0.274835</td>\n",
       "      <td>-1.169065</td>\n",
       "      <td>-0.413871</td>\n",
       "      <td>-0.657708</td>\n",
       "      <td>-2.243219</td>\n",
       "      <td>1.580500</td>\n",
       "      <td>...</td>\n",
       "      <td>-0.371809</td>\n",
       "      <td>-0.642555</td>\n",
       "      <td>-1.260266</td>\n",
       "      <td>-0.687387</td>\n",
       "      <td>0.480544</td>\n",
       "      <td>0.527471</td>\n",
       "      <td>-1.921123</td>\n",
       "      <td>0.409013</td>\n",
       "      <td>-1.756840</td>\n",
       "      <td>High Growth</td>\n",
       "    </tr>\n",
       "    <tr>\n",
       "      <th>2</th>\n",
       "      <td>-0.454036</td>\n",
       "      <td>-0.709869</td>\n",
       "      <td>0.504223</td>\n",
       "      <td>-0.955520</td>\n",
       "      <td>-0.320892</td>\n",
       "      <td>-1.158242</td>\n",
       "      <td>-0.408582</td>\n",
       "      <td>0.196687</td>\n",
       "      <td>-1.929006</td>\n",
       "      <td>1.567708</td>\n",
       "      <td>...</td>\n",
       "      <td>-0.353591</td>\n",
       "      <td>-0.720427</td>\n",
       "      <td>-1.142488</td>\n",
       "      <td>-0.687387</td>\n",
       "      <td>0.494275</td>\n",
       "      <td>0.601982</td>\n",
       "      <td>-1.840814</td>\n",
       "      <td>0.556365</td>\n",
       "      <td>-1.676754</td>\n",
       "      <td>Moderate Growth</td>\n",
       "    </tr>\n",
       "    <tr>\n",
       "      <th>3</th>\n",
       "      <td>1.144657</td>\n",
       "      <td>-0.654868</td>\n",
       "      <td>0.446455</td>\n",
       "      <td>-0.943078</td>\n",
       "      <td>-0.323459</td>\n",
       "      <td>-1.129084</td>\n",
       "      <td>-0.424880</td>\n",
       "      <td>-0.669952</td>\n",
       "      <td>-1.821442</td>\n",
       "      <td>1.576719</td>\n",
       "      <td>...</td>\n",
       "      <td>-0.324027</td>\n",
       "      <td>-0.661114</td>\n",
       "      <td>-1.162604</td>\n",
       "      <td>-0.687387</td>\n",
       "      <td>0.507809</td>\n",
       "      <td>0.617031</td>\n",
       "      <td>-1.738525</td>\n",
       "      <td>0.535915</td>\n",
       "      <td>-1.596668</td>\n",
       "      <td>Very High Growth</td>\n",
       "    </tr>\n",
       "    <tr>\n",
       "      <th>4</th>\n",
       "      <td>-0.417719</td>\n",
       "      <td>-0.645040</td>\n",
       "      <td>0.499170</td>\n",
       "      <td>-0.998182</td>\n",
       "      <td>-0.313247</td>\n",
       "      <td>-1.145000</td>\n",
       "      <td>-0.375005</td>\n",
       "      <td>0.356302</td>\n",
       "      <td>-1.578976</td>\n",
       "      <td>1.557486</td>\n",
       "      <td>...</td>\n",
       "      <td>-0.300846</td>\n",
       "      <td>-0.714042</td>\n",
       "      <td>-1.134845</td>\n",
       "      <td>-0.687387</td>\n",
       "      <td>0.520998</td>\n",
       "      <td>0.752971</td>\n",
       "      <td>-1.654926</td>\n",
       "      <td>0.622921</td>\n",
       "      <td>-1.516582</td>\n",
       "      <td>Moderate Growth</td>\n",
       "    </tr>\n",
       "    <tr>\n",
       "      <th>...</th>\n",
       "      <td>...</td>\n",
       "      <td>...</td>\n",
       "      <td>...</td>\n",
       "      <td>...</td>\n",
       "      <td>...</td>\n",
       "      <td>...</td>\n",
       "      <td>...</td>\n",
       "      <td>...</td>\n",
       "      <td>...</td>\n",
       "      <td>...</td>\n",
       "      <td>...</td>\n",
       "      <td>...</td>\n",
       "      <td>...</td>\n",
       "      <td>...</td>\n",
       "      <td>...</td>\n",
       "      <td>...</td>\n",
       "      <td>...</td>\n",
       "      <td>...</td>\n",
       "      <td>...</td>\n",
       "      <td>...</td>\n",
       "      <td>...</td>\n",
       "    </tr>\n",
       "    <tr>\n",
       "      <th>45</th>\n",
       "      <td>-0.079197</td>\n",
       "      <td>-0.393533</td>\n",
       "      <td>-0.173223</td>\n",
       "      <td>2.646487</td>\n",
       "      <td>-0.809397</td>\n",
       "      <td>0.709016</td>\n",
       "      <td>-2.224949</td>\n",
       "      <td>-0.581400</td>\n",
       "      <td>-0.018377</td>\n",
       "      <td>-0.876474</td>\n",
       "      <td>...</td>\n",
       "      <td>-0.568803</td>\n",
       "      <td>-0.324423</td>\n",
       "      <td>0.608011</td>\n",
       "      <td>-0.791993</td>\n",
       "      <td>-0.491076</td>\n",
       "      <td>0.959402</td>\n",
       "      <td>0.915725</td>\n",
       "      <td>1.200695</td>\n",
       "      <td>-0.395379</td>\n",
       "      <td>Low Growth</td>\n",
       "    </tr>\n",
       "    <tr>\n",
       "      <th>46</th>\n",
       "      <td>-1.755485</td>\n",
       "      <td>-0.444716</td>\n",
       "      <td>-1.680063</td>\n",
       "      <td>2.520925</td>\n",
       "      <td>-0.809397</td>\n",
       "      <td>0.533660</td>\n",
       "      <td>-2.358258</td>\n",
       "      <td>-0.552348</td>\n",
       "      <td>1.082878</td>\n",
       "      <td>-0.808123</td>\n",
       "      <td>...</td>\n",
       "      <td>-0.677560</td>\n",
       "      <td>1.016738</td>\n",
       "      <td>0.985550</td>\n",
       "      <td>-0.738046</td>\n",
       "      <td>-0.172467</td>\n",
       "      <td>1.579092</td>\n",
       "      <td>0.933567</td>\n",
       "      <td>-0.011703</td>\n",
       "      <td>-0.315293</td>\n",
       "      <td>Low Growth</td>\n",
       "    </tr>\n",
       "    <tr>\n",
       "      <th>47</th>\n",
       "      <td>2.593355</td>\n",
       "      <td>-0.292355</td>\n",
       "      <td>2.254327</td>\n",
       "      <td>1.198101</td>\n",
       "      <td>-0.809244</td>\n",
       "      <td>1.259113</td>\n",
       "      <td>-0.108950</td>\n",
       "      <td>0.902195</td>\n",
       "      <td>3.118460</td>\n",
       "      <td>-0.543260</td>\n",
       "      <td>...</td>\n",
       "      <td>-0.555552</td>\n",
       "      <td>1.052491</td>\n",
       "      <td>1.589457</td>\n",
       "      <td>-0.524708</td>\n",
       "      <td>1.258840</td>\n",
       "      <td>-3.343034</td>\n",
       "      <td>0.877097</td>\n",
       "      <td>0.304242</td>\n",
       "      <td>-0.235207</td>\n",
       "      <td>Low Growth</td>\n",
       "    </tr>\n",
       "    <tr>\n",
       "      <th>48</th>\n",
       "      <td>2.910178</td>\n",
       "      <td>-0.091072</td>\n",
       "      <td>2.559309</td>\n",
       "      <td>0.705554</td>\n",
       "      <td>-0.809092</td>\n",
       "      <td>1.867200</td>\n",
       "      <td>1.203704</td>\n",
       "      <td>1.627926</td>\n",
       "      <td>3.261046</td>\n",
       "      <td>-0.591679</td>\n",
       "      <td>...</td>\n",
       "      <td>-0.453991</td>\n",
       "      <td>0.004715</td>\n",
       "      <td>1.531847</td>\n",
       "      <td>-0.428589</td>\n",
       "      <td>-0.342242</td>\n",
       "      <td>-2.153784</td>\n",
       "      <td>0.850222</td>\n",
       "      <td>0.521039</td>\n",
       "      <td>-0.155121</td>\n",
       "      <td>Very High Growth</td>\n",
       "    </tr>\n",
       "    <tr>\n",
       "      <th>49</th>\n",
       "      <td>-0.293256</td>\n",
       "      <td>-0.062337</td>\n",
       "      <td>-0.327189</td>\n",
       "      <td>0.661458</td>\n",
       "      <td>-0.808939</td>\n",
       "      <td>1.540144</td>\n",
       "      <td>0.785044</td>\n",
       "      <td>0.750756</td>\n",
       "      <td>2.045178</td>\n",
       "      <td>-0.742602</td>\n",
       "      <td>...</td>\n",
       "      <td>-0.527895</td>\n",
       "      <td>-0.058759</td>\n",
       "      <td>1.222244</td>\n",
       "      <td>-0.308691</td>\n",
       "      <td>-0.325522</td>\n",
       "      <td>-0.767836</td>\n",
       "      <td>0.844819</td>\n",
       "      <td>0.742981</td>\n",
       "      <td>-0.075035</td>\n",
       "      <td>Moderate Growth</td>\n",
       "    </tr>\n",
       "  </tbody>\n",
       "</table>\n",
       "<p>111 rows × 35 columns</p>\n",
       "</div>"
      ],
      "text/plain": [
       "    adj_NNI_g  adj_NNI_c  adj_savings_fix_cap_GNI  adj_savings_edu_GNI  \\\n",
       "0    1.211664  -0.705121                 0.393875            -1.010335   \n",
       "1   -1.129654  -0.717481                 0.442708            -1.010335   \n",
       "2   -0.454036  -0.709869                 0.504223            -0.955520   \n",
       "3    1.144657  -0.654868                 0.446455            -0.943078   \n",
       "4   -0.417719  -0.645040                 0.499170            -0.998182   \n",
       "..        ...        ...                      ...                  ...   \n",
       "45  -0.079197  -0.393533                -0.173223             2.646487   \n",
       "46  -1.755485  -0.444716                -1.680063             2.520925   \n",
       "47   2.593355  -0.292355                 2.254327             1.198101   \n",
       "48   2.910178  -0.091072                 2.559309             0.705554   \n",
       "49  -0.293256  -0.062337                -0.327189             0.661458   \n",
       "\n",
       "    adj_NNS_GNI  curr_acc_bal  ex_imp_gdp  ex_imp_growth  ex_debt_shocks  \\\n",
       "0     -0.408151     -1.134653   -0.391100       0.098823       -2.331331   \n",
       "1     -0.274835     -1.169065   -0.413871      -0.657708       -2.243219   \n",
       "2     -0.320892     -1.158242   -0.408582       0.196687       -1.929006   \n",
       "3     -0.323459     -1.129084   -0.424880      -0.669952       -1.821442   \n",
       "4     -0.313247     -1.145000   -0.375005       0.356302       -1.578976   \n",
       "..          ...           ...         ...            ...             ...   \n",
       "45    -0.809397      0.709016   -2.224949      -0.581400       -0.018377   \n",
       "46    -0.809397      0.533660   -2.358258      -0.552348        1.082878   \n",
       "47    -0.809244      1.259113   -0.108950       0.902195        3.118460   \n",
       "48    -0.809092      1.867200    1.203704       1.627926        3.261046   \n",
       "49    -0.808939      1.540144    0.785044       0.750756        2.045178   \n",
       "\n",
       "    final_consump_exp_gdp  ...       cpi  inflation  real_interest_rate  \\\n",
       "0                1.629755  ... -0.398574  -0.668898           -1.288718   \n",
       "1                1.580500  ... -0.371809  -0.642555           -1.260266   \n",
       "2                1.567708  ... -0.353591  -0.720427           -1.142488   \n",
       "3                1.576719  ... -0.324027  -0.661114           -1.162604   \n",
       "4                1.557486  ... -0.300846  -0.714042           -1.134845   \n",
       "..                    ...  ...       ...        ...                 ...   \n",
       "45              -0.876474  ... -0.568803  -0.324423            0.608011   \n",
       "46              -0.808123  ... -0.677560   1.016738            0.985550   \n",
       "47              -0.543260  ... -0.555552   1.052491            1.589457   \n",
       "48              -0.591679  ... -0.453991   0.004715            1.531847   \n",
       "49              -0.742602  ... -0.527895  -0.058759            1.222244   \n",
       "\n",
       "    lending_interest_rate  life_exp_birth  expense_gdp  interest_payments  \\\n",
       "0               -0.687387        0.466640     0.569132          -1.936929   \n",
       "1               -0.687387        0.480544     0.527471          -1.921123   \n",
       "2               -0.687387        0.494275     0.601982          -1.840814   \n",
       "3               -0.687387        0.507809     0.617031          -1.738525   \n",
       "4               -0.687387        0.520998     0.752971          -1.654926   \n",
       "..                    ...             ...          ...                ...   \n",
       "45              -0.791993       -0.491076     0.959402           0.915725   \n",
       "46              -0.738046       -0.172467     1.579092           0.933567   \n",
       "47              -0.524708        1.258840    -3.343034           0.877097   \n",
       "48              -0.428589       -0.342242    -2.153784           0.850222   \n",
       "49              -0.308691       -0.325522    -0.767836           0.844819   \n",
       "\n",
       "    military expenditure    year.1            labels  \n",
       "0               0.360350 -1.836926       High Growth  \n",
       "1               0.409013 -1.756840       High Growth  \n",
       "2               0.556365 -1.676754   Moderate Growth  \n",
       "3               0.535915 -1.596668  Very High Growth  \n",
       "4               0.622921 -1.516582   Moderate Growth  \n",
       "..                   ...       ...               ...  \n",
       "45              1.200695 -0.395379        Low Growth  \n",
       "46             -0.011703 -0.315293        Low Growth  \n",
       "47              0.304242 -0.235207        Low Growth  \n",
       "48              0.521039 -0.155121  Very High Growth  \n",
       "49              0.742981 -0.075035   Moderate Growth  \n",
       "\n",
       "[111 rows x 35 columns]"
      ]
     },
     "execution_count": 7,
     "metadata": {},
     "output_type": "execute_result"
    }
   ],
   "source": [
    "stacked_df.drop(columns='year')"
   ]
  },
  {
   "cell_type": "markdown",
   "metadata": {},
   "source": [
    "We drop the year column since we have stacked the dataframe on top of each year. When we analyse the data, usually, especially countries like the BRICS, we either analyse on basis of a single year or do it for a single country according to time. When you want the time parameter to be part of the dataset, the problem that can be seen is that you can't analyse all the countries together. But if you want to do it separately for all the datasets, the sample size is often doing to be smaller and be biased for that specific country's performance. Hence, for us, the year column is dropped."
   ]
  },
  {
   "cell_type": "markdown",
   "metadata": {},
   "source": [
    "### Feature-Selection Method"
   ]
  },
  {
   "cell_type": "markdown",
   "metadata": {},
   "source": [
    "The feature-selection method plays an important role in understanding which features to select as most of the times high multicollinearity can affect the dataset. According to this, the features mentioned below, the top 10 and the bottom 10 are the features that are highly correlated with each other and can be removed."
   ]
  },
  {
   "cell_type": "code",
   "execution_count": 47,
   "metadata": {},
   "outputs": [
    {
     "name": "stdout",
     "output_type": "stream",
     "text": [
      "Top 10 Positive Correlations:\n"
     ]
    },
    {
     "name": "stderr",
     "output_type": "stream",
     "text": [
      "/var/folders/cm/1bq_zvw92w99j_5d1p5jq5v40000gn/T/ipykernel_97111/4149099563.py:2: FutureWarning: The default value of numeric_only in DataFrame.corr is deprecated. In a future version, it will default to False. Select only valid columns or specify the value of numeric_only to silence this warning.\n",
      "  corr = stacked_df.corr()\n"
     ]
    },
    {
     "data": {
      "text/plain": [
       "year                           year                             1.000000\n",
       "final_consump_exp_growth       final_consump_exp_growth         1.000000\n",
       "gni_growth                     gni_growth                       1.000000\n",
       "gener_govt_fin_consump_exp     gener_govt_fin_consump_exp       1.000000\n",
       "gdp_per_capita_growth          gdp_per_capita_growth            1.000000\n",
       "gdp_growth                     gdp_growth                       1.000000\n",
       "fdi_net_outflows               fdi_net_outflows                 1.000000\n",
       "fdi_net_inflows                fdi_net_inflows                  1.000000\n",
       "final_consump_exp_gdp          final_consump_exp_gdp            1.000000\n",
       "adj_NNI_c                      adj_NNI_c                        1.000000\n",
       "ex_debt_shocks                 ex_debt_shocks                   1.000000\n",
       "ex_imp_growth                  ex_imp_growth                    1.000000\n",
       "ex_imp_gdp                     ex_imp_gdp                       1.000000\n",
       "curr_acc_bal                   curr_acc_bal                     1.000000\n",
       "adj_NNS_GNI                    adj_NNS_GNI                      1.000000\n",
       "adj_savings_edu_GNI            adj_savings_edu_GNI              1.000000\n",
       "goods_exp_bop                  goods_exp_bop                    1.000000\n",
       "goods_imp_bop                  goods_imp_bop                    1.000000\n",
       "imports_goods_services_gdp     imports_goods_services_gdp       1.000000\n",
       "imports_goods_services_growth  imports_goods_services_growth    1.000000\n",
       "services_gdp                   services_gdp                     1.000000\n",
       "services_growth                services_growth                  1.000000\n",
       "short_term_debt_tot_reserves   short_term_debt_tot_reserves     1.000000\n",
       "trade_gdp                      trade_gdp                        1.000000\n",
       "cpi                            cpi                              1.000000\n",
       "inflation                      inflation                        1.000000\n",
       "real_interest_rate             real_interest_rate               1.000000\n",
       "lending_interest_rate          lending_interest_rate            1.000000\n",
       "life_exp_birth                 life_exp_birth                   1.000000\n",
       "expense_gdp                    expense_gdp                      1.000000\n",
       "interest_payments              interest_payments                1.000000\n",
       "military expenditure           military expenditure             1.000000\n",
       "year.1                         year                             1.000000\n",
       "adj_savings_fix_cap_GNI        adj_savings_fix_cap_GNI          1.000000\n",
       "year.1                         year.1                           1.000000\n",
       "adj_NNI_g                      adj_NNI_g                        1.000000\n",
       "year                           year.1                           1.000000\n",
       "goods_exp_bop                  goods_imp_bop                    0.997220\n",
       "goods_imp_bop                  goods_exp_bop                    0.997220\n",
       "services_gdp                   fdi_net_inflows                  0.985135\n",
       "fdi_net_inflows                services_gdp                     0.985135\n",
       "                               imports_goods_services_growth    0.980944\n",
       "imports_goods_services_growth  fdi_net_inflows                  0.980944\n",
       "real_interest_rate             curr_acc_bal                     0.976858\n",
       "curr_acc_bal                   real_interest_rate               0.976858\n",
       "                               imports_goods_services_growth    0.976314\n",
       "imports_goods_services_growth  curr_acc_bal                     0.976314\n",
       "                               services_gdp                     0.974563\n",
       "services_gdp                   imports_goods_services_growth    0.974563\n",
       "imports_goods_services_growth  real_interest_rate               0.968477\n",
       "dtype: float64"
      ]
     },
     "metadata": {},
     "output_type": "display_data"
    },
    {
     "name": "stdout",
     "output_type": "stream",
     "text": [
      "\n",
      "Top 10 Negative Correlations:\n"
     ]
    },
    {
     "data": {
      "text/plain": [
       "final_consump_exp_gdp          fdi_net_inflows                 -0.955139\n",
       "fdi_net_inflows                final_consump_exp_gdp           -0.955139\n",
       "adj_savings_edu_GNI            gener_govt_fin_consump_exp      -0.949196\n",
       "gener_govt_fin_consump_exp     adj_savings_edu_GNI             -0.949196\n",
       "final_consump_exp_gdp          imports_goods_services_growth   -0.938298\n",
       "imports_goods_services_growth  final_consump_exp_gdp           -0.938298\n",
       "final_consump_exp_gdp          services_gdp                    -0.934168\n",
       "services_gdp                   final_consump_exp_gdp           -0.934168\n",
       "services_growth                final_consump_exp_gdp           -0.921622\n",
       "final_consump_exp_gdp          services_growth                 -0.921622\n",
       "                               curr_acc_bal                    -0.913581\n",
       "curr_acc_bal                   final_consump_exp_gdp           -0.913581\n",
       "real_interest_rate             final_consump_exp_gdp           -0.892014\n",
       "final_consump_exp_gdp          real_interest_rate              -0.892014\n",
       "gener_govt_fin_consump_exp     inflation                       -0.879752\n",
       "dtype: float64"
      ]
     },
     "metadata": {},
     "output_type": "display_data"
    }
   ],
   "source": [
    "# finding correlations - top 10 and bottom 10\n",
    "corr = stacked_df.corr()\n",
    "\n",
    "positive_corr = corr[corr > 0].stack().sort_values(ascending=False).head(50)\n",
    "print(\"Top 10 Positive Correlations:\")\n",
    "display(positive_corr)\n",
    "\n",
    "negative_corr = corr[corr < 0].stack().sort_values(ascending=True).head(15)\n",
    "print(\"\\nTop 10 Negative Correlations:\")\n",
    "display(negative_corr)"
   ]
  },
  {
   "cell_type": "markdown",
   "metadata": {},
   "source": [
    "We see that these are highly positively correlated values after filtering the correlation within itself and the highly negatively correlated values. These variables can cause high multicollinearity and hence should be dropped."
   ]
  },
  {
   "cell_type": "code",
   "execution_count": 9,
   "metadata": {},
   "outputs": [
    {
     "name": "stdout",
     "output_type": "stream",
     "text": [
      "        year  adj_NNI_g  adj_savings_fix_cap_GNI  adj_savings_edu_GNI  \\\n",
      "0  -1.836926   1.211664                 0.393875            -1.010335   \n",
      "1  -1.756840  -1.129654                 0.442708            -1.010335   \n",
      "2  -1.676754  -0.454036                 0.504223            -0.955520   \n",
      "3  -1.596668   1.144657                 0.446455            -0.943078   \n",
      "4  -1.516582  -0.417719                 0.499170            -0.998182   \n",
      "..       ...        ...                      ...                  ...   \n",
      "45 -0.395379  -0.079197                -0.173223             2.646487   \n",
      "46 -0.315293  -1.755485                -1.680063             2.520925   \n",
      "47 -0.235207   2.593355                 2.254327             1.198101   \n",
      "48 -0.155121   2.910178                 2.559309             0.705554   \n",
      "49 -0.075035  -0.293256                -0.327189             0.661458   \n",
      "\n",
      "    adj_NNS_GNI  ex_imp_growth  ex_debt_shocks  fdi_net_outflows  gdp_growth  \\\n",
      "0     -0.408151       0.098823       -2.331331         -0.649470    1.226367   \n",
      "1     -0.274835      -0.657708       -2.243219         -0.649826    0.968687   \n",
      "2     -0.320892       0.196687       -1.929006         -0.649997    0.075000   \n",
      "3     -0.323459      -0.669952       -1.821442         -0.649424    1.421696   \n",
      "4     -0.313247       0.356302       -1.578976         -0.649554    0.196845   \n",
      "..          ...            ...             ...               ...         ...   \n",
      "45    -0.809397      -0.581400       -0.018377          0.245550   -0.728242   \n",
      "46    -0.809397      -0.552348        1.082878         -1.321883   -0.792604   \n",
      "47    -0.809244       0.902195        3.118460         -1.033997   -0.565458   \n",
      "48    -0.809092       1.627926        3.261046          1.141112   -0.788351   \n",
      "49    -0.808939       0.750756        2.045178          1.524978   -0.824551   \n",
      "\n",
      "    short_term_debt_tot_reserves  lending_interest_rate  life_exp_birth  \\\n",
      "0                      -0.196432              -0.687387        0.466640   \n",
      "1                       0.191871              -0.687387        0.480544   \n",
      "2                       0.592030              -0.687387        0.494275   \n",
      "3                       1.084042              -0.687387        0.507809   \n",
      "4                       1.185841              -0.687387        0.520998   \n",
      "..                           ...                    ...             ...   \n",
      "45                     -0.630370              -0.791993       -0.491076   \n",
      "46                     -1.388984              -0.738046       -0.172467   \n",
      "47                     -1.371933              -0.524708        1.258840   \n",
      "48                      0.733309              -0.428589       -0.342242   \n",
      "49                      0.149440              -0.308691       -0.325522   \n",
      "\n",
      "    military expenditure            labels  \n",
      "0               0.360350       High Growth  \n",
      "1               0.409013       High Growth  \n",
      "2               0.556365   Moderate Growth  \n",
      "3               0.535915  Very High Growth  \n",
      "4               0.622921   Moderate Growth  \n",
      "..                   ...               ...  \n",
      "45              1.200695        Low Growth  \n",
      "46             -0.011703        Low Growth  \n",
      "47              0.304242        Low Growth  \n",
      "48              0.521039  Very High Growth  \n",
      "49              0.742981   Moderate Growth  \n",
      "\n",
      "[111 rows x 14 columns]\n"
     ]
    }
   ],
   "source": [
    "correlation_threshold = 0.8  # Adjust as needed\n",
    "negative_correlation_threshold = -0.8  # Adjust as needed\n",
    "\n",
    "columns_to_drop = set()\n",
    "\n",
    "for i in range(len(corr.columns)):\n",
    "    for j in range(i):\n",
    "        if abs(corr.iloc[i, j]) > correlation_threshold or corr.iloc[i, j] < negative_correlation_threshold:\n",
    "            colname = corr.columns[i]\n",
    "            columns_to_drop.add(colname)\n",
    "\n",
    "\n",
    "stacked_df_dropped = stacked_df.drop(columns=columns_to_drop)\n",
    "\n",
    "print(stacked_df_dropped)"
   ]
  },
  {
   "cell_type": "markdown",
   "metadata": {},
   "source": [
    "With a threshold of 0.8, we remove all the columns above and below. Economic data is obviously highly correlated which is why methods like Naive Bayes won't suffice, and are in need of advanced econometrics models, however, attempting to reduce multicollinearity as much as possible is better. "
   ]
  },
  {
   "cell_type": "markdown",
   "metadata": {},
   "source": [
    "## Train-Test-Split"
   ]
  },
  {
   "cell_type": "markdown",
   "metadata": {},
   "source": [
    "Since our data consists of user-defined labels that are the dependant values and the quantitative data which are the independant values. And then the data is separated into training, testing and classification."
   ]
  },
  {
   "cell_type": "code",
   "execution_count": 10,
   "metadata": {},
   "outputs": [
    {
     "name": "stdout",
     "output_type": "stream",
     "text": [
      "Train data    : (88, 13)\n",
      "Test data     : (23, 13)\n",
      "Train Output  : (88,)\n",
      "Test Output   : (23,)\n",
      "Valid Train data    : (11, 13)\n",
      "Valid Test data     : (12, 13)\n",
      "Valid Train Output  : (11,)\n",
      "Valid Test Output   : (12,)\n",
      "['High Growth' 'Low Growth' 'Moderate Growth' 'Very High Growth']\n"
     ]
    }
   ],
   "source": [
    "Y = stacked_df_dropped['labels']\n",
    "X =  stacked_df_dropped.drop(['labels'],axis =1)\n",
    "\n",
    "from sklearn.model_selection import train_test_split\n",
    "\n",
    "X_train, X_test, y_train, y_test = train_test_split(X, Y, random_state=42, test_size=0.2)\n",
    "x_train_valid, x_valid_test, y_train_valid, y_valid_test = train_test_split(X_test, y_test, test_size=0.5, random_state=0)\n",
    "\n",
    "print('Train data    : ' + str(X_train.shape))\n",
    "print('Test data     : ' + str(X_test.shape))\n",
    "print('Train Output  : ' + str(y_train.shape))\n",
    "print('Test Output   : ' + str(y_test.shape))\n",
    "print('Valid Train data    : ' + str(x_train_valid.shape))\n",
    "print('Valid Test data     : ' + str(x_valid_test.shape))\n",
    "print('Valid Train Output  : ' + str(y_train_valid.shape))\n",
    "print('Valid Test Output   : ' + str(y_valid_test.shape))\n",
    "\n",
    "yop = [str(i) for i in Y] \n",
    "le = preprocessing.LabelEncoder()\n",
    "Y_op = le.fit_transform(yop)\n",
    "print(le.classes_)"
   ]
  },
  {
   "cell_type": "code",
   "execution_count": 11,
   "metadata": {},
   "outputs": [
    {
     "data": {
      "text/html": [
       "<style>#sk-container-id-1 {color: black;background-color: white;}#sk-container-id-1 pre{padding: 0;}#sk-container-id-1 div.sk-toggleable {background-color: white;}#sk-container-id-1 label.sk-toggleable__label {cursor: pointer;display: block;width: 100%;margin-bottom: 0;padding: 0.3em;box-sizing: border-box;text-align: center;}#sk-container-id-1 label.sk-toggleable__label-arrow:before {content: \"▸\";float: left;margin-right: 0.25em;color: #696969;}#sk-container-id-1 label.sk-toggleable__label-arrow:hover:before {color: black;}#sk-container-id-1 div.sk-estimator:hover label.sk-toggleable__label-arrow:before {color: black;}#sk-container-id-1 div.sk-toggleable__content {max-height: 0;max-width: 0;overflow: hidden;text-align: left;background-color: #f0f8ff;}#sk-container-id-1 div.sk-toggleable__content pre {margin: 0.2em;color: black;border-radius: 0.25em;background-color: #f0f8ff;}#sk-container-id-1 input.sk-toggleable__control:checked~div.sk-toggleable__content {max-height: 200px;max-width: 100%;overflow: auto;}#sk-container-id-1 input.sk-toggleable__control:checked~label.sk-toggleable__label-arrow:before {content: \"▾\";}#sk-container-id-1 div.sk-estimator input.sk-toggleable__control:checked~label.sk-toggleable__label {background-color: #d4ebff;}#sk-container-id-1 div.sk-label input.sk-toggleable__control:checked~label.sk-toggleable__label {background-color: #d4ebff;}#sk-container-id-1 input.sk-hidden--visually {border: 0;clip: rect(1px 1px 1px 1px);clip: rect(1px, 1px, 1px, 1px);height: 1px;margin: -1px;overflow: hidden;padding: 0;position: absolute;width: 1px;}#sk-container-id-1 div.sk-estimator {font-family: monospace;background-color: #f0f8ff;border: 1px dotted black;border-radius: 0.25em;box-sizing: border-box;margin-bottom: 0.5em;}#sk-container-id-1 div.sk-estimator:hover {background-color: #d4ebff;}#sk-container-id-1 div.sk-parallel-item::after {content: \"\";width: 100%;border-bottom: 1px solid gray;flex-grow: 1;}#sk-container-id-1 div.sk-label:hover label.sk-toggleable__label {background-color: #d4ebff;}#sk-container-id-1 div.sk-serial::before {content: \"\";position: absolute;border-left: 1px solid gray;box-sizing: border-box;top: 0;bottom: 0;left: 50%;z-index: 0;}#sk-container-id-1 div.sk-serial {display: flex;flex-direction: column;align-items: center;background-color: white;padding-right: 0.2em;padding-left: 0.2em;position: relative;}#sk-container-id-1 div.sk-item {position: relative;z-index: 1;}#sk-container-id-1 div.sk-parallel {display: flex;align-items: stretch;justify-content: center;background-color: white;position: relative;}#sk-container-id-1 div.sk-item::before, #sk-container-id-1 div.sk-parallel-item::before {content: \"\";position: absolute;border-left: 1px solid gray;box-sizing: border-box;top: 0;bottom: 0;left: 50%;z-index: -1;}#sk-container-id-1 div.sk-parallel-item {display: flex;flex-direction: column;z-index: 1;position: relative;background-color: white;}#sk-container-id-1 div.sk-parallel-item:first-child::after {align-self: flex-end;width: 50%;}#sk-container-id-1 div.sk-parallel-item:last-child::after {align-self: flex-start;width: 50%;}#sk-container-id-1 div.sk-parallel-item:only-child::after {width: 0;}#sk-container-id-1 div.sk-dashed-wrapped {border: 1px dashed gray;margin: 0 0.4em 0.5em 0.4em;box-sizing: border-box;padding-bottom: 0.4em;background-color: white;}#sk-container-id-1 div.sk-label label {font-family: monospace;font-weight: bold;display: inline-block;line-height: 1.2em;}#sk-container-id-1 div.sk-label-container {text-align: center;}#sk-container-id-1 div.sk-container {/* jupyter's `normalize.less` sets `[hidden] { display: none; }` but bootstrap.min.css set `[hidden] { display: none !important; }` so we also need the `!important` here to be able to override the default hidden behavior on the sphinx rendered scikit-learn.org. See: https://github.com/scikit-learn/scikit-learn/issues/21755 */display: inline-block !important;position: relative;}#sk-container-id-1 div.sk-text-repr-fallback {display: none;}</style><div id=\"sk-container-id-1\" class=\"sk-top-container\"><div class=\"sk-text-repr-fallback\"><pre>GaussianNB()</pre><b>In a Jupyter environment, please rerun this cell to show the HTML representation or trust the notebook. <br />On GitHub, the HTML representation is unable to render, please try loading this page with nbviewer.org.</b></div><div class=\"sk-container\" hidden><div class=\"sk-item\"><div class=\"sk-estimator sk-toggleable\"><input class=\"sk-toggleable__control sk-hidden--visually\" id=\"sk-estimator-id-1\" type=\"checkbox\" checked><label for=\"sk-estimator-id-1\" class=\"sk-toggleable__label sk-toggleable__label-arrow\">GaussianNB</label><div class=\"sk-toggleable__content\"><pre>GaussianNB()</pre></div></div></div></div></div>"
      ],
      "text/plain": [
       "GaussianNB()"
      ]
     },
     "execution_count": 11,
     "metadata": {},
     "output_type": "execute_result"
    }
   ],
   "source": [
    "naive_bayes = GaussianNB()\n",
    "naive_bayes.fit(X_train, y_train)"
   ]
  },
  {
   "cell_type": "code",
   "execution_count": 12,
   "metadata": {},
   "outputs": [],
   "source": [
    "# Predicting the train data and test data\n",
    "pred_train = naive_bayes.predict(X_train)\n",
    "pred_test = naive_bayes.predict(X_test)\n",
    "pred_valid = naive_bayes.predict(x_train_valid)"
   ]
  },
  {
   "cell_type": "code",
   "execution_count": 13,
   "metadata": {},
   "outputs": [
    {
     "name": "stdout",
     "output_type": "stream",
     "text": [
      "Accuracy: 28.40909090909091\n",
      "Precision Score: 28.40909090909091\n",
      "Recall Score: 28.40909090909091\n",
      "F1 Score: 28.40909090909091\n"
     ]
    }
   ],
   "source": [
    "# Training data\n",
    "accuracy(y_train, pred_train)\n",
    "precision(y_train, pred_train)\n",
    "recall(y_train, pred_train)\n",
    "f1(y_train, pred_train)\n",
    "    "
   ]
  },
  {
   "cell_type": "code",
   "execution_count": 14,
   "metadata": {},
   "outputs": [
    {
     "name": "stdout",
     "output_type": "stream",
     "text": [
      "Accuracy: 13.043478260869565\n",
      "Precision Score: 13.043478260869565\n",
      "Recall Score: 13.043478260869565\n",
      "F1 Score: 13.043478260869565\n"
     ]
    }
   ],
   "source": [
    "# Testing Data\n",
    "accuracy(y_test, pred_test)\n",
    "precision(y_test, pred_test)\n",
    "recall(y_test, pred_test)\n",
    "f1(y_test, pred_test)"
   ]
  },
  {
   "cell_type": "code",
   "execution_count": 15,
   "metadata": {},
   "outputs": [
    {
     "name": "stdout",
     "output_type": "stream",
     "text": [
      "Accuracy: 18.181818181818183\n",
      "Precision Score: 18.181818181818183\n",
      "Recall Score: 18.181818181818183\n",
      "F1 Score: 18.181818181818183\n"
     ]
    }
   ],
   "source": [
    "# Validation \n",
    "accuracy(y_train_valid, pred_valid)\n",
    "precision(y_train_valid, pred_valid)\n",
    "recall(y_train_valid, pred_valid)\n",
    "f1(y_train_valid, pred_valid)"
   ]
  },
  {
   "cell_type": "markdown",
   "metadata": {},
   "source": [
    "When applied to the economic dataset, the Naive Bayes model performs less than optimally on a number of evaluation metrics. The model's performance during training yields a about 28.41% accuracy, precision, recall, and F1 score, suggesting a moderate capacity to identify patterns in the training set. But the model performs much worse when evaluated on untested data; accuracy, precision, recall, and F1 score all fall to about 13.04%. This significant decline indicates possible limits in the Naive Bayes model's capacity to identify intricate correlations within the data by indicating that it has trouble generalising well to new cases. The validation findings highlight the difficulties the model has in robustly forecasting GDP growth rates, with accuracy, precision, recall, and an F1 score of roughly 18.18%. Considering the training, testing, and validation sets' combined low scores, it appears that the Naive Bayes strategy may not be the best choice for this regression job. "
   ]
  },
  {
   "cell_type": "code",
   "execution_count": 16,
   "metadata": {},
   "outputs": [
    {
     "data": {
      "text/plain": [
       "<sklearn.metrics._plot.confusion_matrix.ConfusionMatrixDisplay at 0x1185eebc0>"
      ]
     },
     "execution_count": 16,
     "metadata": {},
     "output_type": "execute_result"
    },
    {
     "data": {
      "image/png": "[encoded data removed]",
      "text/plain": [
       "<Figure size 640x480 with 2 Axes>"
      ]
     },
     "metadata": {},
     "output_type": "display_data"
    }
   ],
   "source": [
    "ConfusionMatrixDisplay.from_predictions(y_test, pred_test,xticks_rotation='vertical')"
   ]
  },
  {
   "cell_type": "markdown",
   "metadata": {},
   "source": [
    "According to the confusion matrix in the testing data, we see that the Low Growth not been predicted properly, followed by Moderate Growth. This is also a problem that comes when we self-merge the dataset as we don't exactly know the 'ground truth'."
   ]
  },
  {
   "cell_type": "code",
   "execution_count": 17,
   "metadata": {},
   "outputs": [
    {
     "data": {
      "text/plain": [
       "<sklearn.metrics._plot.confusion_matrix.ConfusionMatrixDisplay at 0x152f4d4e0>"
      ]
     },
     "execution_count": 17,
     "metadata": {},
     "output_type": "execute_result"
    },
    {
     "data": {
      "image/png": "[encoded data removed]",
      "text/plain": [
       "<Figure size 640x480 with 2 Axes>"
      ]
     },
     "metadata": {},
     "output_type": "display_data"
    }
   ],
   "source": [
    "ConfusionMatrixDisplay.from_predictions(y_train, pred_train,xticks_rotation='vertical')"
   ]
  },
  {
   "cell_type": "markdown",
   "metadata": {},
   "source": [
    "In the training data, Low Growth, followed by Moderate Growth and then then Very-High growth have all been mislabelled."
   ]
  },
  {
   "cell_type": "code",
   "execution_count": 18,
   "metadata": {},
   "outputs": [
    {
     "data": {
      "text/plain": [
       "<sklearn.metrics._plot.confusion_matrix.ConfusionMatrixDisplay at 0x1530cb8e0>"
      ]
     },
     "execution_count": 18,
     "metadata": {},
     "output_type": "execute_result"
    },
    {
     "data": {
      "image/png": "[encoded data removed]",
      "text/plain": [
       "<Figure size 640x480 with 2 Axes>"
      ]
     },
     "metadata": {},
     "output_type": "display_data"
    }
   ],
   "source": [
    "ConfusionMatrixDisplay.from_predictions(y_train_valid, pred_valid, xticks_rotation='vertical') "
   ]
  },
  {
   "cell_type": "markdown",
   "metadata": {},
   "source": [
    "The predictions dataset performs a little better than the testing data."
   ]
  },
  {
   "cell_type": "markdown",
   "metadata": {},
   "source": [
    "## Naive Bayes for Textual Data data"
   ]
  },
  {
   "cell_type": "markdown",
   "metadata": {},
   "source": [
    "Understanding the textual data is also just as important since the textual data gives us a lot of information about whatever is happening in terms of the public opinion which is extremely important from the point of view of the data. Understanding and carefully making sure to categorise this is important as well. For this data, we have used the textual data that has been retrieved from the Reddit PRAW wrapper and has been labelled using the Sentiment Intensity Analyser. "
   ]
  },
  {
   "cell_type": "code",
   "execution_count": 19,
   "metadata": {},
   "outputs": [],
   "source": [
    "finaldf=pd.read_csv('../data/csv_files_textual/sentiment.csv')"
   ]
  },
  {
   "cell_type": "code",
   "execution_count": 20,
   "metadata": {},
   "outputs": [
    {
     "data": {
      "text/html": [
       "<div>\n",
       "<style scoped>\n",
       "    .dataframe tbody tr th:only-of-type {\n",
       "        vertical-align: middle;\n",
       "    }\n",
       "\n",
       "    .dataframe tbody tr th {\n",
       "        vertical-align: top;\n",
       "    }\n",
       "\n",
       "    .dataframe thead th {\n",
       "        text-align: right;\n",
       "    }\n",
       "</style>\n",
       "<table border=\"1\" class=\"dataframe\">\n",
       "  <thead>\n",
       "    <tr style=\"text-align: right;\">\n",
       "      <th></th>\n",
       "      <th>Unnamed: 0</th>\n",
       "      <th>cleaned_tweets</th>\n",
       "      <th>label</th>\n",
       "    </tr>\n",
       "  </thead>\n",
       "  <tbody>\n",
       "    <tr>\n",
       "      <th>0</th>\n",
       "      <td>0</td>\n",
       "      <td>burn flag</td>\n",
       "      <td>0</td>\n",
       "    </tr>\n",
       "    <tr>\n",
       "      <th>1</th>\n",
       "      <td>1</td>\n",
       "      <td>plan kill petro dollar run manipulated western...</td>\n",
       "      <td>-1</td>\n",
       "    </tr>\n",
       "    <tr>\n",
       "      <th>2</th>\n",
       "      <td>2</td>\n",
       "      <td>difficult know whats going come summit next we...</td>\n",
       "      <td>-1</td>\n",
       "    </tr>\n",
       "    <tr>\n",
       "      <th>3</th>\n",
       "      <td>3</td>\n",
       "      <td>lot unpack brics would bring table officially ...</td>\n",
       "      <td>1</td>\n",
       "    </tr>\n",
       "    <tr>\n",
       "      <th>4</th>\n",
       "      <td>4</td>\n",
       "      <td>nice feel way thats brics supped make feel lik...</td>\n",
       "      <td>1</td>\n",
       "    </tr>\n",
       "    <tr>\n",
       "      <th>5</th>\n",
       "      <td>5</td>\n",
       "      <td>seems like well ahead schedule already 50 perc...</td>\n",
       "      <td>1</td>\n",
       "    </tr>\n",
       "    <tr>\n",
       "      <th>6</th>\n",
       "      <td>6</td>\n",
       "      <td>yeah precisely fully explained today family me...</td>\n",
       "      <td>1</td>\n",
       "    </tr>\n",
       "    <tr>\n",
       "      <th>7</th>\n",
       "      <td>7</td>\n",
       "      <td>watched lecture school predicted global south ...</td>\n",
       "      <td>1</td>\n",
       "    </tr>\n",
       "    <tr>\n",
       "      <th>8</th>\n",
       "      <td>8</td>\n",
       "      <td>think hope happens sooner rather later live eu...</td>\n",
       "      <td>1</td>\n",
       "    </tr>\n",
       "    <tr>\n",
       "      <th>9</th>\n",
       "      <td>9</td>\n",
       "      <td>supposed happen week hold boys</td>\n",
       "      <td>0</td>\n",
       "    </tr>\n",
       "  </tbody>\n",
       "</table>\n",
       "</div>"
      ],
      "text/plain": [
       "   Unnamed: 0                                     cleaned_tweets  label\n",
       "0           0                                          burn flag      0\n",
       "1           1  plan kill petro dollar run manipulated western...     -1\n",
       "2           2  difficult know whats going come summit next we...     -1\n",
       "3           3  lot unpack brics would bring table officially ...      1\n",
       "4           4  nice feel way thats brics supped make feel lik...      1\n",
       "5           5  seems like well ahead schedule already 50 perc...      1\n",
       "6           6  yeah precisely fully explained today family me...      1\n",
       "7           7  watched lecture school predicted global south ...      1\n",
       "8           8  think hope happens sooner rather later live eu...      1\n",
       "9           9                     supposed happen week hold boys      0"
      ]
     },
     "execution_count": 20,
     "metadata": {},
     "output_type": "execute_result"
    }
   ],
   "source": [
    "finaldf.head(10)"
   ]
  },
  {
   "cell_type": "code",
   "execution_count": 21,
   "metadata": {},
   "outputs": [
    {
     "data": {
      "text/html": [
       "<div>\n",
       "<style scoped>\n",
       "    .dataframe tbody tr th:only-of-type {\n",
       "        vertical-align: middle;\n",
       "    }\n",
       "\n",
       "    .dataframe tbody tr th {\n",
       "        vertical-align: top;\n",
       "    }\n",
       "\n",
       "    .dataframe thead th {\n",
       "        text-align: right;\n",
       "    }\n",
       "</style>\n",
       "<table border=\"1\" class=\"dataframe\">\n",
       "  <thead>\n",
       "    <tr style=\"text-align: right;\">\n",
       "      <th></th>\n",
       "      <th>cleaned_tweets</th>\n",
       "      <th>label</th>\n",
       "    </tr>\n",
       "  </thead>\n",
       "  <tbody>\n",
       "    <tr>\n",
       "      <th>0</th>\n",
       "      <td>burn flag</td>\n",
       "      <td>0</td>\n",
       "    </tr>\n",
       "    <tr>\n",
       "      <th>1</th>\n",
       "      <td>plan kill petro dollar run manipulated western...</td>\n",
       "      <td>-1</td>\n",
       "    </tr>\n",
       "    <tr>\n",
       "      <th>2</th>\n",
       "      <td>difficult know whats going come summit next we...</td>\n",
       "      <td>-1</td>\n",
       "    </tr>\n",
       "    <tr>\n",
       "      <th>3</th>\n",
       "      <td>lot unpack brics would bring table officially ...</td>\n",
       "      <td>1</td>\n",
       "    </tr>\n",
       "    <tr>\n",
       "      <th>4</th>\n",
       "      <td>nice feel way thats brics supped make feel lik...</td>\n",
       "      <td>1</td>\n",
       "    </tr>\n",
       "    <tr>\n",
       "      <th>5</th>\n",
       "      <td>seems like well ahead schedule already 50 perc...</td>\n",
       "      <td>1</td>\n",
       "    </tr>\n",
       "    <tr>\n",
       "      <th>6</th>\n",
       "      <td>yeah precisely fully explained today family me...</td>\n",
       "      <td>1</td>\n",
       "    </tr>\n",
       "    <tr>\n",
       "      <th>7</th>\n",
       "      <td>watched lecture school predicted global south ...</td>\n",
       "      <td>1</td>\n",
       "    </tr>\n",
       "    <tr>\n",
       "      <th>8</th>\n",
       "      <td>think hope happens sooner rather later live eu...</td>\n",
       "      <td>1</td>\n",
       "    </tr>\n",
       "    <tr>\n",
       "      <th>9</th>\n",
       "      <td>supposed happen week hold boys</td>\n",
       "      <td>0</td>\n",
       "    </tr>\n",
       "  </tbody>\n",
       "</table>\n",
       "</div>"
      ],
      "text/plain": [
       "                                      cleaned_tweets  label\n",
       "0                                          burn flag      0\n",
       "1  plan kill petro dollar run manipulated western...     -1\n",
       "2  difficult know whats going come summit next we...     -1\n",
       "3  lot unpack brics would bring table officially ...      1\n",
       "4  nice feel way thats brics supped make feel lik...      1\n",
       "5  seems like well ahead schedule already 50 perc...      1\n",
       "6  yeah precisely fully explained today family me...      1\n",
       "7  watched lecture school predicted global south ...      1\n",
       "8  think hope happens sooner rather later live eu...      1\n",
       "9                     supposed happen week hold boys      0"
      ]
     },
     "execution_count": 21,
     "metadata": {},
     "output_type": "execute_result"
    }
   ],
   "source": [
    "\n",
    "finaldf = finaldf.loc[:, ['cleaned_tweets', 'label']] \n",
    "finaldf.head(10)"
   ]
  },
  {
   "cell_type": "code",
   "execution_count": 22,
   "metadata": {},
   "outputs": [
    {
     "name": "stdout",
     "output_type": "stream",
     "text": [
      "Train data    :(96,)\n",
      "Test data     :(24,)\n",
      "Train Output  :(96,)\n",
      "Test Output   :(24,)\n",
      "Valid Train data    :(12,)\n",
      "Valid Test data     :(12,)\n",
      "Valid Train Output  :(12,)\n",
      "Valid Test Output   :(12,)\n"
     ]
    }
   ],
   "source": [
    "\n",
    "X = finaldf['cleaned_tweets']  \n",
    "Y = finaldf['label'] \n",
    "\n",
    "X_train, X_test, y_train, y_test = train_test_split(X, Y, random_state=42, test_size=0.2)\n",
    "x_train_valid, x_valid_test, y_train_valid, y_valid_test = train_test_split(X_test, y_test, test_size=0.5, random_state=0)\n",
    "print('Train data    :'+str(X_train.shape))\n",
    "print('Test data     :'+str(X_test.shape))\n",
    "print('Train Output  :'+str(y_train.shape))\n",
    "print('Test Output   :'+str(y_test.shape))\n",
    "print('Valid Train data    :'+str(x_train_valid.shape))\n",
    "print('Valid Test data     :'+str(x_valid_test.shape))\n",
    "print('Valid Train Output  :'+str(y_train_valid.shape))\n",
    "print('Valid Test Output   :'+str(y_valid_test.shape))"
   ]
  },
  {
   "cell_type": "markdown",
   "metadata": {},
   "source": [
    "I divided the data into training, testing and validation. Training accounts for 80% of the data, testing accounts for 20% of the data and validation accounts for 50% of the data."
   ]
  },
  {
   "cell_type": "markdown",
   "metadata": {},
   "source": [
    "#### Feature extraction using TF-IDF\n",
    "\n",
    "Term Frequency-Inverse Document Frequency, or TF-IDF, is a critical text analysis technique used to determine the significance of words in texts. It allocates numerical values to words based on their frequency in a document and rarity in a set of documents. TF-IDF aids in ranking and finding relevant texts, extracting key information, and reducing the dimensionality of text data by assigning higher scores to terms that are both frequent in the document and unique to it. Since my data contains information which can have strong sentiments associated to it, I utilised it."
   ]
  },
  {
   "cell_type": "code",
   "execution_count": 23,
   "metadata": {},
   "outputs": [],
   "source": [
    "\n",
    "tfidf_vectorizer = TfidfVectorizer()\n",
    "X_train_tfidf = tfidf_vectorizer.fit_transform(X_train)\n",
    "X_test_tfidf = tfidf_vectorizer.transform(X_test)\n",
    "x_train_valid_tfidf= tfidf_vectorizer.transform(x_train_valid)"
   ]
  },
  {
   "cell_type": "code",
   "execution_count": 24,
   "metadata": {},
   "outputs": [],
   "source": [
    "\n",
    "mnb = MultinomialNB()\n",
    "mnb.fit(X_train_tfidf, y_train)\n",
    "\n",
    "# training data\n",
    "y_pred_train = mnb.predict(X_train_tfidf)\n",
    "# testing data\n",
    "y_pred_test = mnb.predict(X_test_tfidf)\n",
    "#validation\n",
    "y_pred_val = mnb.predict(x_train_valid_tfidf)"
   ]
  },
  {
   "cell_type": "markdown",
   "metadata": {},
   "source": [
    "I utilised Multinomial Naive Bayes as it helps in textual classification concerning sentiment analysis. The values for accuracy, precision, recall and F1 have been calculated. It is seen that Training and Testing perform equally well, meaning there is no overfitting or underfitting seen."
   ]
  },
  {
   "cell_type": "code",
   "execution_count": 25,
   "metadata": {},
   "outputs": [
    {
     "name": "stdout",
     "output_type": "stream",
     "text": [
      "Training Set Metrics:\n",
      "Accuracy: 0.6354166666666666\n",
      "Precision Score: 0.6354166666666666\n",
      "Recall Score: 0.6354166666666666\n",
      "F1 Score: 0.6354166666666666\n"
     ]
    }
   ],
   "source": [
    "# training\n",
    "accuracy_train = accuracy_score(y_train, y_pred_train)\n",
    "precision_train = precision_score(y_train, y_pred_train, average=\"micro\")\n",
    "recall_train = recall_score(y_train, y_pred_train, average=\"micro\")\n",
    "f1_train = f1_score(y_train, y_pred_train, average=\"micro\")\n",
    "\n",
    "print(\"Training Set Metrics:\")\n",
    "print(\"Accuracy:\", accuracy_train)\n",
    "print(\"Precision Score:\", precision_train)\n",
    "print(\"Recall Score:\", recall_train)\n",
    "print(\"F1 Score:\", f1_train)"
   ]
  },
  {
   "cell_type": "code",
   "execution_count": 26,
   "metadata": {},
   "outputs": [
    {
     "name": "stdout",
     "output_type": "stream",
     "text": [
      "Testing Set Metrics:\n",
      "Accuracy: 0.5\n",
      "Precision Score: 0.5\n",
      "Recall Score: 0.5\n",
      "F1 Score: 0.5\n"
     ]
    }
   ],
   "source": [
    "# testing\n",
    "accuracy_test = accuracy_score(y_test, y_pred_test)\n",
    "precision_test = precision_score(y_test, y_pred_test, average=\"micro\")\n",
    "recall_test = recall_score(y_test, y_pred_test, average=\"micro\")\n",
    "f1_test = f1_score(y_test, y_pred_test, average=\"micro\")\n",
    "\n",
    "print(\"Testing Set Metrics:\")\n",
    "print(\"Accuracy:\", accuracy_test)\n",
    "print(\"Precision Score:\", precision_test)\n",
    "print(\"Recall Score:\", recall_test)\n",
    "print(\"F1 Score:\", f1_test)"
   ]
  },
  {
   "cell_type": "code",
   "execution_count": 27,
   "metadata": {},
   "outputs": [
    {
     "name": "stdout",
     "output_type": "stream",
     "text": [
      "\n",
      "Validation Set Metrics:\n",
      "Accuracy: 0.5\n",
      "Precision Score: 0.5\n",
      "Recall Score: 0.5\n",
      "F1 Score: 0.5\n"
     ]
    }
   ],
   "source": [
    "# validation\n",
    "accuracy_val = accuracy_score(y_train_valid, y_pred_val)\n",
    "precision_val = precision_score(y_train_valid, y_pred_val, average=\"micro\")\n",
    "recall_val = recall_score(y_train_valid, y_pred_val, average=\"micro\")\n",
    "f1_val = f1_score(y_train_valid, y_pred_val, average=\"micro\")\n",
    "\n",
    "\n",
    "print(\"\\nValidation Set Metrics:\")\n",
    "print(\"Accuracy:\", accuracy_val)\n",
    "print(\"Precision Score:\", precision_val)\n",
    "print(\"Recall Score:\", recall_val)\n",
    "print(\"F1 Score:\", f1_val)"
   ]
  },
  {
   "cell_type": "code",
   "execution_count": 28,
   "metadata": {},
   "outputs": [
    {
     "data": {
      "text/plain": [
       "<sklearn.metrics._plot.confusion_matrix.ConfusionMatrixDisplay at 0x1529c3880>"
      ]
     },
     "execution_count": 28,
     "metadata": {},
     "output_type": "execute_result"
    },
    {
     "data": {
      "image/png": "[encoded data removed]",
      "text/plain": [
       "<Figure size 640x480 with 2 Axes>"
      ]
     },
     "metadata": {},
     "output_type": "display_data"
    }
   ],
   "source": [
    "ConfusionMatrixDisplay.from_predictions(y_train, y_pred_train)\n"
   ]
  },
  {
   "cell_type": "markdown",
   "metadata": {},
   "source": [
    "For training dataset, if you see, the values have been labelled correctly but the 17 labels with 0 indicating no opinion has been predicted as 1 which means a positive sentiment. And similarly the negative sentiment has been predicting as positive sentiment."
   ]
  },
  {
   "cell_type": "code",
   "execution_count": 29,
   "metadata": {},
   "outputs": [
    {
     "data": {
      "text/plain": [
       "<sklearn.metrics._plot.confusion_matrix.ConfusionMatrixDisplay at 0x153293190>"
      ]
     },
     "execution_count": 29,
     "metadata": {},
     "output_type": "execute_result"
    },
    {
     "data": {
      "image/png": "[encoded data removed]",
      "text/plain": [
       "<Figure size 640x480 with 2 Axes>"
      ]
     },
     "metadata": {},
     "output_type": "display_data"
    }
   ],
   "source": [
    "ConfusionMatrixDisplay.from_predictions(y_test, y_pred_test)"
   ]
  },
  {
   "cell_type": "markdown",
   "metadata": {},
   "source": [
    "For testing dataset, if you see, the values have been labelled correctly but the 6 labels with 0 indicating no opinion has been predicted as 1 which means a positive sentiment. 6 of neutral sentiments with 0 have also been predicted as 1. "
   ]
  },
  {
   "cell_type": "code",
   "execution_count": 30,
   "metadata": {},
   "outputs": [
    {
     "data": {
      "text/plain": [
       "<sklearn.metrics._plot.confusion_matrix.ConfusionMatrixDisplay at 0x1533724a0>"
      ]
     },
     "execution_count": 30,
     "metadata": {},
     "output_type": "execute_result"
    },
    {
     "data": {
      "image/png": "[encoded data removed]",
      "text/plain": [
       "<Figure size 640x480 with 2 Axes>"
      ]
     },
     "metadata": {},
     "output_type": "display_data"
    }
   ],
   "source": [
    "ConfusionMatrixDisplay.from_predictions(y_train_valid, y_pred_val)"
   ]
  },
  {
   "cell_type": "markdown",
   "metadata": {},
   "source": [
    "For the validationn dataset, we see that 1 has not be labelled properly but the other two are."
   ]
  },
  {
   "cell_type": "markdown",
   "metadata": {},
   "source": [
    "The model shows a reasonably stable performance on the training set, with high and stable scores in accuracy, precision, recall, and F1 score, all centred around 63.54%. This implies that the model was successful in identifying patterns in the training set. The performance drastically decreases when tested and validated, though, with all metrics showing a 50% accuracy, precision, recall, and F1 score.Because of the metrics' consistency, there may be a problem with overfitting on the training set, which could be preventing the model from generalising well to new data. More research may be required to improve the model's overall performance on testing and validation data as well as its capacity to generalise to new, unseen instances. This may involve tweaking the model, modifying hyperparameters, or utilising more advanced techniques."
   ]
  },
  {
   "cell_type": "markdown",
   "metadata": {},
   "source": [
    "## Sources"
   ]
  },
  {
   "cell_type": "markdown",
   "metadata": {},
   "source": [
    "1. scikit-learn. (n.d.). TfidfVectorizer. Retrieved from https://scikit-learn.org/stable/modules/generated/sklearn.feature_extraction.text.TfidfVectorizer.html\n",
    "2. scikit-learn. (n.d.). MultinomialNB. Retrieved from https://scikit-learn.org/stable/modules/generated/sklearn.naive_bayes.MultinomialNB.html\n",
    "3. S, L. (2022, March). Gaussian Naive Bayes Algorithm for Credit Risk Modelling. Retrieved from https://www.analyticsvidhya.com/blog/2022/03/gaussian-naive-bayes-algorithm-for-credit-risk-modelling/\n",
    "4. Hrouda-Rasmussen, S. (n.d.). Gaussian Naive Bayes. Retrieved from https://towardsdatascience.com/gaussian-naive-bayes-4d2895d139a\n",
    "5. scikit-learn. (n.d.). LabelEncoder. Retrieved from https://scikit-learn.org/stable/modules/generated/sklearn.preprocessing.LabelEncoder.html\n",
    "   "
   ]
  }
 ],
 "metadata": {
  "kernelspec": {
   "display_name": "base",
   "language": "python",
   "name": "python3"
  },
  "language_info": {
   "codemirror_mode": {
    "name": "ipython",
    "version": 3
   },
   "file_extension": ".py",
   "mimetype": "text/x-python",
   "name": "python",
   "nbconvert_exporter": "python",
   "pygments_lexer": "ipython3",
   "version": "3.10.9"
  },
  "orig_nbformat": 4
 },
 "nbformat": 4,
 "nbformat_minor": 2
}
