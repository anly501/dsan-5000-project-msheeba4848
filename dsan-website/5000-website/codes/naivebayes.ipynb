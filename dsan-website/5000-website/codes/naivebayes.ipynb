{
 "cells": [
  {
   "cell_type": "markdown",
   "metadata": {},
   "source": [
    "# Naive Bayes"
   ]
  },
  {
   "cell_type": "markdown",
   "metadata": {},
   "source": [
    "Naive Bayes is a powerful machine-learning algorithmn which is used for machine-learning and probabilistic modelling. It utilises the Baye's Theorem and is most useful for textual analysis, for any categorical identification, may it be in the areas of education, security, health and social sector.  \n",
    "\n",
    "Naive Bayes is built on the Bayes' theorem, which is a conditional probability model. Wherein, it allows the user to calculate the probabilities of a particular class or a category given a set of features or independant variables. As the features are assumed to be independant, the probability is calculated on basis of that assumption.\n",
    "\n",
    "Naive Bayes' primary goal is to classify data into specified classes or categories based on observed attributes. This is accomplished by taking into account both the prior probability of each class (as informed by historical data or domain knowledge) and the likelihood of witnessing the provided traits under each class. This data is used to compute the conditional probability of each class and determine which class is more likely given the given data.\n",
    "\n",
    "There are various types of Naive Bayes: \n",
    "\n",
    "1. The Gaussian Naive Bayes algorithm is appropriate for continuous or real-valued data, such as medical measures. \n",
    "2. Multinomial Naive Bayes excels at text classification, which makes it useful for tasks such as spam detection and sentiment analysis when features represent word counts or phrase frequencies. \n",
    "3. Bernoulli Naive Bayes is an excellent choice for working with binary data, and it is frequently\n",
    "   \n",
    "Due to Naive Bayes' computational efficiency and the ability to carry it on with simplicity, the approach is appealing to many machine learning practitioners. You can acquire accurate and relevant classification results by picking the proper Naive Bayes variant and applying it to your specific dataset. Naive Bayes is especially well-suited for scenarios requiring speed, simplicity, and a probabilistic approach. Because of its probabilistic character and foundation in Bayes' theorem, it can make educated decisions and is a vital addition to the machine learning toolset."
   ]
  },
  {
   "cell_type": "code",
   "execution_count": 29,
   "metadata": {},
   "outputs": [],
   "source": [
    "import  pandas  as  pd\n",
    "import seaborn as sns\n",
    "import matplotlib.pyplot as plt\n",
    "import numpy as np \n",
    "import missingno as msno\n",
    "from sklearn.model_selection import train_test_split\n",
    "from sklearn.naive_bayes import GaussianNB\n",
    "from sklearn.metrics import accuracy_score, precision_score, recall_score, f1_score, confusion_matrix, ConfusionMatrixDisplay\n",
    "from sklearn.feature_extraction.text import TfidfVectorizer\n",
    "from sklearn.naive_bayes import MultinomialNB\n",
    "from sklearn.model_selection import train_test_split\n",
    "from sklearn.metrics import accuracy_score\n",
    "from sklearn.naive_bayes import MultinomialNB\n",
    "from sklearn.feature_extraction.text import TfidfVectorizer\n",
    "from sklearn.model_selection import train_test_split\n",
    "import pandas as pd\n",
    "from sklearn.model_selection import train_test_split\n",
    "from sklearn.naive_bayes import GaussianNB\n",
    "from sklearn.naive_bayes import MultinomialNB\n",
    "from sklearn.metrics import accuracy_score, precision_score\n"
   ]
  },
  {
   "cell_type": "code",
   "execution_count": 4,
   "metadata": {},
   "outputs": [],
   "source": [
    "def accuracy(y,ypred):\n",
    "    #compute accuracy\n",
    "    print(\"Accuracy:\", accuracy_score(y, ypred)*100)\n",
    "    \n",
    "def precision(y,ypred):\n",
    "    #compute precision\n",
    "    print(\"Precision Score:\", precision_score(y, ypred, average=\"micro\")*100)\n",
    "    \n",
    "def recall(y,ypred):\n",
    "    #compute recall\n",
    "    print(\"Recall Score:\", recall_score(y, ypred, average=\"micro\")*100)\n",
    "\n",
    "\n",
    "def f1(y,ypred):\n",
    "    #compute f1\n",
    "    print(\"F1 Score:\", f1_score(y, ypred, average=\"micro\")*100)"
   ]
  },
  {
   "cell_type": "markdown",
   "metadata": {},
   "source": [
    "## Naive Bayes for Quantitative data"
   ]
  },
  {
   "cell_type": "markdown",
   "metadata": {},
   "source": [
    "As my data consists of data for 5 BRICS nations separately and also contains a dataframe which is a culmination of my existing datasets. As discussed in the cleaning section, the stacked_df has self generated labels section that I had created to ensure it is usable for Naive Bayes. Whilst it is not actually recommended to create self-generated labels for the datasets, especially for the economic data as it works on the progression of time and things are extremely volatile. However, for utilising Naive Bayes I had created it. So my utilisation of Naive Bayes taking the entire dataset into consideration is so I used the Gaussian Naive Bayes data as it is useful for the real-life data. "
   ]
  },
  {
   "cell_type": "code",
   "execution_count": 5,
   "metadata": {},
   "outputs": [],
   "source": [
    "india=pd.read_csv('../data/india.csv')\n",
    "russia=pd.read_csv('../data/russia.csv')\n",
    "china=pd.read_csv('../data/china.csv')\n",
    "brazil=pd.read_csv('../data/brazil.csv')\n",
    "southafrica=pd.read_csv('../data/southafrica.csv')\n",
    "stacked_df = pd.concat([india, russia, china, brazil, southafrica])"
   ]
  },
  {
   "cell_type": "code",
   "execution_count": 6,
   "metadata": {},
   "outputs": [
    {
     "data": {
      "text/html": [
       "<div>\n",
       "<style scoped>\n",
       "    .dataframe tbody tr th:only-of-type {\n",
       "        vertical-align: middle;\n",
       "    }\n",
       "\n",
       "    .dataframe tbody tr th {\n",
       "        vertical-align: top;\n",
       "    }\n",
       "\n",
       "    .dataframe thead th {\n",
       "        text-align: right;\n",
       "    }\n",
       "</style>\n",
       "<table border=\"1\" class=\"dataframe\">\n",
       "  <thead>\n",
       "    <tr style=\"text-align: right;\">\n",
       "      <th></th>\n",
       "      <th>adj_NNI_g</th>\n",
       "      <th>adj_NNI_c</th>\n",
       "      <th>adj_savings_fix_cap_GNI</th>\n",
       "      <th>adj_savings_edu_GNI</th>\n",
       "      <th>adj_NNS_GNI</th>\n",
       "      <th>curr_acc_bal</th>\n",
       "      <th>ex_imp_gdp</th>\n",
       "      <th>ex_imp_growth</th>\n",
       "      <th>ex_debt_shocks</th>\n",
       "      <th>final_consump_exp_gdp</th>\n",
       "      <th>...</th>\n",
       "      <th>cpi</th>\n",
       "      <th>inflation</th>\n",
       "      <th>real_interest_rate</th>\n",
       "      <th>lending_interest_rate</th>\n",
       "      <th>life_exp_birth</th>\n",
       "      <th>expense_gdp</th>\n",
       "      <th>interest_payments</th>\n",
       "      <th>military expenditure</th>\n",
       "      <th>year.1</th>\n",
       "      <th>labels</th>\n",
       "    </tr>\n",
       "  </thead>\n",
       "  <tbody>\n",
       "    <tr>\n",
       "      <th>0</th>\n",
       "      <td>11.978544</td>\n",
       "      <td>2.476830e+11</td>\n",
       "      <td>8.055168</td>\n",
       "      <td>2.600000</td>\n",
       "      <td>6.418183</td>\n",
       "      <td>-0.958069</td>\n",
       "      <td>6.139551</td>\n",
       "      <td>5.237330</td>\n",
       "      <td>11.096107</td>\n",
       "      <td>87.498021</td>\n",
       "      <td>...</td>\n",
       "      <td>9.737409</td>\n",
       "      <td>11.346073</td>\n",
       "      <td>4.476508</td>\n",
       "      <td>16.500000</td>\n",
       "      <td>53.611000</td>\n",
       "      <td>11.702478</td>\n",
       "      <td>13.780033</td>\n",
       "      <td>3.133781</td>\n",
       "      <td>1979.0</td>\n",
       "      <td>High Growth</td>\n",
       "    </tr>\n",
       "    <tr>\n",
       "      <th>1</th>\n",
       "      <td>-2.572689</td>\n",
       "      <td>2.413109e+11</td>\n",
       "      <td>8.393346</td>\n",
       "      <td>2.600000</td>\n",
       "      <td>7.373027</td>\n",
       "      <td>-1.394549</td>\n",
       "      <td>5.936027</td>\n",
       "      <td>-0.816934</td>\n",
       "      <td>11.615484</td>\n",
       "      <td>85.768606</td>\n",
       "      <td>...</td>\n",
       "      <td>11.014232</td>\n",
       "      <td>13.112547</td>\n",
       "      <td>5.118237</td>\n",
       "      <td>16.500000</td>\n",
       "      <td>54.175000</td>\n",
       "      <td>11.376034</td>\n",
       "      <td>14.073244</td>\n",
       "      <td>3.186248</td>\n",
       "      <td>1980.0</td>\n",
       "      <td>High Growth</td>\n",
       "    </tr>\n",
       "    <tr>\n",
       "      <th>2</th>\n",
       "      <td>1.626264</td>\n",
       "      <td>2.452352e+11</td>\n",
       "      <td>8.819348</td>\n",
       "      <td>3.051058</td>\n",
       "      <td>7.043158</td>\n",
       "      <td>-1.257273</td>\n",
       "      <td>5.983300</td>\n",
       "      <td>6.020508</td>\n",
       "      <td>13.467614</td>\n",
       "      <td>85.319441</td>\n",
       "      <td>...</td>\n",
       "      <td>11.883336</td>\n",
       "      <td>7.890743</td>\n",
       "      <td>7.774707</td>\n",
       "      <td>16.500000</td>\n",
       "      <td>54.732000</td>\n",
       "      <td>11.959873</td>\n",
       "      <td>15.563031</td>\n",
       "      <td>3.345118</td>\n",
       "      <td>1981.0</td>\n",
       "      <td>Moderate Growth</td>\n",
       "    </tr>\n",
       "    <tr>\n",
       "      <th>3</th>\n",
       "      <td>11.562099</td>\n",
       "      <td>2.735896e+11</td>\n",
       "      <td>8.419293</td>\n",
       "      <td>3.153437</td>\n",
       "      <td>7.024774</td>\n",
       "      <td>-0.887438</td>\n",
       "      <td>5.837629</td>\n",
       "      <td>-0.914918</td>\n",
       "      <td>14.101651</td>\n",
       "      <td>85.635851</td>\n",
       "      <td>...</td>\n",
       "      <td>13.293660</td>\n",
       "      <td>11.868081</td>\n",
       "      <td>7.320987</td>\n",
       "      <td>16.500000</td>\n",
       "      <td>55.281000</td>\n",
       "      <td>12.077793</td>\n",
       "      <td>17.460567</td>\n",
       "      <td>3.323069</td>\n",
       "      <td>1982.0</td>\n",
       "      <td>Very High Growth</td>\n",
       "    </tr>\n",
       "    <tr>\n",
       "      <th>4</th>\n",
       "      <td>1.851968</td>\n",
       "      <td>2.786564e+11</td>\n",
       "      <td>8.784357</td>\n",
       "      <td>2.700000</td>\n",
       "      <td>7.097912</td>\n",
       "      <td>-1.089317</td>\n",
       "      <td>6.283401</td>\n",
       "      <td>7.297852</td>\n",
       "      <td>15.530868</td>\n",
       "      <td>84.960526</td>\n",
       "      <td>...</td>\n",
       "      <td>14.399548</td>\n",
       "      <td>8.318907</td>\n",
       "      <td>7.947100</td>\n",
       "      <td>16.500000</td>\n",
       "      <td>55.816000</td>\n",
       "      <td>13.142960</td>\n",
       "      <td>19.011381</td>\n",
       "      <td>3.416876</td>\n",
       "      <td>1983.0</td>\n",
       "      <td>Moderate Growth</td>\n",
       "    </tr>\n",
       "    <tr>\n",
       "      <th>...</th>\n",
       "      <td>...</td>\n",
       "      <td>...</td>\n",
       "      <td>...</td>\n",
       "      <td>...</td>\n",
       "      <td>...</td>\n",
       "      <td>...</td>\n",
       "      <td>...</td>\n",
       "      <td>...</td>\n",
       "      <td>...</td>\n",
       "      <td>...</td>\n",
       "      <td>...</td>\n",
       "      <td>...</td>\n",
       "      <td>...</td>\n",
       "      <td>...</td>\n",
       "      <td>...</td>\n",
       "      <td>...</td>\n",
       "      <td>...</td>\n",
       "      <td>...</td>\n",
       "      <td>...</td>\n",
       "      <td>...</td>\n",
       "      <td>...</td>\n",
       "    </tr>\n",
       "    <tr>\n",
       "      <th>45</th>\n",
       "      <td>1.084757</td>\n",
       "      <td>2.973289e+11</td>\n",
       "      <td>-0.146507</td>\n",
       "      <td>14.267286</td>\n",
       "      <td>5.514553</td>\n",
       "      <td>13.954344</td>\n",
       "      <td>-0.328763</td>\n",
       "      <td>-3.008700</td>\n",
       "      <td>27.562640</td>\n",
       "      <td>2.741158</td>\n",
       "      <td>...</td>\n",
       "      <td>1.981519</td>\n",
       "      <td>92.692307</td>\n",
       "      <td>54.627712</td>\n",
       "      <td>152.646240</td>\n",
       "      <td>4.517165</td>\n",
       "      <td>6.108760</td>\n",
       "      <td>65.674000</td>\n",
       "      <td>0.897196</td>\n",
       "      <td>2018.0</td>\n",
       "      <td>Low Growth</td>\n",
       "    </tr>\n",
       "    <tr>\n",
       "      <th>46</th>\n",
       "      <td>0.621565</td>\n",
       "      <td>2.991770e+11</td>\n",
       "      <td>-0.673157</td>\n",
       "      <td>14.415053</td>\n",
       "      <td>5.820015</td>\n",
       "      <td>13.810482</td>\n",
       "      <td>-0.595410</td>\n",
       "      <td>-2.625377</td>\n",
       "      <td>27.297471</td>\n",
       "      <td>-3.445217</td>\n",
       "      <td>...</td>\n",
       "      <td>1.108507</td>\n",
       "      <td>80.819685</td>\n",
       "      <td>54.054766</td>\n",
       "      <td>158.935640</td>\n",
       "      <td>4.120246</td>\n",
       "      <td>5.243711</td>\n",
       "      <td>66.175000</td>\n",
       "      <td>0.884245</td>\n",
       "      <td>2019.0</td>\n",
       "      <td>Low Growth</td>\n",
       "    </tr>\n",
       "    <tr>\n",
       "      <th>47</th>\n",
       "      <td>-5.191452</td>\n",
       "      <td>2.836454e+11</td>\n",
       "      <td>-6.344067</td>\n",
       "      <td>15.342080</td>\n",
       "      <td>5.820015</td>\n",
       "      <td>14.898851</td>\n",
       "      <td>-0.451413</td>\n",
       "      <td>1.984891</td>\n",
       "      <td>27.600303</td>\n",
       "      <td>-11.862908</td>\n",
       "      <td>...</td>\n",
       "      <td>-4.398186</td>\n",
       "      <td>67.402320</td>\n",
       "      <td>50.800982</td>\n",
       "      <td>164.037531</td>\n",
       "      <td>3.210036</td>\n",
       "      <td>1.907151</td>\n",
       "      <td>65.252000</td>\n",
       "      <td>0.957517</td>\n",
       "      <td>2020.0</td>\n",
       "      <td>Low Growth</td>\n",
       "    </tr>\n",
       "    <tr>\n",
       "      <th>48</th>\n",
       "      <td>2.944993</td>\n",
       "      <td>1.726618e+11</td>\n",
       "      <td>1.019058</td>\n",
       "      <td>14.617378</td>\n",
       "      <td>5.340494</td>\n",
       "      <td>19.599354</td>\n",
       "      <td>4.980877</td>\n",
       "      <td>3.699256</td>\n",
       "      <td>31.193814</td>\n",
       "      <td>9.986850</td>\n",
       "      <td>...</td>\n",
       "      <td>4.088044</td>\n",
       "      <td>63.010063</td>\n",
       "      <td>56.217980</td>\n",
       "      <td>171.602404</td>\n",
       "      <td>4.611672</td>\n",
       "      <td>0.774484</td>\n",
       "      <td>62.341000</td>\n",
       "      <td>0.809813</td>\n",
       "      <td>2021.0</td>\n",
       "      <td>Very High Growth</td>\n",
       "    </tr>\n",
       "    <tr>\n",
       "      <th>49</th>\n",
       "      <td>2.944993</td>\n",
       "      <td>1.726618e+11</td>\n",
       "      <td>1.019058</td>\n",
       "      <td>14.617378</td>\n",
       "      <td>5.340494</td>\n",
       "      <td>19.599354</td>\n",
       "      <td>4.980877</td>\n",
       "      <td>-0.418256</td>\n",
       "      <td>33.443871</td>\n",
       "      <td>7.546529</td>\n",
       "      <td>...</td>\n",
       "      <td>3.566733</td>\n",
       "      <td>119.946081</td>\n",
       "      <td>64.908850</td>\n",
       "      <td>183.682744</td>\n",
       "      <td>7.039727</td>\n",
       "      <td>3.557564</td>\n",
       "      <td>60.457939</td>\n",
       "      <td>0.739894</td>\n",
       "      <td>2022.0</td>\n",
       "      <td>Moderate Growth</td>\n",
       "    </tr>\n",
       "  </tbody>\n",
       "</table>\n",
       "<p>111 rows × 35 columns</p>\n",
       "</div>"
      ],
      "text/plain": [
       "    adj_NNI_g     adj_NNI_c  adj_savings_fix_cap_GNI  adj_savings_edu_GNI  \\\n",
       "0   11.978544  2.476830e+11                 8.055168             2.600000   \n",
       "1   -2.572689  2.413109e+11                 8.393346             2.600000   \n",
       "2    1.626264  2.452352e+11                 8.819348             3.051058   \n",
       "3   11.562099  2.735896e+11                 8.419293             3.153437   \n",
       "4    1.851968  2.786564e+11                 8.784357             2.700000   \n",
       "..        ...           ...                      ...                  ...   \n",
       "45   1.084757  2.973289e+11                -0.146507            14.267286   \n",
       "46   0.621565  2.991770e+11                -0.673157            14.415053   \n",
       "47  -5.191452  2.836454e+11                -6.344067            15.342080   \n",
       "48   2.944993  1.726618e+11                 1.019058            14.617378   \n",
       "49   2.944993  1.726618e+11                 1.019058            14.617378   \n",
       "\n",
       "    adj_NNS_GNI  curr_acc_bal  ex_imp_gdp  ex_imp_growth  ex_debt_shocks  \\\n",
       "0      6.418183     -0.958069    6.139551       5.237330       11.096107   \n",
       "1      7.373027     -1.394549    5.936027      -0.816934       11.615484   \n",
       "2      7.043158     -1.257273    5.983300       6.020508       13.467614   \n",
       "3      7.024774     -0.887438    5.837629      -0.914918       14.101651   \n",
       "4      7.097912     -1.089317    6.283401       7.297852       15.530868   \n",
       "..          ...           ...         ...            ...             ...   \n",
       "45     5.514553     13.954344   -0.328763      -3.008700       27.562640   \n",
       "46     5.820015     13.810482   -0.595410      -2.625377       27.297471   \n",
       "47     5.820015     14.898851   -0.451413       1.984891       27.600303   \n",
       "48     5.340494     19.599354    4.980877       3.699256       31.193814   \n",
       "49     5.340494     19.599354    4.980877      -0.418256       33.443871   \n",
       "\n",
       "    final_consump_exp_gdp  ...        cpi   inflation  real_interest_rate  \\\n",
       "0               87.498021  ...   9.737409   11.346073            4.476508   \n",
       "1               85.768606  ...  11.014232   13.112547            5.118237   \n",
       "2               85.319441  ...  11.883336    7.890743            7.774707   \n",
       "3               85.635851  ...  13.293660   11.868081            7.320987   \n",
       "4               84.960526  ...  14.399548    8.318907            7.947100   \n",
       "..                    ...  ...        ...         ...                 ...   \n",
       "45               2.741158  ...   1.981519   92.692307           54.627712   \n",
       "46              -3.445217  ...   1.108507   80.819685           54.054766   \n",
       "47             -11.862908  ...  -4.398186   67.402320           50.800982   \n",
       "48               9.986850  ...   4.088044   63.010063           56.217980   \n",
       "49               7.546529  ...   3.566733  119.946081           64.908850   \n",
       "\n",
       "    lending_interest_rate  life_exp_birth  expense_gdp  interest_payments  \\\n",
       "0               16.500000       53.611000    11.702478          13.780033   \n",
       "1               16.500000       54.175000    11.376034          14.073244   \n",
       "2               16.500000       54.732000    11.959873          15.563031   \n",
       "3               16.500000       55.281000    12.077793          17.460567   \n",
       "4               16.500000       55.816000    13.142960          19.011381   \n",
       "..                    ...             ...          ...                ...   \n",
       "45             152.646240        4.517165     6.108760          65.674000   \n",
       "46             158.935640        4.120246     5.243711          66.175000   \n",
       "47             164.037531        3.210036     1.907151          65.252000   \n",
       "48             171.602404        4.611672     0.774484          62.341000   \n",
       "49             183.682744        7.039727     3.557564          60.457939   \n",
       "\n",
       "    military expenditure  year.1            labels  \n",
       "0               3.133781  1979.0       High Growth  \n",
       "1               3.186248  1980.0       High Growth  \n",
       "2               3.345118  1981.0   Moderate Growth  \n",
       "3               3.323069  1982.0  Very High Growth  \n",
       "4               3.416876  1983.0   Moderate Growth  \n",
       "..                   ...     ...               ...  \n",
       "45              0.897196  2018.0        Low Growth  \n",
       "46              0.884245  2019.0        Low Growth  \n",
       "47              0.957517  2020.0        Low Growth  \n",
       "48              0.809813  2021.0  Very High Growth  \n",
       "49              0.739894  2022.0   Moderate Growth  \n",
       "\n",
       "[111 rows x 35 columns]"
      ]
     },
     "execution_count": 6,
     "metadata": {},
     "output_type": "execute_result"
    }
   ],
   "source": [
    "stacked_df.isna().sum()\n",
    "stacked_df = stacked_df.dropna()\n",
    "stacked_df.drop(columns='year')\n"
   ]
  },
  {
   "cell_type": "markdown",
   "metadata": {},
   "source": [
    "I dropped the NA as it wasn't required for this and not for the further data analysis tasks."
   ]
  },
  {
   "cell_type": "markdown",
   "metadata": {},
   "source": [
    "### Train-Test Split"
   ]
  },
  {
   "cell_type": "code",
   "execution_count": 7,
   "metadata": {},
   "outputs": [],
   "source": [
    "Y = stacked_df['labels']\n",
    "X =  stacked_df.drop(['labels'],axis =1)"
   ]
  },
  {
   "cell_type": "code",
   "execution_count": 8,
   "metadata": {},
   "outputs": [
    {
     "name": "stdout",
     "output_type": "stream",
     "text": [
      "Train data    :(88, 35)\n",
      "Test data     :(23, 35)\n",
      "Train Output  :(88,)\n",
      "Test Output   :(23,)\n",
      "Valid Train data    :(11, 35)\n",
      "Valid Test data     :(12, 35)\n",
      "Valid Train Output  :(11,)\n",
      "Valid Test Output   :(12,)\n"
     ]
    }
   ],
   "source": [
    "\n",
    "X_train, X_test, y_train, y_test = train_test_split(X, Y, random_state=42, test_size=0.2)\n",
    "x_train_valid, x_valid_test, y_train_valid, y_valid_test = train_test_split(X_test, y_test, test_size=0.5, random_state=0)\n",
    "print('Train data    :'+str(X_train.shape))\n",
    "print('Test data     :'+str(X_test.shape))\n",
    "print('Train Output  :'+str(y_train.shape))\n",
    "print('Test Output   :'+str(y_test.shape))\n",
    "print('Valid Train data    :'+str(x_train_valid.shape))\n",
    "print('Valid Test data     :'+str(x_valid_test.shape))\n",
    "print('Valid Train Output  :'+str(y_train_valid.shape))\n",
    "print('Valid Test Output   :'+str(y_valid_test.shape))"
   ]
  },
  {
   "cell_type": "markdown",
   "metadata": {},
   "source": [
    "### Feature-Selection Method"
   ]
  },
  {
   "cell_type": "markdown",
   "metadata": {},
   "source": [
    "The feature-selection method plays an important role in understanding which features to select as most of the times high multicollinearity can affect the dataset. According to this, the features mentioned below, the top 10 and the bottom 10 are the features that are highly correlated with each other and can be removed."
   ]
  },
  {
   "cell_type": "code",
   "execution_count": 9,
   "metadata": {},
   "outputs": [
    {
     "data": {
      "text/plain": [
       "<bound method DataFrame.corr of     year  adj_NNI_g     adj_NNI_c  adj_savings_fix_cap_GNI  \\\n",
       "0   1979  11.978544  2.476830e+11                 8.055168   \n",
       "1   1980  -2.572689  2.413109e+11                 8.393346   \n",
       "2   1981   1.626264  2.452352e+11                 8.819348   \n",
       "3   1982  11.562099  2.735896e+11                 8.419293   \n",
       "4   1983   1.851968  2.786564e+11                 8.784357   \n",
       "..   ...        ...           ...                      ...   \n",
       "45  2018   1.084757  2.973289e+11                -0.146507   \n",
       "46  2019   0.621565  2.991770e+11                -0.673157   \n",
       "47  2020  -5.191452  2.836454e+11                -6.344067   \n",
       "48  2021   2.944993  1.726618e+11                 1.019058   \n",
       "49  2022   2.944993  1.726618e+11                 1.019058   \n",
       "\n",
       "    adj_savings_edu_GNI  adj_NNS_GNI  curr_acc_bal  ex_imp_gdp  ex_imp_growth  \\\n",
       "0              2.600000     6.418183     -0.958069    6.139551       5.237330   \n",
       "1              2.600000     7.373027     -1.394549    5.936027      -0.816934   \n",
       "2              3.051058     7.043158     -1.257273    5.983300       6.020508   \n",
       "3              3.153437     7.024774     -0.887438    5.837629      -0.914918   \n",
       "4              2.700000     7.097912     -1.089317    6.283401       7.297852   \n",
       "..                  ...          ...           ...         ...            ...   \n",
       "45            14.267286     5.514553     13.954344   -0.328763      -3.008700   \n",
       "46            14.415053     5.820015     13.810482   -0.595410      -2.625377   \n",
       "47            15.342080     5.820015     14.898851   -0.451413       1.984891   \n",
       "48            14.617378     5.340494     19.599354    4.980877       3.699256   \n",
       "49            14.617378     5.340494     19.599354    4.980877      -0.418256   \n",
       "\n",
       "    ex_debt_shocks  ...        cpi   inflation  real_interest_rate  \\\n",
       "0        11.096107  ...   9.737409   11.346073            4.476508   \n",
       "1        11.615484  ...  11.014232   13.112547            5.118237   \n",
       "2        13.467614  ...  11.883336    7.890743            7.774707   \n",
       "3        14.101651  ...  13.293660   11.868081            7.320987   \n",
       "4        15.530868  ...  14.399548    8.318907            7.947100   \n",
       "..             ...  ...        ...         ...                 ...   \n",
       "45       27.562640  ...   1.981519   92.692307           54.627712   \n",
       "46       27.297471  ...   1.108507   80.819685           54.054766   \n",
       "47       27.600303  ...  -4.398186   67.402320           50.800982   \n",
       "48       31.193814  ...   4.088044   63.010063           56.217980   \n",
       "49       33.443871  ...   3.566733  119.946081           64.908850   \n",
       "\n",
       "    lending_interest_rate  life_exp_birth  expense_gdp  interest_payments  \\\n",
       "0               16.500000       53.611000    11.702478          13.780033   \n",
       "1               16.500000       54.175000    11.376034          14.073244   \n",
       "2               16.500000       54.732000    11.959873          15.563031   \n",
       "3               16.500000       55.281000    12.077793          17.460567   \n",
       "4               16.500000       55.816000    13.142960          19.011381   \n",
       "..                    ...             ...          ...                ...   \n",
       "45             152.646240        4.517165     6.108760          65.674000   \n",
       "46             158.935640        4.120246     5.243711          66.175000   \n",
       "47             164.037531        3.210036     1.907151          65.252000   \n",
       "48             171.602404        4.611672     0.774484          62.341000   \n",
       "49             183.682744        7.039727     3.557564          60.457939   \n",
       "\n",
       "    military expenditure  year.1            labels  \n",
       "0               3.133781  1979.0       High Growth  \n",
       "1               3.186248  1980.0       High Growth  \n",
       "2               3.345118  1981.0   Moderate Growth  \n",
       "3               3.323069  1982.0  Very High Growth  \n",
       "4               3.416876  1983.0   Moderate Growth  \n",
       "..                   ...     ...               ...  \n",
       "45              0.897196  2018.0        Low Growth  \n",
       "46              0.884245  2019.0        Low Growth  \n",
       "47              0.957517  2020.0        Low Growth  \n",
       "48              0.809813  2021.0  Very High Growth  \n",
       "49              0.739894  2022.0   Moderate Growth  \n",
       "\n",
       "[111 rows x 36 columns]>"
      ]
     },
     "execution_count": 9,
     "metadata": {},
     "output_type": "execute_result"
    }
   ],
   "source": [
    "corr=stacked_df.corr\n",
    "corr"
   ]
  },
  {
   "cell_type": "code",
   "execution_count": 10,
   "metadata": {},
   "outputs": [
    {
     "name": "stdout",
     "output_type": "stream",
     "text": [
      "military expenditure        gni_growth                    0.003564\n",
      "gni_growth                  military expenditure          0.003564\n",
      "adj_savings_fix_cap_GNI     military expenditure          0.010298\n",
      "military expenditure        adj_savings_fix_cap_GNI       0.010298\n",
      "                            gdp_growth                    0.019195\n",
      "gdp_growth                  military expenditure          0.019195\n",
      "ex_debt_shocks              adj_NNI_g                     0.029714\n",
      "adj_NNI_g                   ex_debt_shocks                0.029714\n",
      "gener_govt_fin_consump_exp  military expenditure          0.034514\n",
      "military expenditure        gener_govt_fin_consump_exp    0.034514\n",
      "dtype: float64\n"
     ]
    }
   ],
   "source": [
    "# using pearson\n",
    "corr = stacked_df.corr(numeric_only=True)\n",
    "corr_matrix = corr.stack()\n",
    "positive_corr = corr_matrix[corr_matrix > 0]\n",
    "positive_top = positive_corr.sort_values(ascending=True)\n",
    "positive_top = positive_top.head(10)\n",
    "print(positive_top)"
   ]
  },
  {
   "cell_type": "code",
   "execution_count": 11,
   "metadata": {},
   "outputs": [
    {
     "name": "stdout",
     "output_type": "stream",
     "text": [
      "final_consump_exp_gdp  fdi_net_inflows         -0.979383\n",
      "fdi_net_inflows        final_consump_exp_gdp   -0.979383\n",
      "final_consump_exp_gdp  interest_payments       -0.945499\n",
      "interest_payments      final_consump_exp_gdp   -0.945499\n",
      "real_interest_rate     final_consump_exp_gdp   -0.939753\n",
      "final_consump_exp_gdp  real_interest_rate      -0.939753\n",
      "                       services_growth         -0.919109\n",
      "services_growth        final_consump_exp_gdp   -0.919109\n",
      "final_consump_exp_gdp  curr_acc_bal            -0.892012\n",
      "curr_acc_bal           final_consump_exp_gdp   -0.892012\n",
      "dtype: float64\n"
     ]
    }
   ],
   "source": [
    "corr = stacked_df.corr(numeric_only=True)\n",
    "corr_matrix = corr.stack()\n",
    "negative_corr = corr_matrix[corr_matrix < 0]\n",
    "negative_bottom = negative_corr.sort_values(ascending=True)\n",
    "negative_bottom = negative_bottom.head(10)\n",
    "print(negative_bottom)"
   ]
  },
  {
   "cell_type": "code",
   "execution_count": 12,
   "metadata": {},
   "outputs": [
    {
     "data": {
      "text/html": [
       "<style>#sk-container-id-1 {color: black;background-color: white;}#sk-container-id-1 pre{padding: 0;}#sk-container-id-1 div.sk-toggleable {background-color: white;}#sk-container-id-1 label.sk-toggleable__label {cursor: pointer;display: block;width: 100%;margin-bottom: 0;padding: 0.3em;box-sizing: border-box;text-align: center;}#sk-container-id-1 label.sk-toggleable__label-arrow:before {content: \"▸\";float: left;margin-right: 0.25em;color: #696969;}#sk-container-id-1 label.sk-toggleable__label-arrow:hover:before {color: black;}#sk-container-id-1 div.sk-estimator:hover label.sk-toggleable__label-arrow:before {color: black;}#sk-container-id-1 div.sk-toggleable__content {max-height: 0;max-width: 0;overflow: hidden;text-align: left;background-color: #f0f8ff;}#sk-container-id-1 div.sk-toggleable__content pre {margin: 0.2em;color: black;border-radius: 0.25em;background-color: #f0f8ff;}#sk-container-id-1 input.sk-toggleable__control:checked~div.sk-toggleable__content {max-height: 200px;max-width: 100%;overflow: auto;}#sk-container-id-1 input.sk-toggleable__control:checked~label.sk-toggleable__label-arrow:before {content: \"▾\";}#sk-container-id-1 div.sk-estimator input.sk-toggleable__control:checked~label.sk-toggleable__label {background-color: #d4ebff;}#sk-container-id-1 div.sk-label input.sk-toggleable__control:checked~label.sk-toggleable__label {background-color: #d4ebff;}#sk-container-id-1 input.sk-hidden--visually {border: 0;clip: rect(1px 1px 1px 1px);clip: rect(1px, 1px, 1px, 1px);height: 1px;margin: -1px;overflow: hidden;padding: 0;position: absolute;width: 1px;}#sk-container-id-1 div.sk-estimator {font-family: monospace;background-color: #f0f8ff;border: 1px dotted black;border-radius: 0.25em;box-sizing: border-box;margin-bottom: 0.5em;}#sk-container-id-1 div.sk-estimator:hover {background-color: #d4ebff;}#sk-container-id-1 div.sk-parallel-item::after {content: \"\";width: 100%;border-bottom: 1px solid gray;flex-grow: 1;}#sk-container-id-1 div.sk-label:hover label.sk-toggleable__label {background-color: #d4ebff;}#sk-container-id-1 div.sk-serial::before {content: \"\";position: absolute;border-left: 1px solid gray;box-sizing: border-box;top: 0;bottom: 0;left: 50%;z-index: 0;}#sk-container-id-1 div.sk-serial {display: flex;flex-direction: column;align-items: center;background-color: white;padding-right: 0.2em;padding-left: 0.2em;position: relative;}#sk-container-id-1 div.sk-item {position: relative;z-index: 1;}#sk-container-id-1 div.sk-parallel {display: flex;align-items: stretch;justify-content: center;background-color: white;position: relative;}#sk-container-id-1 div.sk-item::before, #sk-container-id-1 div.sk-parallel-item::before {content: \"\";position: absolute;border-left: 1px solid gray;box-sizing: border-box;top: 0;bottom: 0;left: 50%;z-index: -1;}#sk-container-id-1 div.sk-parallel-item {display: flex;flex-direction: column;z-index: 1;position: relative;background-color: white;}#sk-container-id-1 div.sk-parallel-item:first-child::after {align-self: flex-end;width: 50%;}#sk-container-id-1 div.sk-parallel-item:last-child::after {align-self: flex-start;width: 50%;}#sk-container-id-1 div.sk-parallel-item:only-child::after {width: 0;}#sk-container-id-1 div.sk-dashed-wrapped {border: 1px dashed gray;margin: 0 0.4em 0.5em 0.4em;box-sizing: border-box;padding-bottom: 0.4em;background-color: white;}#sk-container-id-1 div.sk-label label {font-family: monospace;font-weight: bold;display: inline-block;line-height: 1.2em;}#sk-container-id-1 div.sk-label-container {text-align: center;}#sk-container-id-1 div.sk-container {/* jupyter's `normalize.less` sets `[hidden] { display: none; }` but bootstrap.min.css set `[hidden] { display: none !important; }` so we also need the `!important` here to be able to override the default hidden behavior on the sphinx rendered scikit-learn.org. See: https://github.com/scikit-learn/scikit-learn/issues/21755 */display: inline-block !important;position: relative;}#sk-container-id-1 div.sk-text-repr-fallback {display: none;}</style><div id=\"sk-container-id-1\" class=\"sk-top-container\"><div class=\"sk-text-repr-fallback\"><pre>GaussianNB()</pre><b>In a Jupyter environment, please rerun this cell to show the HTML representation or trust the notebook. <br />On GitHub, the HTML representation is unable to render, please try loading this page with nbviewer.org.</b></div><div class=\"sk-container\" hidden><div class=\"sk-item\"><div class=\"sk-estimator sk-toggleable\"><input class=\"sk-toggleable__control sk-hidden--visually\" id=\"sk-estimator-id-1\" type=\"checkbox\" checked><label for=\"sk-estimator-id-1\" class=\"sk-toggleable__label sk-toggleable__label-arrow\">GaussianNB</label><div class=\"sk-toggleable__content\"><pre>GaussianNB()</pre></div></div></div></div></div>"
      ],
      "text/plain": [
       "GaussianNB()"
      ]
     },
     "execution_count": 12,
     "metadata": {},
     "output_type": "execute_result"
    }
   ],
   "source": [
    "naive_bayes = GaussianNB()\n",
    "naive_bayes.fit(X_train, y_train)"
   ]
  },
  {
   "cell_type": "code",
   "execution_count": 13,
   "metadata": {},
   "outputs": [],
   "source": [
    "pred_valid = naive_bayes.predict(x_train_valid)"
   ]
  },
  {
   "cell_type": "code",
   "execution_count": 14,
   "metadata": {},
   "outputs": [],
   "source": [
    "# Predicting the train data and test data\n",
    "pred_train = naive_bayes.predict(X_train)\n",
    "pred_test = naive_bayes.predict(X_test)"
   ]
  },
  {
   "cell_type": "code",
   "execution_count": 15,
   "metadata": {},
   "outputs": [
    {
     "name": "stdout",
     "output_type": "stream",
     "text": [
      "Accuracy: 60.22727272727273\n",
      "Precision Score: 60.22727272727273\n",
      "Recall Score: 60.22727272727273\n",
      "F1 Score: 60.22727272727273\n"
     ]
    }
   ],
   "source": [
    "# Training data\n",
    "\n",
    "accuracy(y_train, pred_train)\n",
    "precision(y_train, pred_train)\n",
    "recall(y_train, pred_train)\n",
    "f1(y_train, pred_train)\n",
    "    "
   ]
  },
  {
   "cell_type": "markdown",
   "metadata": {},
   "source": [
    "We see that the accuracy, precision, recall and f1 score are all 60%"
   ]
  },
  {
   "cell_type": "code",
   "execution_count": 16,
   "metadata": {},
   "outputs": [
    {
     "name": "stdout",
     "output_type": "stream",
     "text": [
      "Accuracy: 56.52173913043478\n",
      "Precision Score: 56.52173913043478\n",
      "Recall Score: 56.52173913043478\n",
      "F1 Score: 56.52173913043478\n"
     ]
    }
   ],
   "source": [
    "# Testing Data\n",
    "\n",
    "accuracy(y_test, pred_test)\n",
    "precision(y_test, pred_test)\n",
    "recall(y_test, pred_test)\n",
    "f1(y_test, pred_test)"
   ]
  },
  {
   "cell_type": "markdown",
   "metadata": {},
   "source": [
    "We see that the accuracy, precision, recall and f1 score are all 54%. This means the testing data performs lesser than training, it means the model may be underfitted. And the Validation dataset performs a bit lesser which means there is high bias and low variance."
   ]
  },
  {
   "cell_type": "code",
   "execution_count": 17,
   "metadata": {},
   "outputs": [
    {
     "name": "stdout",
     "output_type": "stream",
     "text": [
      "Accuracy: 54.54545454545454\n",
      "Precision Score: 54.54545454545454\n",
      "Recall Score: 54.54545454545454\n",
      "F1 Score: 54.54545454545454\n"
     ]
    }
   ],
   "source": [
    "# Validation \n",
    "accuracy(y_train_valid, pred_valid)\n",
    "precision(y_train_valid, pred_valid)\n",
    "recall(y_train_valid, pred_valid)\n",
    "f1(y_train_valid, pred_valid)"
   ]
  },
  {
   "cell_type": "code",
   "execution_count": 18,
   "metadata": {},
   "outputs": [
    {
     "data": {
      "text/plain": [
       "<sklearn.metrics._plot.confusion_matrix.ConfusionMatrixDisplay at 0x134a3b940>"
      ]
     },
     "execution_count": 18,
     "metadata": {},
     "output_type": "execute_result"
    },
    {
     "data": {
      "image/png": "[encoded data removed]",
      "text/plain": [
       "<Figure size 640x480 with 2 Axes>"
      ]
     },
     "metadata": {},
     "output_type": "display_data"
    }
   ],
   "source": [
    "ConfusionMatrixDisplay.from_predictions(y_test, pred_test)"
   ]
  },
  {
   "cell_type": "markdown",
   "metadata": {},
   "source": [
    "According to the confusion matrix, we see that the High Growth not been predicted properly, followed by Moderate Growth. This is also a problem that comes when we self-emerge the dataset."
   ]
  },
  {
   "cell_type": "code",
   "execution_count": 19,
   "metadata": {},
   "outputs": [
    {
     "data": {
      "text/plain": [
       "<sklearn.metrics._plot.confusion_matrix.ConfusionMatrixDisplay at 0x134daa830>"
      ]
     },
     "execution_count": 19,
     "metadata": {},
     "output_type": "execute_result"
    },
    {
     "data": {
      "image/png": "[encoded data removed]",
      "text/plain": [
       "<Figure size 640x480 with 2 Axes>"
      ]
     },
     "metadata": {},
     "output_type": "display_data"
    }
   ],
   "source": [
    "ConfusionMatrixDisplay.from_predictions(y_train, pred_train)"
   ]
  },
  {
   "cell_type": "markdown",
   "metadata": {},
   "source": [
    "In the training data, Moderate Growth have been misslabelled and even the Very high Growth categories."
   ]
  },
  {
   "cell_type": "markdown",
   "metadata": {},
   "source": [
    "## Naive Bayes for Textual Data data"
   ]
  },
  {
   "cell_type": "markdown",
   "metadata": {},
   "source": [
    "Understanding the textual data is also just as important since the textual data gives us a lot of information about whatever is happening in terms of the public opinion which is extremely important from the point of view of the data. Understanding and carefully making sure to categorise this is important as well. For this data, we have used the textual data that has been retrieved from the Reddit PRAW wrapper and has been labelled using the Sentiment Intensity Analyser. "
   ]
  },
  {
   "cell_type": "code",
   "execution_count": 20,
   "metadata": {},
   "outputs": [],
   "source": [
    "finaldf=pd.read_csv('../data/sentiment.csv')"
   ]
  },
  {
   "cell_type": "code",
   "execution_count": 21,
   "metadata": {},
   "outputs": [
    {
     "data": {
      "text/html": [
       "<div>\n",
       "<style scoped>\n",
       "    .dataframe tbody tr th:only-of-type {\n",
       "        vertical-align: middle;\n",
       "    }\n",
       "\n",
       "    .dataframe tbody tr th {\n",
       "        vertical-align: top;\n",
       "    }\n",
       "\n",
       "    .dataframe thead th {\n",
       "        text-align: right;\n",
       "    }\n",
       "</style>\n",
       "<table border=\"1\" class=\"dataframe\">\n",
       "  <thead>\n",
       "    <tr style=\"text-align: right;\">\n",
       "      <th></th>\n",
       "      <th>Unnamed: 0</th>\n",
       "      <th>cleaned_tweets</th>\n",
       "      <th>label</th>\n",
       "    </tr>\n",
       "  </thead>\n",
       "  <tbody>\n",
       "    <tr>\n",
       "      <th>0</th>\n",
       "      <td>0</td>\n",
       "      <td>burn flag</td>\n",
       "      <td>0</td>\n",
       "    </tr>\n",
       "    <tr>\n",
       "      <th>1</th>\n",
       "      <td>1</td>\n",
       "      <td>plan kill petro dollar run manipulated western...</td>\n",
       "      <td>-1</td>\n",
       "    </tr>\n",
       "    <tr>\n",
       "      <th>2</th>\n",
       "      <td>2</td>\n",
       "      <td>difficult know whats going come summit next we...</td>\n",
       "      <td>-1</td>\n",
       "    </tr>\n",
       "    <tr>\n",
       "      <th>3</th>\n",
       "      <td>3</td>\n",
       "      <td>lot unpack brics would bring table officially ...</td>\n",
       "      <td>1</td>\n",
       "    </tr>\n",
       "    <tr>\n",
       "      <th>4</th>\n",
       "      <td>4</td>\n",
       "      <td>nice feel way thats brics supped make feel lik...</td>\n",
       "      <td>1</td>\n",
       "    </tr>\n",
       "    <tr>\n",
       "      <th>5</th>\n",
       "      <td>5</td>\n",
       "      <td>seems like well ahead schedule already 50 perc...</td>\n",
       "      <td>1</td>\n",
       "    </tr>\n",
       "    <tr>\n",
       "      <th>6</th>\n",
       "      <td>6</td>\n",
       "      <td>yeah precisely fully explained today family me...</td>\n",
       "      <td>1</td>\n",
       "    </tr>\n",
       "    <tr>\n",
       "      <th>7</th>\n",
       "      <td>7</td>\n",
       "      <td>watched lecture school predicted global south ...</td>\n",
       "      <td>1</td>\n",
       "    </tr>\n",
       "    <tr>\n",
       "      <th>8</th>\n",
       "      <td>8</td>\n",
       "      <td>think hope happens sooner rather later live eu...</td>\n",
       "      <td>1</td>\n",
       "    </tr>\n",
       "    <tr>\n",
       "      <th>9</th>\n",
       "      <td>9</td>\n",
       "      <td>supposed happen week hold boys</td>\n",
       "      <td>0</td>\n",
       "    </tr>\n",
       "  </tbody>\n",
       "</table>\n",
       "</div>"
      ],
      "text/plain": [
       "   Unnamed: 0                                     cleaned_tweets  label\n",
       "0           0                                          burn flag      0\n",
       "1           1  plan kill petro dollar run manipulated western...     -1\n",
       "2           2  difficult know whats going come summit next we...     -1\n",
       "3           3  lot unpack brics would bring table officially ...      1\n",
       "4           4  nice feel way thats brics supped make feel lik...      1\n",
       "5           5  seems like well ahead schedule already 50 perc...      1\n",
       "6           6  yeah precisely fully explained today family me...      1\n",
       "7           7  watched lecture school predicted global south ...      1\n",
       "8           8  think hope happens sooner rather later live eu...      1\n",
       "9           9                     supposed happen week hold boys      0"
      ]
     },
     "execution_count": 21,
     "metadata": {},
     "output_type": "execute_result"
    }
   ],
   "source": [
    "finaldf.head(10)"
   ]
  },
  {
   "cell_type": "code",
   "execution_count": 26,
   "metadata": {},
   "outputs": [
    {
     "data": {
      "text/html": [
       "<div>\n",
       "<style scoped>\n",
       "    .dataframe tbody tr th:only-of-type {\n",
       "        vertical-align: middle;\n",
       "    }\n",
       "\n",
       "    .dataframe tbody tr th {\n",
       "        vertical-align: top;\n",
       "    }\n",
       "\n",
       "    .dataframe thead th {\n",
       "        text-align: right;\n",
       "    }\n",
       "</style>\n",
       "<table border=\"1\" class=\"dataframe\">\n",
       "  <thead>\n",
       "    <tr style=\"text-align: right;\">\n",
       "      <th></th>\n",
       "      <th>cleaned_tweets</th>\n",
       "      <th>label</th>\n",
       "    </tr>\n",
       "  </thead>\n",
       "  <tbody>\n",
       "    <tr>\n",
       "      <th>0</th>\n",
       "      <td>burn flag</td>\n",
       "      <td>0</td>\n",
       "    </tr>\n",
       "    <tr>\n",
       "      <th>1</th>\n",
       "      <td>plan kill petro dollar run manipulated western...</td>\n",
       "      <td>-1</td>\n",
       "    </tr>\n",
       "    <tr>\n",
       "      <th>2</th>\n",
       "      <td>difficult know whats going come summit next we...</td>\n",
       "      <td>-1</td>\n",
       "    </tr>\n",
       "    <tr>\n",
       "      <th>3</th>\n",
       "      <td>lot unpack brics would bring table officially ...</td>\n",
       "      <td>1</td>\n",
       "    </tr>\n",
       "    <tr>\n",
       "      <th>4</th>\n",
       "      <td>nice feel way thats brics supped make feel lik...</td>\n",
       "      <td>1</td>\n",
       "    </tr>\n",
       "    <tr>\n",
       "      <th>5</th>\n",
       "      <td>seems like well ahead schedule already 50 perc...</td>\n",
       "      <td>1</td>\n",
       "    </tr>\n",
       "    <tr>\n",
       "      <th>6</th>\n",
       "      <td>yeah precisely fully explained today family me...</td>\n",
       "      <td>1</td>\n",
       "    </tr>\n",
       "    <tr>\n",
       "      <th>7</th>\n",
       "      <td>watched lecture school predicted global south ...</td>\n",
       "      <td>1</td>\n",
       "    </tr>\n",
       "    <tr>\n",
       "      <th>8</th>\n",
       "      <td>think hope happens sooner rather later live eu...</td>\n",
       "      <td>1</td>\n",
       "    </tr>\n",
       "    <tr>\n",
       "      <th>9</th>\n",
       "      <td>supposed happen week hold boys</td>\n",
       "      <td>0</td>\n",
       "    </tr>\n",
       "  </tbody>\n",
       "</table>\n",
       "</div>"
      ],
      "text/plain": [
       "                                      cleaned_tweets  label\n",
       "0                                          burn flag      0\n",
       "1  plan kill petro dollar run manipulated western...     -1\n",
       "2  difficult know whats going come summit next we...     -1\n",
       "3  lot unpack brics would bring table officially ...      1\n",
       "4  nice feel way thats brics supped make feel lik...      1\n",
       "5  seems like well ahead schedule already 50 perc...      1\n",
       "6  yeah precisely fully explained today family me...      1\n",
       "7  watched lecture school predicted global south ...      1\n",
       "8  think hope happens sooner rather later live eu...      1\n",
       "9                     supposed happen week hold boys      0"
      ]
     },
     "execution_count": 26,
     "metadata": {},
     "output_type": "execute_result"
    }
   ],
   "source": [
    "\n",
    "finaldf = finaldf.loc[:, ['cleaned_tweets', 'label']] \n",
    "finaldf.head(10)"
   ]
  },
  {
   "cell_type": "code",
   "execution_count": 27,
   "metadata": {},
   "outputs": [
    {
     "name": "stdout",
     "output_type": "stream",
     "text": [
      "Train data    :(96,)\n",
      "Test data     :(24,)\n",
      "Train Output  :(96,)\n",
      "Test Output   :(24,)\n",
      "Valid Train data    :(12,)\n",
      "Valid Test data     :(12,)\n",
      "Valid Train Output  :(12,)\n",
      "Valid Test Output   :(12,)\n"
     ]
    }
   ],
   "source": [
    "\n",
    "# Assuming you have a DataFrame with 'text' and 'label' columns\n",
    "X = finaldf['cleaned_tweets']  # Text data\n",
    "Y = finaldf['label']  # Target labels\n",
    "\n",
    "X_train, X_test, y_train, y_test = train_test_split(X, Y, random_state=42, test_size=0.2)\n",
    "x_train_valid, x_valid_test, y_train_valid, y_valid_test = train_test_split(X_test, y_test, test_size=0.5, random_state=0)\n",
    "print('Train data    :'+str(X_train.shape))\n",
    "print('Test data     :'+str(X_test.shape))\n",
    "print('Train Output  :'+str(y_train.shape))\n",
    "print('Test Output   :'+str(y_test.shape))\n",
    "print('Valid Train data    :'+str(x_train_valid.shape))\n",
    "print('Valid Test data     :'+str(x_valid_test.shape))\n",
    "print('Valid Train Output  :'+str(y_train_valid.shape))\n",
    "print('Valid Test Output   :'+str(y_valid_test.shape))"
   ]
  },
  {
   "cell_type": "markdown",
   "metadata": {},
   "source": [
    "I divided the data into training, testing and validation. Training accounts for 80% of the data, testing accounts for 20% of the data and validation accounts for 50% of the data."
   ]
  },
  {
   "cell_type": "markdown",
   "metadata": {},
   "source": [
    "#### Feature extraction using TF-IDF\n",
    "\n",
    "Term Frequency-Inverse Document Frequency, or TF-IDF, is a critical text analysis technique used to determine the significance of words in texts. It allocates numerical values to words based on their frequency in a document and rarity in a set of documents. TF-IDF aids in ranking and finding relevant texts, extracting key information, and reducing the dimensionality of text data by assigning higher scores to terms that are both frequent in the document and unique to it. Since my data contains information which can have strong sentiments associated to it, I utilised it."
   ]
  },
  {
   "cell_type": "code",
   "execution_count": 30,
   "metadata": {},
   "outputs": [],
   "source": [
    "\n",
    "tfidf_vectorizer = TfidfVectorizer()\n",
    "X_train_tfidf = tfidf_vectorizer.fit_transform(X_train)\n",
    "X_test_tfidf = tfidf_vectorizer.transform(X_test)\n",
    "x_train_valid_tfidf= tfidf_vectorizer.transform(x_train_valid)"
   ]
  },
  {
   "cell_type": "code",
   "execution_count": 31,
   "metadata": {},
   "outputs": [],
   "source": [
    "\n",
    "mnb = MultinomialNB()\n",
    "mnb.fit(X_train_tfidf, y_train)\n",
    "\n",
    "# training data\n",
    "y_pred_train = mnb.predict(X_train_tfidf)\n",
    "\n",
    "# testing data\n",
    "y_pred_test = mnb.predict(X_test_tfidf)\n",
    "\n",
    "#validation\n",
    "y_pred_val = mnb.predict(x_train_valid_tfidf)"
   ]
  },
  {
   "cell_type": "markdown",
   "metadata": {},
   "source": [
    "I utilised Multinomial Naive Bayes as it helps in textual classification concerning sentiment analysis. The values for accuracy, precision, recall and F1 have been calculated. It is seen that Training and Testing perform equally well, meaning there is no overfitting or underfitting seen."
   ]
  },
  {
   "cell_type": "code",
   "execution_count": 32,
   "metadata": {},
   "outputs": [
    {
     "name": "stdout",
     "output_type": "stream",
     "text": [
      "Training Set Metrics:\n",
      "Accuracy: 0.6354166666666666\n",
      "Precision Score: 0.6354166666666666\n",
      "Recall Score: 0.6354166666666666\n",
      "F1 Score: 0.6354166666666666\n"
     ]
    }
   ],
   "source": [
    "accuracy_train = accuracy_score(y_train, y_pred_train)\n",
    "precision_train = precision_score(y_train, y_pred_train, average=\"micro\")\n",
    "recall_train = recall_score(y_train, y_pred_train, average=\"micro\")\n",
    "f1_train = f1_score(y_train, y_pred_train, average=\"micro\")\n",
    "\n",
    "print(\"Training Set Metrics:\")\n",
    "print(\"Accuracy:\", accuracy_train)\n",
    "print(\"Precision Score:\", precision_train)\n",
    "print(\"Recall Score:\", recall_train)\n",
    "print(\"F1 Score:\", f1_train)"
   ]
  },
  {
   "cell_type": "code",
   "execution_count": 33,
   "metadata": {},
   "outputs": [
    {
     "name": "stdout",
     "output_type": "stream",
     "text": [
      "Testing Set Metrics:\n",
      "Accuracy: 63.541666666666664\n",
      "Precision Score: 63.541666666666664\n",
      "Recall Score: 63.541666666666664\n",
      "F1 Score: 63.541666666666664\n"
     ]
    }
   ],
   "source": [
    "accuracy_test = accuracy_score(y_test, y_pred_test)\n",
    "precision_test = precision_score(y_test, y_pred_test, average=\"micro\")\n",
    "recall_test = recall_score(y_test, y_pred_test, average=\"micro\")\n",
    "f1_test = f1_score(y_test, y_pred_test, average=\"micro\")\n",
    "\n",
    "print(\"Testing Set Metrics:\")\n",
    "print(\"Accuracy:\", accuracy_train*100)\n",
    "print(\"Precision Score:\", precision_train*100)\n",
    "print(\"Recall Score:\", recall_train*100)\n",
    "print(\"F1 Score:\", f1_train*100)"
   ]
  },
  {
   "cell_type": "code",
   "execution_count": 35,
   "metadata": {},
   "outputs": [
    {
     "data": {
      "text/plain": [
       "<sklearn.metrics._plot.confusion_matrix.ConfusionMatrixDisplay at 0x137948250>"
      ]
     },
     "execution_count": 35,
     "metadata": {},
     "output_type": "execute_result"
    },
    {
     "data": {
      "image/png": "[encoded data removed]",
      "text/plain": [
       "<Figure size 640x480 with 2 Axes>"
      ]
     },
     "metadata": {},
     "output_type": "display_data"
    }
   ],
   "source": [
    "ConfusionMatrixDisplay.from_predictions(y_train, y_pred_train)\n"
   ]
  },
  {
   "cell_type": "markdown",
   "metadata": {},
   "source": [
    "For training dataset, if you see, the values have been labelled correctly but the 17 labels with 0 indicating no opinion has been predicted as 1 which means a positive sentiment. And similarly the negative sentiment has been predicting as positive sentiment."
   ]
  },
  {
   "cell_type": "code",
   "execution_count": 36,
   "metadata": {},
   "outputs": [
    {
     "data": {
      "text/plain": [
       "<sklearn.metrics._plot.confusion_matrix.ConfusionMatrixDisplay at 0x137a0fc10>"
      ]
     },
     "execution_count": 36,
     "metadata": {},
     "output_type": "execute_result"
    },
    {
     "data": {
      "image/png": "[encoded data removed]",
      "text/plain": [
       "<Figure size 640x480 with 2 Axes>"
      ]
     },
     "metadata": {},
     "output_type": "display_data"
    }
   ],
   "source": [
    "ConfusionMatrixDisplay.from_predictions(y_test, y_pred_test)"
   ]
  },
  {
   "cell_type": "markdown",
   "metadata": {},
   "source": [
    "For testing dataset, if you see, the values have been labelled correctly but the 6 labels with 0 indicating no opinion has been predicted as 1 which means a positive sentiment. 6 of neutral sentiments with 0 have also been predicted as 1. "
   ]
  },
  {
   "cell_type": "markdown",
   "metadata": {},
   "source": [
    "Both textual and quantitative naive have shown its efficiency in predicting categorical class, however, this also provides a que into further development and analysis of this project to work on this more and utilise better feature selection and feature engineering methods to increase the overall metrics."
   ]
  }
 ],
 "metadata": {
  "kernelspec": {
   "display_name": "base",
   "language": "python",
   "name": "python3"
  },
  "language_info": {
   "codemirror_mode": {
    "name": "ipython",
    "version": 3
   },
   "file_extension": ".py",
   "mimetype": "text/x-python",
   "name": "python",
   "nbconvert_exporter": "python",
   "pygments_lexer": "ipython3",
   "version": "3.10.9"
  },
  "orig_nbformat": 4
 },
 "nbformat": 4,
 "nbformat_minor": 2
}
